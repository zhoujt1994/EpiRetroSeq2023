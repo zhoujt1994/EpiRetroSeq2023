{
 "cells": [
  {
   "cell_type": "code",
   "execution_count": 8,
   "id": "a5fc432f-0444-4f2d-8f34-4c470d87c9c6",
   "metadata": {
    "execution": {
     "iopub.execute_input": "2023-03-23T10:07:24.851107Z",
     "iopub.status.busy": "2023-03-23T10:07:24.850682Z",
     "iopub.status.idle": "2023-03-23T10:07:24.856348Z",
     "shell.execute_reply": "2023-03-23T10:07:24.855384Z",
     "shell.execute_reply.started": "2023-03-23T10:07:24.851070Z"
    },
    "tags": []
   },
   "outputs": [],
   "source": [
    "import numpy as np\n",
    "import pandas as pd\n",
    "from sklearn.linear_model import LogisticRegression\n",
    "from sklearn.metrics import roc_auc_score\n",
    "import anndata\n",
    "from wmb import mm10"
   ]
  },
  {
   "cell_type": "code",
   "execution_count": 9,
   "id": "99fc00d8-952b-438a-b5e5-6d1de7b55094",
   "metadata": {
    "execution": {
     "iopub.execute_input": "2023-03-23T10:07:25.947220Z",
     "iopub.status.busy": "2023-03-23T10:07:25.946784Z",
     "iopub.status.idle": "2023-03-23T10:07:25.952428Z",
     "shell.execute_reply": "2023-03-23T10:07:25.951311Z",
     "shell.execute_reply.started": "2023-03-23T10:07:25.947177Z"
    },
    "tags": [
     "parameters"
    ]
   },
   "outputs": [],
   "source": [
    "group_name = \"MOp-IC\""
   ]
  },
  {
   "cell_type": "code",
   "execution_count": 10,
   "id": "ba47ffe2-b408-4fc3-831e-4ffda76df85c",
   "metadata": {
    "execution": {
     "iopub.execute_input": "2023-03-23T10:07:26.733761Z",
     "iopub.status.busy": "2023-03-23T10:07:26.733272Z",
     "iopub.status.idle": "2023-03-23T10:07:26.739917Z",
     "shell.execute_reply": "2023-03-23T10:07:26.738682Z",
     "shell.execute_reply.started": "2023-03-23T10:07:26.733725Z"
    },
    "tags": []
   },
   "outputs": [],
   "source": [
    "region, gene_group = group_name.split('-')\n"
   ]
  },
  {
   "cell_type": "code",
   "execution_count": 11,
   "id": "ac56f879-404e-48c3-bc90-ceb5332a7a4b",
   "metadata": {
    "execution": {
     "iopub.execute_input": "2023-03-23T10:07:27.354008Z",
     "iopub.status.busy": "2023-03-23T10:07:27.353636Z",
     "iopub.status.idle": "2023-03-23T10:07:27.361832Z",
     "shell.execute_reply": "2023-03-23T10:07:27.360434Z",
     "shell.execute_reply.started": "2023-03-23T10:07:27.353981Z"
    },
    "tags": []
   },
   "outputs": [
    {
     "name": "stdout",
     "output_type": "stream",
     "text": [
      "24\n"
     ]
    }
   ],
   "source": [
    "tarall = [\n",
    "    \"PFC\",\n",
    "    \"MOp\",\n",
    "    \"SSp\",\n",
    "    \"ACA\",\n",
    "    \"AI\",\n",
    "    \"AUDp\",\n",
    "    \"RSP\",\n",
    "    \"PTLp\",\n",
    "    \"VISp\",\n",
    "    \"MOB\",\n",
    "    \"ENT\",\n",
    "    \"HPF\",\n",
    "    \"PIR\",\n",
    "    \"AMY\",\n",
    "    \"STR\",\n",
    "    \"PAL\",\n",
    "    \"TH\",\n",
    "    \"HY\",\n",
    "    \"SC\",\n",
    "    \"VTA\",\n",
    "    \"P\",\n",
    "    \"MY\",\n",
    "    \"CBN\",\n",
    "    \"CBX\",\n",
    "]\n",
    "print(len(tarall))\n"
   ]
  },
  {
   "cell_type": "code",
   "execution_count": 12,
   "id": "340bafde-0bd1-4106-b98f-c4970fc99de6",
   "metadata": {
    "execution": {
     "iopub.execute_input": "2023-03-23T10:07:30.134201Z",
     "iopub.status.busy": "2023-03-23T10:07:30.133776Z",
     "iopub.status.idle": "2023-03-23T10:07:30.331702Z",
     "shell.execute_reply": "2023-03-23T10:07:30.330609Z",
     "shell.execute_reply.started": "2023-03-23T10:07:30.134170Z"
    },
    "tags": []
   },
   "outputs": [
    {
     "data": {
      "text/plain": [
       "AnnData object with n_obs × n_vars = 2568 × 19012\n",
       "    obs: 'mCCCFrac', 'mCGFrac', 'mCHFrac', 'FinalmCReads', 'Plate', 'PlateNormCov', 'Sample', 'SubRegion', 'DissectionRegion', 'Target', 'Sex', 'L1', 'L2', 'L3', 'L4', 'L1_annot', 'PassTargetFilter'\n",
       "    var: 'chrom', 'end', 'start'\n",
       "    obsm: 'X_pca'"
      ]
     },
     "execution_count": 12,
     "metadata": {},
     "output_type": "execute_result"
    }
   ],
   "source": [
    "adata = anndata.read_h5ad(f'/home/jzhou_salk_edu/sky_workdir/230129_targetpair_roc/data_new/{region}_RS2_geneCH.h5ad')\n",
    "adata\n"
   ]
  },
  {
   "cell_type": "code",
   "execution_count": 13,
   "id": "014a9e40-76c4-4f5c-b520-6cf61085d4f1",
   "metadata": {
    "execution": {
     "iopub.execute_input": "2023-03-23T10:07:34.189979Z",
     "iopub.status.busy": "2023-03-23T10:07:34.189544Z",
     "iopub.status.idle": "2023-03-23T10:07:34.200101Z",
     "shell.execute_reply": "2023-03-23T10:07:34.199038Z",
     "shell.execute_reply.started": "2023-03-23T10:07:34.189944Z"
    },
    "tags": []
   },
   "outputs": [
    {
     "data": {
      "text/plain": [
       "['SSp', 'ACA', 'AI', 'AUDp', 'STR', 'TH', 'SC', 'VTA', 'P', 'MY']"
      ]
     },
     "execution_count": 13,
     "metadata": {},
     "output_type": "execute_result"
    }
   ],
   "source": [
    "target_list = [xx for xx in tarall if xx in adata.obs[\"Target\"].values]\n",
    "nt = len(target_list)\n",
    "target_list\n"
   ]
  },
  {
   "cell_type": "code",
   "execution_count": 14,
   "id": "53c72e3c-3944-4420-b8b7-a8f1dab035b6",
   "metadata": {
    "execution": {
     "iopub.execute_input": "2023-03-23T10:07:56.762808Z",
     "iopub.status.busy": "2023-03-23T10:07:56.761984Z",
     "iopub.status.idle": "2023-03-23T10:07:56.824078Z",
     "shell.execute_reply": "2023-03-23T10:07:56.823141Z",
     "shell.execute_reply.started": "2023-03-23T10:07:56.762773Z"
    },
    "tags": []
   },
   "outputs": [
    {
     "name": "stdout",
     "output_type": "stream",
     "text": [
      "(2568, 267)\n"
     ]
    }
   ],
   "source": [
    "if gene_group=='TF':\n",
    "    selg = adata.var.index.isin(mm10.get_tf_gene_ids())\n",
    "elif gene_group=='NT':\n",
    "    selg = pd.read_csv('/rs2/genelist/NTReceptor_Tasic.txt', header=None, index_col=0)\n",
    "    selg = adata.var.index.map(mm10.gene_id_to_name).isin(selg.index)\n",
    "elif gene_group=='IC':\n",
    "    selg = pd.concat([pd.read_csv('/rs2/genelist/IC.txt', header=None, index_col=0), pd.read_csv('/rs2/genelist/IC_Tasic.txt', header=None, index_col=0)]).drop_duplicates()\n",
    "    selg = adata.var.index.map(mm10.gene_id_to_name).isin(selg.index)\n",
    "elif gene_group=='NP':\n",
    "    selg = pd.concat([pd.read_csv('/rs2/genelist/NPP-Receptor_Smith.txt', header=None, index_col=0), pd.read_csv('/rs2/genelist/NPP-Receptor_Tasic.txt', header=None, index_col=0)]).drop_duplicates()\n",
    "    selg = adata.var.index.map(mm10.gene_id_to_name).isin(selg.index)\n",
    "elif gene_group=='GO':\n",
    "    selg = pd.concat([pd.read_csv('/rs2/genelist/GO0050808_SynapseOrganization.txt', header=None, index_col=0), pd.read_csv('/rs2/genelist/GO0031175_NeuronProjectionDevelopment.txt', header=None, index_col=0)]).drop_duplicates()\n",
    "    selg = adata.var.index.map(mm10.gene_id_to_name).isin(selg.index)\n",
    "\n",
    "adata = adata[:, selg].copy()\n",
    "print(adata.shape)"
   ]
  },
  {
   "cell_type": "code",
   "execution_count": 8,
   "id": "7c16ce55-9b08-429a-9621-85ce7051d08f",
   "metadata": {
    "execution": {
     "iopub.execute_input": "2023-03-23T08:45:46.221201Z",
     "iopub.status.busy": "2023-03-23T08:45:46.220912Z",
     "iopub.status.idle": "2023-03-23T08:47:51.503032Z",
     "shell.execute_reply": "2023-03-23T08:47:51.502154Z",
     "shell.execute_reply.started": "2023-03-23T08:45:46.221183Z"
    },
    "tags": []
   },
   "outputs": [
    {
     "name": "stdout",
     "output_type": "stream",
     "text": [
      "0\n",
      "1\n",
      "2\n",
      "3\n",
      "4\n",
      "5\n",
      "6\n",
      "7\n",
      "8\n",
      "9\n",
      "10\n",
      "11\n",
      "12\n",
      "13\n",
      "14\n",
      "15\n",
      "16\n",
      "17\n",
      "18\n",
      "19\n",
      "20\n",
      "21\n",
      "22\n",
      "23\n",
      "24\n",
      "25\n",
      "26\n",
      "27\n",
      "28\n",
      "29\n",
      "30\n",
      "31\n",
      "32\n",
      "33\n",
      "34\n",
      "35\n",
      "36\n",
      "37\n",
      "38\n",
      "39\n",
      "40\n",
      "41\n",
      "42\n",
      "43\n",
      "44\n",
      "45\n",
      "46\n",
      "47\n",
      "48\n",
      "49\n"
     ]
    }
   ],
   "source": [
    "clf = LogisticRegression()\n",
    "result = np.zeros((nt, nt, 2, 50))\n",
    "for t in range(50):\n",
    "    np.random.seed(t)\n",
    "    adata.obs['Replicate'] = 'rep2'\n",
    "    for i in range(nt):\n",
    "        tar = target_list[i]\n",
    "        selc = np.where(adata.obs['Target']==tar)[0]\n",
    "        selc = np.random.choice(selc, len(selc)//2, False)\n",
    "        adata.obs.iloc[selc, -1] = 'rep1'\n",
    "    # print(adata.obs['Replicate'].value_counts())\n",
    "    for i in range(nt-1):\n",
    "        for j in range(i+1,  nt):\n",
    "            tar1, tar2 = target_list[i], target_list[j]\n",
    "            selc = adata.obs['Target'].isin([tar1, tar2])\n",
    "            data = adata.X[selc]\n",
    "            label = (adata.obs.loc[selc, 'Target']==tar1).values.astype(int)\n",
    "            for k,s in enumerate(['rep1', 'rep2']):\n",
    "                trainfilter = (adata.obs.loc[selc, 'Replicate']==s)\n",
    "                pred = clf.fit(data[trainfilter], label[trainfilter]).predict_proba(data[~trainfilter])[:,1]\n",
    "                result[i,j,k,t] = roc_auc_score(label[~trainfilter], pred)\n",
    "    print(t)\n",
    "    "
   ]
  },
  {
   "cell_type": "code",
   "execution_count": 9,
   "id": "38d29c6a-643f-4b8a-8f26-86159cd6cbad",
   "metadata": {
    "execution": {
     "iopub.execute_input": "2023-03-23T08:47:51.529136Z",
     "iopub.status.busy": "2023-03-23T08:47:51.528957Z",
     "iopub.status.idle": "2023-03-23T08:47:51.533894Z",
     "shell.execute_reply": "2023-03-23T08:47:51.533267Z",
     "shell.execute_reply.started": "2023-03-23T08:47:51.529119Z"
    },
    "tags": []
   },
   "outputs": [],
   "source": [
    "result_mean = pd.DataFrame(result.mean(axis=(2,3)), index=target_list, columns=target_list)\n",
    "result_std = pd.DataFrame(result.std(axis=(2,3)), index=target_list, columns=target_list)\n"
   ]
  },
  {
   "cell_type": "code",
   "execution_count": 10,
   "id": "bf6f5a70-2d9f-4b92-bec8-1bed2f8c6ad2",
   "metadata": {
    "execution": {
     "iopub.execute_input": "2023-03-23T08:47:51.535272Z",
     "iopub.status.busy": "2023-03-23T08:47:51.535083Z",
     "iopub.status.idle": "2023-03-23T08:47:51.568208Z",
     "shell.execute_reply": "2023-03-23T08:47:51.567466Z",
     "shell.execute_reply.started": "2023-03-23T08:47:51.535256Z"
    },
    "tags": []
   },
   "outputs": [],
   "source": [
    "result_mean.to_hdf(f'/home/jzhou_salk_edu/sky_workdir/230322_targetpair_roc_GO/result_new/{group_name}-comprep_mean.hdf', key='data')\n",
    "result_std.to_hdf(f'/home/jzhou_salk_edu/sky_workdir/230322_targetpair_roc_GO/result_new/{group_name}-comprep_std.hdf', key='data')\n"
   ]
  },
  {
   "cell_type": "code",
   "execution_count": null,
   "id": "d745df82-9ddb-402d-883e-64f1bfe5979e",
   "metadata": {},
   "outputs": [],
   "source": []
  },
  {
   "cell_type": "code",
   "execution_count": null,
   "id": "6cb144e6-5c4e-4269-b756-cde7a19eb9be",
   "metadata": {},
   "outputs": [],
   "source": []
  }
 ],
 "metadata": {
  "kernelspec": {
   "display_name": "Python 3 (ipykernel)",
   "language": "python",
   "name": "python3"
  },
  "language_info": {
   "codemirror_mode": {
    "name": "ipython",
    "version": 3
   },
   "file_extension": ".py",
   "mimetype": "text/x-python",
   "name": "python",
   "nbconvert_exporter": "python",
   "pygments_lexer": "ipython3",
   "version": "3.7.12"
  }
 },
 "nbformat": 4,
 "nbformat_minor": 5
}
