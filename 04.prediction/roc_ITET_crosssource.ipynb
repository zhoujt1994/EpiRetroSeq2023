{
 "cells": [
  {
   "cell_type": "code",
   "execution_count": 1,
   "id": "6b789876-3325-44c0-a91f-9fb9b18890a6",
   "metadata": {
    "execution": {
     "iopub.execute_input": "2023-02-07T23:42:03.868411Z",
     "iopub.status.busy": "2023-02-07T23:42:03.867707Z",
     "iopub.status.idle": "2023-02-07T23:42:04.673415Z",
     "shell.execute_reply": "2023-02-07T23:42:04.672525Z",
     "shell.execute_reply.started": "2023-02-07T23:42:03.868383Z"
    }
   },
   "outputs": [],
   "source": [
    "import anndata\n",
    "import numpy as np\n",
    "import pandas as pd\n",
    "from sklearn.linear_model import LogisticRegression\n",
    "from sklearn.metrics import roc_auc_score"
   ]
  },
  {
   "cell_type": "code",
   "execution_count": 2,
   "id": "6e5d916b-97f8-4491-ba94-d8a7aee5f56f",
   "metadata": {
    "execution": {
     "iopub.execute_input": "2023-02-07T23:42:04.679633Z",
     "iopub.status.busy": "2023-02-07T23:42:04.679454Z",
     "iopub.status.idle": "2023-02-07T23:42:04.682624Z",
     "shell.execute_reply": "2023-02-07T23:42:04.682001Z",
     "shell.execute_reply.started": "2023-02-07T23:42:04.679617Z"
    },
    "tags": [
     "parameters"
    ]
   },
   "outputs": [],
   "source": [
    "group_name = \"MOp\""
   ]
  },
  {
   "cell_type": "code",
   "execution_count": 3,
   "id": "77ebfabf-4d0a-4cfd-a64b-e355acd82a3c",
   "metadata": {
    "execution": {
     "iopub.execute_input": "2023-02-07T23:42:04.683811Z",
     "iopub.status.busy": "2023-02-07T23:42:04.683625Z",
     "iopub.status.idle": "2023-02-07T23:42:04.689430Z",
     "shell.execute_reply": "2023-02-07T23:42:04.688793Z",
     "shell.execute_reply.started": "2023-02-07T23:42:04.683795Z"
    }
   },
   "outputs": [],
   "source": [
    "region = group_name"
   ]
  },
  {
   "cell_type": "code",
   "execution_count": 5,
   "id": "1578c233-f066-4acb-8c0b-f5c9797c0aa5",
   "metadata": {
    "execution": {
     "iopub.execute_input": "2023-02-07T23:48:06.495069Z",
     "iopub.status.busy": "2023-02-07T23:48:06.494264Z",
     "iopub.status.idle": "2023-02-07T23:48:06.499445Z",
     "shell.execute_reply": "2023-02-07T23:48:06.498824Z",
     "shell.execute_reply.started": "2023-02-07T23:48:06.495039Z"
    },
    "tags": []
   },
   "outputs": [],
   "source": [
    "tartype = {\n",
    "    \"IT\": [\n",
    "        \"PFC\",\n",
    "        \"MOp\",\n",
    "        \"SSp\",\n",
    "        \"ACA\",\n",
    "        \"AI\",\n",
    "        \"AUDp\",\n",
    "        \"RSP\",\n",
    "        \"PTLp\",\n",
    "        \"VISp\",\n",
    "        \"MOB\",\n",
    "        \"ENT\",\n",
    "        \"HPF\",\n",
    "        \"PIR\",\n",
    "        \"AMY\",\n",
    "        \"STR\",\n",
    "        \"PAL\",\n",
    "    ],\n",
    "    \"ET\": [\"TH\", \"HY\", \"SC\", \"VTA\", \"P\", \"MY\"],\n",
    "    \"CB\": [\"CBN\", \"CBX\"],\n",
    "}\n",
    "tarmap = {yy: xx for xx in tartype for yy in tartype[xx]}"
   ]
  },
  {
   "cell_type": "code",
   "execution_count": 6,
   "id": "f4202f1b-4b80-4f0a-8129-c97043d3f001",
   "metadata": {
    "execution": {
     "iopub.execute_input": "2023-02-07T23:48:06.860004Z",
     "iopub.status.busy": "2023-02-07T23:48:06.859724Z",
     "iopub.status.idle": "2023-02-07T23:48:06.864219Z",
     "shell.execute_reply": "2023-02-07T23:48:06.863597Z",
     "shell.execute_reply.started": "2023-02-07T23:48:06.859984Z"
    }
   },
   "outputs": [],
   "source": [
    "source_list = [\n",
    "    \"MOp\",\n",
    "    \"SSp\",\n",
    "    \"ACA\",\n",
    "    \"AI\",\n",
    "    \"RSP\",\n",
    "    \"AUD\",\n",
    "    \"PTLp\",\n",
    "    \"VIS\",\n",
    "    \"ENT\",\n",
    "    \"CAp\",\n",
    "    \"PIRa\",\n",
    "    \"PIRp\",\n",
    "    \"MOB\",\n",
    "    \"AON\",\n",
    "    \"PAL\",\n",
    "    \"AMY\",\n",
    "    \"THl\",\n",
    "    \"THp\",\n",
    "    \"HY\",\n",
    "    \"MRN\",\n",
    "    \"VTA\",\n",
    "    \"PAG\",\n",
    "    \"IC\",\n",
    "]"
   ]
  },
  {
   "cell_type": "code",
   "execution_count": 7,
   "id": "95c90af5-d340-4f86-8f1d-62a426e1b81e",
   "metadata": {
    "execution": {
     "iopub.execute_input": "2023-02-07T23:48:07.947652Z",
     "iopub.status.busy": "2023-02-07T23:48:07.946912Z",
     "iopub.status.idle": "2023-02-07T23:48:08.010734Z",
     "shell.execute_reply": "2023-02-07T23:48:08.010189Z",
     "shell.execute_reply.started": "2023-02-07T23:48:07.947627Z"
    }
   },
   "outputs": [
    {
     "data": {
      "text/plain": [
       "AnnData object with n_obs × n_vars = 2568 × 9906\n",
       "    obs: 'mCCCFrac', 'mCGFrac', 'mCHFrac', 'FinalmCReads', 'Plate', 'PlateNormCov', 'Sample', 'SubRegion', 'DissectionRegion', 'Target', 'Sex', 'L1', 'L2', 'L3', 'L4', 'L1_annot', 'PassTargetFilter'\n",
       "    var: 'chrom', 'end', 'start'\n",
       "    obsm: 'X_pca'"
      ]
     },
     "execution_count": 7,
     "metadata": {},
     "output_type": "execute_result"
    }
   ],
   "source": [
    "adata = anndata.read_h5ad(\n",
    "    f\"/home/jzhou_salk_edu/sky_workdir/230129_targetpair_roc/data/{region}_RS2_geneCH.h5ad\"\n",
    ")\n",
    "adata"
   ]
  },
  {
   "cell_type": "code",
   "execution_count": 8,
   "id": "a15bcf4d-cb3f-4365-82c8-f04f998c4fdf",
   "metadata": {
    "execution": {
     "iopub.execute_input": "2023-02-07T23:48:08.560165Z",
     "iopub.status.busy": "2023-02-07T23:48:08.559880Z",
     "iopub.status.idle": "2023-02-07T23:48:08.603429Z",
     "shell.execute_reply": "2023-02-07T23:48:08.602774Z",
     "shell.execute_reply.started": "2023-02-07T23:48:08.560145Z"
    }
   },
   "outputs": [
    {
     "data": {
      "text/plain": [
       "IT    1409\n",
       "ET    1159\n",
       "Name: TargetType, dtype: int64"
      ]
     },
     "execution_count": 8,
     "metadata": {},
     "output_type": "execute_result"
    }
   ],
   "source": [
    "adata.obs[\"TargetType\"] = adata.obs[\"Target\"].map(tarmap)\n",
    "adata = adata[adata.obs[\"TargetType\"] != \"CB\"].copy()\n",
    "adata.obs[\"TargetType\"].astype(str).value_counts()"
   ]
  },
  {
   "cell_type": "code",
   "execution_count": 9,
   "id": "9dd2ac6d-dc24-479e-bcc0-8bf344d68498",
   "metadata": {
    "execution": {
     "iopub.execute_input": "2023-02-07T23:48:58.286390Z",
     "iopub.status.busy": "2023-02-07T23:48:58.286072Z",
     "iopub.status.idle": "2023-02-07T23:49:00.065893Z",
     "shell.execute_reply": "2023-02-07T23:49:00.065184Z",
     "shell.execute_reply.started": "2023-02-07T23:48:58.286367Z"
    }
   },
   "outputs": [
    {
     "name": "stderr",
     "output_type": "stream",
     "text": [
      "/opt/conda/lib/python3.7/site-packages/sklearn/linear_model/_logistic.py:818: ConvergenceWarning: lbfgs failed to converge (status=1):\n",
      "STOP: TOTAL NO. of ITERATIONS REACHED LIMIT.\n",
      "\n",
      "Increase the number of iterations (max_iter) or scale the data as shown in:\n",
      "    https://scikit-learn.org/stable/modules/preprocessing.html\n",
      "Please also refer to the documentation for alternative solver options:\n",
      "    https://scikit-learn.org/stable/modules/linear_model.html#logistic-regression\n",
      "  extra_warning_msg=_LOGISTIC_SOLVER_CONVERGENCE_MSG,\n"
     ]
    },
    {
     "data": {
      "text/plain": [
       "LogisticRegression()"
      ]
     },
     "execution_count": 9,
     "metadata": {},
     "output_type": "execute_result"
    }
   ],
   "source": [
    "label = (adata.obs[\"TargetType\"] == \"IT\").values.astype(int)\n",
    "result = {}\n",
    "clf = LogisticRegression()\n",
    "clf.fit(adata.X, label)"
   ]
  },
  {
   "cell_type": "code",
   "execution_count": 12,
   "id": "2f010f91-e42d-4f70-9d92-6b659daafb09",
   "metadata": {
    "execution": {
     "iopub.execute_input": "2023-02-07T23:52:10.544106Z",
     "iopub.status.busy": "2023-02-07T23:52:10.543755Z",
     "iopub.status.idle": "2023-02-07T23:52:13.234783Z",
     "shell.execute_reply": "2023-02-07T23:52:13.233981Z",
     "shell.execute_reply.started": "2023-02-07T23:52:10.544080Z"
    },
    "tags": []
   },
   "outputs": [
    {
     "name": "stdout",
     "output_type": "stream",
     "text": [
      "SSp\n",
      "ACA\n",
      "AI\n",
      "RSP\n",
      "AUD\n",
      "PTLp\n",
      "VIS\n",
      "ENT\n",
      "CAp\n",
      "PIRa\n",
      "PIRp\n",
      "MOB\n",
      "AON\n",
      "PAL\n",
      "AMY\n",
      "THl\n",
      "THp\n",
      "HY\n",
      "MRN\n",
      "VTA\n",
      "PAG\n",
      "IC\n"
     ]
    }
   ],
   "source": [
    "for xx in source_list:\n",
    "    if xx!=region:\n",
    "        adata = anndata.read_h5ad(f\"/home/jzhou_salk_edu/sky_workdir/230129_targetpair_roc/data/{xx}_RS2_geneCH.h5ad\")\n",
    "        adata.obs[\"TargetType\"] = adata.obs[\"Target\"].map(tarmap)\n",
    "        adata = adata[adata.obs[\"TargetType\"] != \"CB\"].copy()\n",
    "        adata.obs[\"TargetType\"].astype(str).value_counts()\n",
    "        label = (adata.obs[\"TargetType\"] == \"IT\").values.astype(int)\n",
    "        pred = clf.predict_proba(adata.X)[:, 1]\n",
    "        result[xx] = roc_auc_score(label, pred)\n",
    "        print(xx)"
   ]
  },
  {
   "cell_type": "code",
   "execution_count": 14,
   "id": "b2be40c7-0598-498d-b626-94fdc63e5d2c",
   "metadata": {
    "execution": {
     "iopub.execute_input": "2023-02-07T23:52:57.223677Z",
     "iopub.status.busy": "2023-02-07T23:52:57.223297Z",
     "iopub.status.idle": "2023-02-07T23:52:57.256848Z",
     "shell.execute_reply": "2023-02-07T23:52:57.256108Z",
     "shell.execute_reply.started": "2023-02-07T23:52:57.223650Z"
    },
    "tags": []
   },
   "outputs": [],
   "source": [
    "result = pd.DataFrame({region:result}).T\n",
    "result.to_hdf(f'/home/jzhou_salk_edu/sky_workdir/230203_ITvsET/result/{region}-crosssource.hdf', key='data')\n"
   ]
  },
  {
   "cell_type": "code",
   "execution_count": null,
   "id": "cbe773f6-4485-46da-a60b-1e18fec2b65a",
   "metadata": {},
   "outputs": [],
   "source": []
  }
 ],
 "metadata": {
  "kernelspec": {
   "display_name": "Python 3 (ipykernel)",
   "language": "python",
   "name": "python3"
  },
  "language_info": {
   "codemirror_mode": {
    "name": "ipython",
    "version": 3
   },
   "file_extension": ".py",
   "mimetype": "text/x-python",
   "name": "python",
   "nbconvert_exporter": "python",
   "pygments_lexer": "ipython3",
   "version": "3.7.12"
  }
 },
 "nbformat": 4,
 "nbformat_minor": 5
}
