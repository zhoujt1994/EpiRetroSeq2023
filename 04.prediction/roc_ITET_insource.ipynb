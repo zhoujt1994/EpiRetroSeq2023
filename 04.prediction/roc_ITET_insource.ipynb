{
 "cells": [
  {
   "cell_type": "code",
   "execution_count": 1,
   "id": "a5fc432f-0444-4f2d-8f34-4c470d87c9c6",
   "metadata": {
    "execution": {
     "iopub.execute_input": "2023-02-17T09:41:20.036160Z",
     "iopub.status.busy": "2023-02-17T09:41:20.035917Z",
     "iopub.status.idle": "2023-02-17T09:41:23.398403Z",
     "shell.execute_reply": "2023-02-17T09:41:23.397667Z",
     "shell.execute_reply.started": "2023-02-17T09:41:20.036143Z"
    },
    "tags": []
   },
   "outputs": [],
   "source": [
    "import numpy as np\n",
    "import pandas as pd\n",
    "from sklearn.linear_model import LogisticRegression\n",
    "from sklearn.metrics import roc_auc_score\n",
    "import anndata\n"
   ]
  },
  {
   "cell_type": "code",
   "execution_count": 2,
   "id": "99fc00d8-952b-438a-b5e5-6d1de7b55094",
   "metadata": {
    "execution": {
     "iopub.execute_input": "2023-02-17T09:41:23.404570Z",
     "iopub.status.busy": "2023-02-17T09:41:23.404404Z",
     "iopub.status.idle": "2023-02-17T09:41:23.407419Z",
     "shell.execute_reply": "2023-02-17T09:41:23.406866Z",
     "shell.execute_reply.started": "2023-02-17T09:41:23.404555Z"
    },
    "tags": [
     "parameters"
    ]
   },
   "outputs": [],
   "source": [
    "group_name = \"MOp\""
   ]
  },
  {
   "cell_type": "code",
   "execution_count": 3,
   "id": "ba47ffe2-b408-4fc3-831e-4ffda76df85c",
   "metadata": {
    "execution": {
     "iopub.execute_input": "2023-02-17T09:41:23.408833Z",
     "iopub.status.busy": "2023-02-17T09:41:23.408650Z",
     "iopub.status.idle": "2023-02-17T09:41:23.422011Z",
     "shell.execute_reply": "2023-02-17T09:41:23.421446Z",
     "shell.execute_reply.started": "2023-02-17T09:41:23.408817Z"
    },
    "tags": []
   },
   "outputs": [],
   "source": [
    "region = group_name\n"
   ]
  },
  {
   "cell_type": "code",
   "execution_count": 4,
   "id": "ac56f879-404e-48c3-bc90-ceb5332a7a4b",
   "metadata": {
    "execution": {
     "iopub.execute_input": "2023-02-17T09:41:23.422893Z",
     "iopub.status.busy": "2023-02-17T09:41:23.422709Z",
     "iopub.status.idle": "2023-02-17T09:41:23.427478Z",
     "shell.execute_reply": "2023-02-17T09:41:23.426916Z",
     "shell.execute_reply.started": "2023-02-17T09:41:23.422862Z"
    },
    "tags": []
   },
   "outputs": [
    {
     "name": "stdout",
     "output_type": "stream",
     "text": [
      "24\n"
     ]
    }
   ],
   "source": [
    "tarall = [\n",
    "    \"PFC\",\n",
    "    \"MOp\",\n",
    "    \"SSp\",\n",
    "    \"ACA\",\n",
    "    \"AI\",\n",
    "    \"AUDp\",\n",
    "    \"RSP\",\n",
    "    \"PTLp\",\n",
    "    \"VISp\",\n",
    "    \"MOB\",\n",
    "    \"ENT\",\n",
    "    \"HPF\",\n",
    "    \"PIR\",\n",
    "    \"AMY\",\n",
    "    \"STR\",\n",
    "    \"PAL\",\n",
    "    \"TH\",\n",
    "    \"HY\",\n",
    "    \"SC\",\n",
    "    \"VTA\",\n",
    "    \"P\",\n",
    "    \"MY\",\n",
    "    \"CBN\",\n",
    "    \"CBX\",\n",
    "]\n",
    "print(len(tarall))\n"
   ]
  },
  {
   "cell_type": "code",
   "execution_count": 8,
   "id": "fac23cc3-3099-4b7b-b9a6-0e1f1ee5a004",
   "metadata": {
    "execution": {
     "iopub.execute_input": "2023-02-17T09:42:22.878990Z",
     "iopub.status.busy": "2023-02-17T09:42:22.878744Z",
     "iopub.status.idle": "2023-02-17T09:42:22.883003Z",
     "shell.execute_reply": "2023-02-17T09:42:22.882386Z",
     "shell.execute_reply.started": "2023-02-17T09:42:22.878973Z"
    },
    "tags": []
   },
   "outputs": [],
   "source": [
    "targroup = {\n",
    "    \"IT\": [\"PFC\", \"MOp\", \"SSp\", \"ACA\", \"AI\", \"AUDp\", \"RSP\", \"PTLp\", \"VISp\", \"ENT\", \"HPF\", \"PIR\", \"MOB\", \"AMY\", \"STR\", \"PAL\"],\n",
    "    \"ET\": [\"TH\", \"HY\", \"SC\", \"VTA\", \"P\", \"MY\"],\n",
    "    \"CB\": [\"CBN\", \"CBX\"]\n",
    "}\n",
    "tarmap = {yy: xx for xx in targroup for yy in targroup[xx]}\n"
   ]
  },
  {
   "cell_type": "code",
   "execution_count": 6,
   "id": "340bafde-0bd1-4106-b98f-c4970fc99de6",
   "metadata": {
    "execution": {
     "iopub.execute_input": "2023-02-17T09:41:28.551220Z",
     "iopub.status.busy": "2023-02-17T09:41:28.550963Z",
     "iopub.status.idle": "2023-02-17T09:41:30.721790Z",
     "shell.execute_reply": "2023-02-17T09:41:30.721166Z",
     "shell.execute_reply.started": "2023-02-17T09:41:28.551202Z"
    },
    "tags": []
   },
   "outputs": [
    {
     "data": {
      "text/plain": [
       "AnnData object with n_obs × n_vars = 2568 × 9906\n",
       "    obs: 'mCCCFrac', 'mCGFrac', 'mCHFrac', 'FinalmCReads', 'Plate', 'PlateNormCov', 'Sample', 'SubRegion', 'DissectionRegion', 'Target', 'Sex', 'L1', 'L2', 'L3', 'L4', 'L1_annot', 'PassTargetFilter'\n",
       "    var: 'chrom', 'end', 'start'\n",
       "    obsm: 'X_pca'"
      ]
     },
     "execution_count": 6,
     "metadata": {},
     "output_type": "execute_result"
    }
   ],
   "source": [
    "adata = anndata.read_h5ad(f'/home/jzhou_salk_edu/sky_workdir/230129_targetpair_roc/data/{region}_RS2_geneCH.h5ad')\n",
    "adata\n"
   ]
  },
  {
   "cell_type": "code",
   "execution_count": 9,
   "id": "eedfcd9d-28a1-4e85-a19e-5f5ca8d766b4",
   "metadata": {
    "execution": {
     "iopub.execute_input": "2023-02-17T09:42:29.586972Z",
     "iopub.status.busy": "2023-02-17T09:42:29.586726Z",
     "iopub.status.idle": "2023-02-17T09:42:29.594001Z",
     "shell.execute_reply": "2023-02-17T09:42:29.593414Z",
     "shell.execute_reply.started": "2023-02-17T09:42:29.586954Z"
    },
    "tags": []
   },
   "outputs": [
    {
     "data": {
      "text/plain": [
       "IT    1409\n",
       "ET    1159\n",
       "Name: TargetGroup, dtype: int64"
      ]
     },
     "execution_count": 9,
     "metadata": {},
     "output_type": "execute_result"
    }
   ],
   "source": [
    "adata.obs['TargetGroup'] = adata.obs['Target'].map(tarmap)\n",
    "adata.obs['TargetGroup'].astype(str).value_counts()\n"
   ]
  },
  {
   "cell_type": "code",
   "execution_count": 11,
   "id": "014a9e40-76c4-4f5c-b520-6cf61085d4f1",
   "metadata": {
    "execution": {
     "iopub.execute_input": "2023-02-17T09:42:54.176260Z",
     "iopub.status.busy": "2023-02-17T09:42:54.175998Z",
     "iopub.status.idle": "2023-02-17T09:42:54.181210Z",
     "shell.execute_reply": "2023-02-17T09:42:54.180680Z",
     "shell.execute_reply.started": "2023-02-17T09:42:54.176241Z"
    },
    "tags": []
   },
   "outputs": [
    {
     "data": {
      "text/plain": [
       "['IT', 'ET']"
      ]
     },
     "execution_count": 11,
     "metadata": {},
     "output_type": "execute_result"
    }
   ],
   "source": [
    "target_list = [xx for xx in ['IT', 'ET'] if xx in adata.obs[\"TargetGroup\"].values]\n",
    "nt = len(target_list)\n",
    "target_list\n"
   ]
  },
  {
   "cell_type": "code",
   "execution_count": 13,
   "id": "7c16ce55-9b08-429a-9621-85ce7051d08f",
   "metadata": {
    "execution": {
     "iopub.execute_input": "2023-02-17T09:44:18.372428Z",
     "iopub.status.busy": "2023-02-17T09:44:18.372153Z",
     "iopub.status.idle": "2023-02-17T09:45:42.858118Z",
     "shell.execute_reply": "2023-02-17T09:45:42.857354Z",
     "shell.execute_reply.started": "2023-02-17T09:44:18.372409Z"
    },
    "tags": []
   },
   "outputs": [
    {
     "name": "stdout",
     "output_type": "stream",
     "text": [
      "0 [[0.         0.94954945]\n",
      " [0.         0.        ]]\n",
      "1 [[0.         0.95033107]\n",
      " [0.         0.        ]]\n",
      "2 [[0.        0.9491833]\n",
      " [0.        0.       ]]\n",
      "3 [[0.        0.9513782]\n",
      " [0.        0.       ]]\n",
      "4 [[0.         0.94598816]\n",
      " [0.         0.        ]]\n",
      "5 [[0.         0.94945033]\n",
      " [0.         0.        ]]\n",
      "6 [[0.         0.94923583]\n",
      " [0.         0.        ]]\n",
      "7 [[0.         0.95108201]\n",
      " [0.         0.        ]]\n",
      "8 [[0.         0.94798988]\n",
      " [0.         0.        ]]\n",
      "9 [[0.         0.94593347]\n",
      " [0.         0.        ]]\n",
      "10 [[0.         0.95009523]\n",
      " [0.         0.        ]]\n",
      "11 [[0.         0.95007239]\n",
      " [0.         0.        ]]\n",
      "12 [[0.         0.95151188]\n",
      " [0.         0.        ]]\n",
      "13 [[0.         0.94688574]\n",
      " [0.         0.        ]]\n",
      "14 [[0.         0.95122715]\n",
      " [0.         0.        ]]\n",
      "15 [[0.         0.95360613]\n",
      " [0.         0.        ]]\n",
      "16 [[0.        0.9458847]\n",
      " [0.        0.       ]]\n",
      "17 [[0.         0.94830883]\n",
      " [0.         0.        ]]\n",
      "18 [[0.         0.95099661]\n",
      " [0.         0.        ]]\n",
      "19 [[0.         0.94858946]\n",
      " [0.         0.        ]]\n",
      "20 [[0.         0.95097089]\n",
      " [0.         0.        ]]\n",
      "21 [[0.         0.95258901]\n",
      " [0.         0.        ]]\n",
      "22 [[0.         0.95212664]\n",
      " [0.         0.        ]]\n",
      "23 [[0.        0.9521325]\n",
      " [0.        0.       ]]\n",
      "24 [[0.         0.94533419]\n",
      " [0.         0.        ]]\n",
      "25 [[0.         0.94769581]\n",
      " [0.         0.        ]]\n",
      "26 [[0.         0.95105617]\n",
      " [0.         0.        ]]\n",
      "27 [[0.         0.94909275]\n",
      " [0.         0.        ]]\n",
      "28 [[0.         0.95224667]\n",
      " [0.         0.        ]]\n",
      "29 [[0.         0.94971214]\n",
      " [0.         0.        ]]\n",
      "30 [[0.         0.94765067]\n",
      " [0.         0.        ]]\n",
      "31 [[0.         0.94705815]\n",
      " [0.         0.        ]]\n",
      "32 [[0.         0.95016079]\n",
      " [0.         0.        ]]\n",
      "33 [[0.         0.95101842]\n",
      " [0.         0.        ]]\n",
      "34 [[0.         0.94645496]\n",
      " [0.         0.        ]]\n",
      "35 [[0.         0.94383951]\n",
      " [0.         0.        ]]\n",
      "36 [[0.         0.94531746]\n",
      " [0.         0.        ]]\n",
      "37 [[0.         0.95271399]\n",
      " [0.         0.        ]]\n",
      "38 [[0.         0.94595216]\n",
      " [0.         0.        ]]\n",
      "39 [[0.         0.94746911]\n",
      " [0.         0.        ]]\n",
      "40 [[0.         0.95009658]\n",
      " [0.         0.        ]]\n",
      "41 [[0.         0.94590352]\n",
      " [0.         0.        ]]\n",
      "42 [[0.         0.95134292]\n",
      " [0.         0.        ]]\n",
      "43 [[0.         0.95046424]\n",
      " [0.         0.        ]]\n",
      "44 [[0.         0.95099494]\n",
      " [0.         0.        ]]\n",
      "45 [[0.         0.94813384]\n",
      " [0.         0.        ]]\n",
      "46 [[0.         0.94718781]\n",
      " [0.         0.        ]]\n",
      "47 [[0.        0.9480193]\n",
      " [0.        0.       ]]\n",
      "48 [[0.         0.94902957]\n",
      " [0.         0.        ]]\n",
      "49 [[0.         0.94659907]\n",
      " [0.         0.        ]]\n"
     ]
    }
   ],
   "source": [
    "clf = LogisticRegression()\n",
    "result = np.zeros((nt, nt, 2, 50))\n",
    "for t in range(50):\n",
    "    np.random.seed(t)\n",
    "    adata.obs['Replicate'] = 'rep2'\n",
    "    for tar in adata.obs['Target'].unique():\n",
    "        selc = np.where(adata.obs['Target']==tar)[0]\n",
    "        selc = np.random.choice(selc, len(selc)//2, False)\n",
    "        adata.obs.iloc[selc, -1] = 'rep1'\n",
    "    # print(adata.obs['Replicate'].value_counts())\n",
    "    for i in range(nt-1):\n",
    "        for j in range(i+1,  nt):\n",
    "            tar1, tar2 = target_list[i], target_list[j]\n",
    "            selc = adata.obs['TargetGroup'].isin([tar1, tar2])\n",
    "            data = adata.X[selc]\n",
    "            label = (adata.obs.loc[selc, 'TargetGroup']==tar1).values.astype(int)\n",
    "            for k,s in enumerate(['rep1', 'rep2']):\n",
    "                trainfilter = (adata.obs.loc[selc, 'Replicate']==s)\n",
    "                pred = clf.fit(data[trainfilter], label[trainfilter]).predict_proba(data[~trainfilter])[:,1]\n",
    "                result[i,j,k,t] = roc_auc_score(label[~trainfilter], pred)\n",
    "    print(t, result[:,:,:,t].mean(axis=2))\n",
    "    "
   ]
  },
  {
   "cell_type": "code",
   "execution_count": 14,
   "id": "38d29c6a-643f-4b8a-8f26-86159cd6cbad",
   "metadata": {
    "execution": {
     "iopub.execute_input": "2023-02-17T09:45:48.044101Z",
     "iopub.status.busy": "2023-02-17T09:45:48.043843Z",
     "iopub.status.idle": "2023-02-17T09:45:48.048875Z",
     "shell.execute_reply": "2023-02-17T09:45:48.048260Z",
     "shell.execute_reply.started": "2023-02-17T09:45:48.044081Z"
    },
    "tags": []
   },
   "outputs": [],
   "source": [
    "result_mean = pd.DataFrame(result.mean(axis=(2,3)), index=target_list, columns=target_list)\n",
    "result_std = pd.DataFrame(result.std(axis=(2,3)), index=target_list, columns=target_list)\n"
   ]
  },
  {
   "cell_type": "code",
   "execution_count": 16,
   "id": "bf6f5a70-2d9f-4b92-bec8-1bed2f8c6ad2",
   "metadata": {
    "execution": {
     "iopub.execute_input": "2023-02-17T09:46:38.904666Z",
     "iopub.status.busy": "2023-02-17T09:46:38.904400Z",
     "iopub.status.idle": "2023-02-17T09:46:39.280395Z",
     "shell.execute_reply": "2023-02-17T09:46:39.279770Z",
     "shell.execute_reply.started": "2023-02-17T09:46:38.904646Z"
    },
    "tags": []
   },
   "outputs": [],
   "source": [
    "result_mean.to_hdf(f'/home/jzhou_salk_edu/sky_workdir/230203_ITvsET/result/{region}-comprep_mean.hdf', key='data')\n",
    "result_std.to_hdf(f'/home/jzhou_salk_edu/sky_workdir/230203_ITvsET/result/{region}-comprep_std.hdf', key='data')\n"
   ]
  },
  {
   "cell_type": "code",
   "execution_count": null,
   "id": "d745df82-9ddb-402d-883e-64f1bfe5979e",
   "metadata": {},
   "outputs": [],
   "source": []
  },
  {
   "cell_type": "code",
   "execution_count": 17,
   "id": "63b19673-7077-4c47-8e82-13efef9f2607",
   "metadata": {
    "execution": {
     "iopub.execute_input": "2023-02-17T09:46:43.178884Z",
     "iopub.status.busy": "2023-02-17T09:46:43.178616Z",
     "iopub.status.idle": "2023-02-17T09:46:43.223364Z",
     "shell.execute_reply": "2023-02-17T09:46:43.222669Z",
     "shell.execute_reply.started": "2023-02-17T09:46:43.178864Z"
    },
    "tags": []
   },
   "outputs": [
    {
     "data": {
      "text/plain": [
       "AnnData object with n_obs × n_vars = 2472 × 9906\n",
       "    obs: 'mCCCFrac', 'mCGFrac', 'mCHFrac', 'FinalmCReads', 'Plate', 'PlateNormCov', 'Sample', 'SubRegion', 'DissectionRegion', 'Target', 'Sex', 'L1', 'L2', 'L3', 'L4', 'L1_annot', 'PassTargetFilter', 'TargetGroup', 'Replicate'\n",
       "    var: 'chrom', 'end', 'start'\n",
       "    obsm: 'X_pca'"
      ]
     },
     "execution_count": 17,
     "metadata": {},
     "output_type": "execute_result"
    }
   ],
   "source": [
    "count = adata.obs[['Target','Sex']].drop_duplicates()['Target'].value_counts()\n",
    "selt = count.index[count>1]\n",
    "adata = adata[adata.obs['Target'].isin(selt)].copy()\n",
    "adata\n"
   ]
  },
  {
   "cell_type": "code",
   "execution_count": 18,
   "id": "a541da7d-7e6d-4601-8aba-b65e7ece8524",
   "metadata": {
    "execution": {
     "iopub.execute_input": "2023-02-17T09:46:48.611980Z",
     "iopub.status.busy": "2023-02-17T09:46:48.611717Z",
     "iopub.status.idle": "2023-02-17T09:46:48.616830Z",
     "shell.execute_reply": "2023-02-17T09:46:48.616232Z",
     "shell.execute_reply.started": "2023-02-17T09:46:48.611960Z"
    },
    "tags": []
   },
   "outputs": [
    {
     "data": {
      "text/plain": [
       "['IT', 'ET']"
      ]
     },
     "execution_count": 18,
     "metadata": {},
     "output_type": "execute_result"
    }
   ],
   "source": [
    "target_list = [xx for xx in targroup if xx in adata.obs[\"TargetGroup\"].values]\n",
    "nt = len(target_list)\n",
    "target_list\n"
   ]
  },
  {
   "cell_type": "code",
   "execution_count": 19,
   "id": "4f6bfca7-d15a-450f-9679-ff0f7be253de",
   "metadata": {
    "execution": {
     "iopub.execute_input": "2023-02-17T09:46:55.351820Z",
     "iopub.status.busy": "2023-02-17T09:46:55.351558Z",
     "iopub.status.idle": "2023-02-17T09:46:57.044074Z",
     "shell.execute_reply": "2023-02-17T09:46:57.043411Z",
     "shell.execute_reply.started": "2023-02-17T09:46:55.351800Z"
    },
    "tags": []
   },
   "outputs": [],
   "source": [
    "clf = LogisticRegression()\n",
    "result = np.zeros((nt, nt, 2))\n",
    "for i in range(nt-1):\n",
    "    for j in range(i+1,  nt):\n",
    "        tar1, tar2 = target_list[i], target_list[j]\n",
    "        selc = adata.obs['TargetGroup'].isin([tar1, tar2])\n",
    "        data = adata.X[selc]\n",
    "        label = (adata.obs.loc[selc, 'TargetGroup']==tar1).values.astype(int)\n",
    "        for k,s in enumerate(['male', 'female']):\n",
    "            trainfilter = (adata.obs.loc[selc, 'Sex']==s)\n",
    "            pred = clf.fit(data[trainfilter], label[trainfilter]).predict_proba(data[~trainfilter])[:,1]\n",
    "            result[i,j,k] = roc_auc_score(label[~trainfilter], pred)\n"
   ]
  },
  {
   "cell_type": "code",
   "execution_count": 20,
   "id": "8a67e605-a65c-433b-b952-374e17e250ff",
   "metadata": {
    "execution": {
     "iopub.execute_input": "2023-02-17T09:46:59.615722Z",
     "iopub.status.busy": "2023-02-17T09:46:59.615456Z",
     "iopub.status.idle": "2023-02-17T09:46:59.620261Z",
     "shell.execute_reply": "2023-02-17T09:46:59.619628Z",
     "shell.execute_reply.started": "2023-02-17T09:46:59.615703Z"
    },
    "tags": []
   },
   "outputs": [],
   "source": [
    "result_mean = pd.DataFrame(result.mean(axis=2), index=target_list, columns=target_list)\n",
    "result_std = pd.DataFrame(result.std(axis=2), index=target_list, columns=target_list)\n"
   ]
  },
  {
   "cell_type": "code",
   "execution_count": 21,
   "id": "066cefd6-83d9-4300-a7bf-5b117d1e26a7",
   "metadata": {
    "execution": {
     "iopub.execute_input": "2023-02-17T09:47:07.728208Z",
     "iopub.status.busy": "2023-02-17T09:47:07.727959Z",
     "iopub.status.idle": "2023-02-17T09:47:07.742407Z",
     "shell.execute_reply": "2023-02-17T09:47:07.741829Z",
     "shell.execute_reply.started": "2023-02-17T09:47:07.728190Z"
    },
    "tags": []
   },
   "outputs": [],
   "source": [
    "result_mean.to_hdf(f'/home/jzhou_salk_edu/sky_workdir/230203_ITvsET/result/{region}-biorep_mean.hdf', key='data')\n",
    "result_std.to_hdf(f'/home/jzhou_salk_edu/sky_workdir/230203_ITvsET/result/{region}-biorep_std.hdf', key='data')\n"
   ]
  },
  {
   "cell_type": "code",
   "execution_count": null,
   "id": "5c2806e8-c706-4e50-91b8-b40a11284113",
   "metadata": {},
   "outputs": [],
   "source": []
  }
 ],
 "metadata": {
  "kernelspec": {
   "display_name": "Python 3 (ipykernel)",
   "language": "python",
   "name": "python3"
  },
  "language_info": {
   "codemirror_mode": {
    "name": "ipython",
    "version": 3
   },
   "file_extension": ".py",
   "mimetype": "text/x-python",
   "name": "python",
   "nbconvert_exporter": "python",
   "pygments_lexer": "ipython3",
   "version": "3.7.12"
  }
 },
 "nbformat": 4,
 "nbformat_minor": 5
}
