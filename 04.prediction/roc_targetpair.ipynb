{
 "cells": [
  {
   "cell_type": "code",
   "execution_count": 2,
   "id": "a5fc432f-0444-4f2d-8f34-4c470d87c9c6",
   "metadata": {
    "execution": {
     "iopub.execute_input": "2023-01-31T04:41:08.420962Z",
     "iopub.status.busy": "2023-01-31T04:41:08.419160Z",
     "iopub.status.idle": "2023-01-31T04:41:10.766563Z",
     "shell.execute_reply": "2023-01-31T04:41:10.762278Z",
     "shell.execute_reply.started": "2023-01-31T04:41:08.420898Z"
    },
    "tags": []
   },
   "outputs": [],
   "source": [
    "import numpy as np\n",
    "import pandas as pd\n",
    "from sklearn.linear_model import LogisticRegression\n",
    "from sklearn.metrics import roc_auc_score\n",
    "import anndata\n"
   ]
  },
  {
   "cell_type": "code",
   "execution_count": 1,
   "id": "99fc00d8-952b-438a-b5e5-6d1de7b55094",
   "metadata": {
    "execution": {
     "iopub.execute_input": "2023-01-31T04:41:04.503159Z",
     "iopub.status.busy": "2023-01-31T04:41:04.500730Z",
     "iopub.status.idle": "2023-01-31T04:41:04.517021Z",
     "shell.execute_reply": "2023-01-31T04:41:04.514746Z",
     "shell.execute_reply.started": "2023-01-31T04:41:04.503076Z"
    },
    "tags": [
     "parameters"
    ]
   },
   "outputs": [],
   "source": [
    "group_name = \"MOp-binCH-X_pca\""
   ]
  },
  {
   "cell_type": "code",
   "execution_count": 3,
   "id": "ba47ffe2-b408-4fc3-831e-4ffda76df85c",
   "metadata": {
    "execution": {
     "iopub.execute_input": "2023-01-31T04:41:11.303630Z",
     "iopub.status.busy": "2023-01-31T04:41:11.301810Z",
     "iopub.status.idle": "2023-01-31T04:41:11.318346Z",
     "shell.execute_reply": "2023-01-31T04:41:11.312021Z",
     "shell.execute_reply.started": "2023-01-31T04:41:11.303548Z"
    },
    "tags": []
   },
   "outputs": [],
   "source": [
    "region, var_dim, key = group_name.split('-')\n"
   ]
  },
  {
   "cell_type": "code",
   "execution_count": 4,
   "id": "ac56f879-404e-48c3-bc90-ceb5332a7a4b",
   "metadata": {
    "execution": {
     "iopub.execute_input": "2023-01-31T04:41:12.339276Z",
     "iopub.status.busy": "2023-01-31T04:41:12.336967Z",
     "iopub.status.idle": "2023-01-31T04:41:12.365998Z",
     "shell.execute_reply": "2023-01-31T04:41:12.363398Z",
     "shell.execute_reply.started": "2023-01-31T04:41:12.339216Z"
    },
    "tags": []
   },
   "outputs": [
    {
     "name": "stdout",
     "output_type": "stream",
     "text": [
      "24\n"
     ]
    }
   ],
   "source": [
    "tarall = [\n",
    "    \"PFC\",\n",
    "    \"MOp\",\n",
    "    \"SSp\",\n",
    "    \"ACA\",\n",
    "    \"AI\",\n",
    "    \"AUDp\",\n",
    "    \"RSP\",\n",
    "    \"PTLp\",\n",
    "    \"VISp\",\n",
    "    \"MOB\",\n",
    "    \"ENT\",\n",
    "    \"HPF\",\n",
    "    \"PIR\",\n",
    "    \"AMY\",\n",
    "    \"STR\",\n",
    "    \"PAL\",\n",
    "    \"TH\",\n",
    "    \"HY\",\n",
    "    \"SC\",\n",
    "    \"VTA\",\n",
    "    \"P\",\n",
    "    \"MY\",\n",
    "    \"CBN\",\n",
    "    \"CBX\",\n",
    "]\n",
    "print(len(tarall))\n"
   ]
  },
  {
   "cell_type": "code",
   "execution_count": 5,
   "id": "340bafde-0bd1-4106-b98f-c4970fc99de6",
   "metadata": {
    "execution": {
     "iopub.execute_input": "2023-01-31T04:41:16.823008Z",
     "iopub.status.busy": "2023-01-31T04:41:16.819777Z",
     "iopub.status.idle": "2023-01-31T04:41:17.112132Z",
     "shell.execute_reply": "2023-01-31T04:41:17.106177Z",
     "shell.execute_reply.started": "2023-01-31T04:41:16.822652Z"
    },
    "tags": []
   },
   "outputs": [
    {
     "data": {
      "text/plain": [
       "AnnData object with n_obs × n_vars = 2568 × 23730\n",
       "    obs: 'mCCCFrac', 'mCGFrac', 'mCHFrac', 'FinalmCReads', 'Plate', 'PlateNormCov', 'Sample', 'SubRegion', 'DissectionRegion', 'Target', 'Sex', 'L1', 'L2', 'L3', 'L4', 'L1_annot', 'PassTargetFilter'\n",
       "    var: 'chrom', 'end', 'start'\n",
       "    obsm: 'X_pca'"
      ]
     },
     "execution_count": 5,
     "metadata": {},
     "output_type": "execute_result"
    }
   ],
   "source": [
    "adata = anndata.read_h5ad(f'/home/jzhou_salk_edu/sky_workdir/230129_targetpair_roc/data/{region}_RS2_{var_dim}.h5ad')\n",
    "adata\n"
   ]
  },
  {
   "cell_type": "code",
   "execution_count": 6,
   "id": "014a9e40-76c4-4f5c-b520-6cf61085d4f1",
   "metadata": {
    "execution": {
     "iopub.execute_input": "2023-01-31T04:41:29.724586Z",
     "iopub.status.busy": "2023-01-31T04:41:29.723686Z",
     "iopub.status.idle": "2023-01-31T04:41:29.746901Z",
     "shell.execute_reply": "2023-01-31T04:41:29.744569Z",
     "shell.execute_reply.started": "2023-01-31T04:41:29.724493Z"
    },
    "tags": []
   },
   "outputs": [
    {
     "data": {
      "text/plain": [
       "['SSp', 'ACA', 'AI', 'AUDp', 'STR', 'TH', 'SC', 'VTA', 'P', 'MY']"
      ]
     },
     "execution_count": 6,
     "metadata": {},
     "output_type": "execute_result"
    }
   ],
   "source": [
    "target_list = [xx for xx in tarall if xx in adata.obs[\"Target\"].values]\n",
    "nt = len(target_list)\n",
    "target_list\n"
   ]
  },
  {
   "cell_type": "code",
   "execution_count": null,
   "id": "7c16ce55-9b08-429a-9621-85ce7051d08f",
   "metadata": {
    "execution": {
     "iopub.execute_input": "2023-01-31T04:41:31.818587Z",
     "iopub.status.busy": "2023-01-31T04:41:31.817604Z"
    },
    "tags": []
   },
   "outputs": [
    {
     "name": "stdout",
     "output_type": "stream",
     "text": [
      "0 [[0.         0.65660951 0.89739027 0.99133913 0.65559583 0.95323552\n",
      "  0.96257928 0.96779752 0.96788982 0.98441647]\n",
      " [0.         0.         0.87287726 0.98669503 0.7067258  0.94219775\n",
      "  0.97172403 0.97543046 0.96244317 0.97879311]\n",
      " [0.         0.         0.         0.91991559 0.88221575 0.97032544\n",
      "  0.97943518 0.93604806 0.98729098 0.96427874]\n",
      " [0.         0.         0.         0.         0.99079363 0.99835697\n",
      "  0.99946294 0.98238078 0.99775153 0.96905792]\n",
      " [0.         0.         0.         0.         0.         0.91461925\n",
      "  0.93891389 0.97043192 0.93179838 0.96471535]\n",
      " [0.         0.         0.         0.         0.         0.\n",
      "  0.85710303 0.97338453 0.72414665 0.92514124]\n",
      " [0.         0.         0.         0.         0.         0.\n",
      "  0.         0.91372841 0.87516962 0.90878564]\n",
      " [0.         0.         0.         0.         0.         0.\n",
      "  0.         0.         0.96258311 0.9292806 ]\n",
      " [0.         0.         0.         0.         0.         0.\n",
      "  0.         0.         0.         0.90588996]\n",
      " [0.         0.         0.         0.         0.         0.\n",
      "  0.         0.         0.         0.        ]]\n",
      "1 [[0.         0.72197657 0.91106103 0.99196398 0.68448188 0.9625169\n",
      "  0.96655227 0.97245054 0.97316372 0.98236259]\n",
      " [0.         0.         0.87158179 0.9863822  0.72387282 0.96705624\n",
      "  0.98108144 0.97487777 0.96495274 0.98635078]\n",
      " [0.         0.         0.         0.92864317 0.90544552 0.98226697\n",
      "  0.98494708 0.94693428 0.98207753 0.99147263]\n",
      " [0.         0.         0.         0.         0.98857829 0.99921504\n",
      "  0.99942938 0.96832017 0.99852793 0.99957154]\n",
      " [0.         0.         0.         0.         0.         0.91594536\n",
      "  0.93212485 0.95808703 0.94010345 0.9593638 ]\n",
      " [0.         0.         0.         0.         0.         0.\n",
      "  0.86805865 0.97126589 0.72882188 0.92990819]\n",
      " [0.         0.         0.         0.         0.         0.\n",
      "  0.         0.90478516 0.845193   0.8897341 ]\n",
      " [0.         0.         0.         0.         0.         0.\n",
      "  0.         0.         0.95338035 0.91878255]\n",
      " [0.         0.         0.         0.         0.         0.\n",
      "  0.         0.         0.         0.92352324]\n",
      " [0.         0.         0.         0.         0.         0.\n",
      "  0.         0.         0.         0.        ]]\n",
      "2 [[0.         0.6785089  0.92676901 0.9968255  0.6525619  0.95189005\n",
      "  0.96570168 0.96389205 0.95286738 0.99067629]\n",
      " [0.         0.         0.87192342 0.98406906 0.6931058  0.9552848\n",
      "  0.97209706 0.96789048 0.95840265 0.99320652]\n",
      " [0.         0.         0.         0.93519293 0.90868898 0.98481458\n",
      "  0.98060038 0.94580703 0.97452294 0.98653737]\n",
      " [0.         0.         0.         0.         0.99103812 0.99834226\n",
      "  0.99895807 0.97599871 0.99748296 0.99819303]\n",
      " [0.         0.         0.         0.         0.         0.91585877\n",
      "  0.93035862 0.96542791 0.93730317 0.97605573]\n",
      " [0.         0.         0.         0.         0.         0.\n",
      "  0.85515165 0.96570445 0.68241285 0.91825565]\n",
      " [0.         0.         0.         0.         0.         0.\n",
      "  0.         0.89895148 0.82893057 0.92372533]\n",
      " [0.         0.         0.         0.         0.         0.\n",
      "  0.         0.         0.94768974 0.93196615]\n",
      " [0.         0.         0.         0.         0.         0.\n",
      "  0.         0.         0.         0.91349467]\n",
      " [0.         0.         0.         0.         0.         0.\n",
      "  0.         0.         0.         0.        ]]\n",
      "3 [[0.         0.67052026 0.90691959 0.99399245 0.64147959 0.96703199\n",
      "  0.96462242 0.97364445 0.9706225  0.99275727]\n",
      " [0.         0.         0.87005616 0.98350576 0.68806679 0.96055552\n",
      "  0.96837749 0.98292829 0.96500812 0.98926983]\n",
      " [0.         0.         0.         0.92433677 0.88793852 0.9823636\n",
      "  0.97937909 0.94917379 0.977984   0.96537102]\n",
      " [0.         0.         0.         0.         0.98854925 0.99834761\n",
      "  0.99841236 0.97885957 0.99583609 0.96799499]\n",
      " [0.         0.         0.         0.         0.         0.90771466\n",
      "  0.9212508  0.9692475  0.93187951 0.96816999]\n",
      " [0.         0.         0.         0.         0.         0.\n",
      "  0.87926517 0.97500662 0.69109499 0.94500353]\n",
      " [0.         0.         0.         0.         0.         0.\n",
      "  0.         0.9140111  0.88240491 0.92118969]\n",
      " [0.         0.         0.         0.         0.         0.\n",
      "  0.         0.         0.96457964 0.90177409]\n",
      " [0.         0.         0.         0.         0.         0.\n",
      "  0.         0.         0.         0.93807864]\n",
      " [0.         0.         0.         0.         0.         0.\n",
      "  0.         0.         0.         0.        ]]\n"
     ]
    }
   ],
   "source": [
    "clf = LogisticRegression()\n",
    "result = np.zeros((nt, nt, 2, 50))\n",
    "for t in range(50):\n",
    "    np.random.seed(t)\n",
    "    adata.obs['Replicate'] = 'rep2'\n",
    "    for i in range(nt):\n",
    "        tar = target_list[i]\n",
    "        selc = np.where(adata.obs['Target']==tar)[0]\n",
    "        selc = np.random.choice(selc, len(selc)//2, False)\n",
    "        adata.obs.iloc[selc, -1] = 'rep1'\n",
    "    # print(adata.obs['Replicate'].value_counts())\n",
    "    for i in range(nt-1):\n",
    "        for j in range(i+1,  nt):\n",
    "            tar1, tar2 = target_list[i], target_list[j]\n",
    "            selc = adata.obs['Target'].isin([tar1, tar2])\n",
    "            if key=='X':\n",
    "                data = adata.X[selc]\n",
    "            else:\n",
    "                data = adata.obsm[key][selc]\n",
    "            label = (adata.obs.loc[selc, 'Target']==tar1).values.astype(int)\n",
    "            for k,s in enumerate(['rep1', 'rep2']):\n",
    "                trainfilter = (adata.obs.loc[selc, 'Replicate']==s)\n",
    "                pred = clf.fit(data[trainfilter], label[trainfilter]).predict_proba(data[~trainfilter])[:,1]\n",
    "                result[i,j,k,t] = roc_auc_score(label[~trainfilter], pred)\n",
    "    print(t, result[:,:,:,t].mean(axis=2))\n",
    "    "
   ]
  },
  {
   "cell_type": "code",
   "execution_count": 20,
   "id": "38d29c6a-643f-4b8a-8f26-86159cd6cbad",
   "metadata": {
    "execution": {
     "iopub.execute_input": "2023-01-31T03:17:24.011729Z",
     "iopub.status.busy": "2023-01-31T03:17:24.011454Z",
     "iopub.status.idle": "2023-01-31T03:17:24.019475Z",
     "shell.execute_reply": "2023-01-31T03:17:24.018942Z",
     "shell.execute_reply.started": "2023-01-31T03:17:24.011706Z"
    }
   },
   "outputs": [],
   "source": [
    "result_mean = pd.DataFrame(result.mean(axis=(2,3)), index=target_list, columns=target_list)\n",
    "result_std = pd.DataFrame(result.std(axis=(2,3)), index=target_list, columns=target_list)\n"
   ]
  },
  {
   "cell_type": "code",
   "execution_count": 25,
   "id": "bf6f5a70-2d9f-4b92-bec8-1bed2f8c6ad2",
   "metadata": {
    "execution": {
     "iopub.execute_input": "2023-01-31T03:24:05.543611Z",
     "iopub.status.busy": "2023-01-31T03:24:05.543273Z",
     "iopub.status.idle": "2023-01-31T03:24:05.723151Z",
     "shell.execute_reply": "2023-01-31T03:24:05.722575Z",
     "shell.execute_reply.started": "2023-01-31T03:24:05.543585Z"
    },
    "tags": []
   },
   "outputs": [],
   "source": [
    "result_mean.to_hdf(f'/home/jzhou_salk_edu/sky_workdir/230129_targetpair_roc/result/{group_name}-comprep_mean.hdf', key='data')\n",
    "result_std.to_hdf(f'/home/jzhou_salk_edu/sky_workdir/230129_targetpair_roc/result/{group_name}-comprep_std.hdf', key='data')\n"
   ]
  },
  {
   "cell_type": "code",
   "execution_count": null,
   "id": "d745df82-9ddb-402d-883e-64f1bfe5979e",
   "metadata": {},
   "outputs": [],
   "source": []
  },
  {
   "cell_type": "code",
   "execution_count": 26,
   "id": "63b19673-7077-4c47-8e82-13efef9f2607",
   "metadata": {
    "execution": {
     "iopub.execute_input": "2023-01-31T03:24:42.134240Z",
     "iopub.status.busy": "2023-01-31T03:24:42.133889Z",
     "iopub.status.idle": "2023-01-31T03:24:42.322983Z",
     "shell.execute_reply": "2023-01-31T03:24:42.322339Z",
     "shell.execute_reply.started": "2023-01-31T03:24:42.134208Z"
    }
   },
   "outputs": [
    {
     "data": {
      "text/plain": [
       "AnnData object with n_obs × n_vars = 2472 × 9906\n",
       "    obs: 'mCCCFrac', 'mCGFrac', 'mCHFrac', 'FinalmCReads', 'Plate', 'PlateNormCov', 'Sample', 'SubRegion', 'DissectionRegion', 'Target', 'Sex', 'L1', 'L2', 'L3', 'L4', 'L1_annot', 'PassTargetFilter', 'Replicate'\n",
       "    var: 'chrom', 'end', 'start'\n",
       "    obsm: 'X_pca'"
      ]
     },
     "execution_count": 26,
     "metadata": {},
     "output_type": "execute_result"
    }
   ],
   "source": [
    "count = adata.obs[['Target','Sex']].drop_duplicates()['Target'].value_counts()\n",
    "selt = count.index[count>1]\n",
    "adata = adata[adata.obs['Target'].isin(selt)].copy()\n",
    "adata\n"
   ]
  },
  {
   "cell_type": "code",
   "execution_count": 30,
   "id": "a541da7d-7e6d-4601-8aba-b65e7ece8524",
   "metadata": {
    "execution": {
     "iopub.execute_input": "2023-01-31T03:27:49.066336Z",
     "iopub.status.busy": "2023-01-31T03:27:49.066001Z",
     "iopub.status.idle": "2023-01-31T03:27:49.083520Z",
     "shell.execute_reply": "2023-01-31T03:27:49.082291Z",
     "shell.execute_reply.started": "2023-01-31T03:27:49.066310Z"
    },
    "tags": []
   },
   "outputs": [
    {
     "data": {
      "text/plain": [
       "['SSp', 'ACA', 'AI', 'AUDp', 'STR', 'TH', 'SC', 'VTA', 'P']"
      ]
     },
     "execution_count": 30,
     "metadata": {},
     "output_type": "execute_result"
    }
   ],
   "source": [
    "target_list = [xx for xx in tarall if xx in adata.obs[\"Target\"].values]\n",
    "nt = len(target_list)\n",
    "target_list\n"
   ]
  },
  {
   "cell_type": "code",
   "execution_count": 35,
   "id": "4f6bfca7-d15a-450f-9679-ff0f7be253de",
   "metadata": {
    "execution": {
     "iopub.execute_input": "2023-01-31T03:29:20.936526Z",
     "iopub.status.busy": "2023-01-31T03:29:20.936191Z",
     "iopub.status.idle": "2023-01-31T03:30:00.546438Z",
     "shell.execute_reply": "2023-01-31T03:30:00.545765Z",
     "shell.execute_reply.started": "2023-01-31T03:29:20.936500Z"
    },
    "tags": []
   },
   "outputs": [],
   "source": [
    "clf = LogisticRegression()\n",
    "result = np.zeros((nt, nt, 2))\n",
    "for i in range(nt-1):\n",
    "    for j in range(i+1,  nt):\n",
    "        tar1, tar2 = target_list[i], target_list[j]\n",
    "        selc = adata.obs['Target'].isin([tar1, tar2])\n",
    "        if key=='X':\n",
    "            data = adata.X[selc]\n",
    "        else:\n",
    "            data = adata.obsm[key][selc]\n",
    "        label = (adata.obs.loc[selc, 'Target']==tar1).values.astype(int)\n",
    "        for k,s in enumerate(['male', 'female']):\n",
    "            trainfilter = (adata.obs.loc[selc, 'Sex']==s)\n",
    "            pred = clf.fit(data[trainfilter], label[trainfilter]).predict_proba(data[~trainfilter])[:,1]\n",
    "            result[i,j,k] = roc_auc_score(label[~trainfilter], pred)\n"
   ]
  },
  {
   "cell_type": "code",
   "execution_count": 36,
   "id": "8a67e605-a65c-433b-b952-374e17e250ff",
   "metadata": {
    "execution": {
     "iopub.execute_input": "2023-01-31T03:30:00.615425Z",
     "iopub.status.busy": "2023-01-31T03:30:00.615178Z",
     "iopub.status.idle": "2023-01-31T03:30:00.646142Z",
     "shell.execute_reply": "2023-01-31T03:30:00.645611Z",
     "shell.execute_reply.started": "2023-01-31T03:30:00.615400Z"
    },
    "tags": []
   },
   "outputs": [],
   "source": [
    "result_mean = pd.DataFrame(result.mean(axis=2), index=target_list, columns=target_list)\n",
    "result_std = pd.DataFrame(result.std(axis=2), index=target_list, columns=target_list)\n"
   ]
  },
  {
   "cell_type": "code",
   "execution_count": 46,
   "id": "066cefd6-83d9-4300-a7bf-5b117d1e26a7",
   "metadata": {
    "execution": {
     "iopub.execute_input": "2023-01-31T03:36:10.046359Z",
     "iopub.status.busy": "2023-01-31T03:36:10.046081Z",
     "iopub.status.idle": "2023-01-31T03:36:10.131359Z",
     "shell.execute_reply": "2023-01-31T03:36:10.130650Z",
     "shell.execute_reply.started": "2023-01-31T03:36:10.046335Z"
    },
    "tags": []
   },
   "outputs": [],
   "source": [
    "result_mean.to_hdf(f'/home/jzhou_salk_edu/sky_workdir/230129_targetpair_roc/result/{group_name}-biorep_mean.hdf', key='data')\n",
    "result_std.to_hdf(f'/home/jzhou_salk_edu/sky_workdir/230129_targetpair_roc/result/{group_name}-biorep_std.hdf', key='data')\n"
   ]
  },
  {
   "cell_type": "code",
   "execution_count": null,
   "id": "6cb144e6-5c4e-4269-b756-cde7a19eb9be",
   "metadata": {},
   "outputs": [],
   "source": []
  }
 ],
 "metadata": {
  "kernelspec": {
   "display_name": "Python 3 (ipykernel)",
   "language": "python",
   "name": "python3"
  },
  "language_info": {
   "codemirror_mode": {
    "name": "ipython",
    "version": 3
   },
   "file_extension": ".py",
   "mimetype": "text/x-python",
   "name": "python",
   "nbconvert_exporter": "python",
   "pygments_lexer": "ipython3",
   "version": "3.7.12"
  }
 },
 "nbformat": 4,
 "nbformat_minor": 5
}
