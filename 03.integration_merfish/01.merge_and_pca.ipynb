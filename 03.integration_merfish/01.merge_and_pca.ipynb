{
 "cells": [
  {
   "cell_type": "code",
   "execution_count": 1,
   "id": "fbeb5e41",
   "metadata": {
    "execution": {
     "iopub.execute_input": "2023-02-26T03:29:30.797330Z",
     "iopub.status.busy": "2023-02-26T03:29:30.797091Z",
     "iopub.status.idle": "2023-02-26T03:29:31.461197Z",
     "shell.execute_reply": "2023-02-26T03:29:31.460473Z",
     "shell.execute_reply.started": "2023-02-26T03:29:30.797307Z"
    },
    "papermill": {
     "duration": 9.417746,
     "end_time": "2022-10-16T08:05:14.955383",
     "exception": false,
     "start_time": "2022-10-16T08:05:05.537637",
     "status": "completed"
    },
    "tags": []
   },
   "outputs": [],
   "source": [
    "import anndata\n",
    "import numpy as np\n",
    "from sklearn.decomposition import TruncatedSVD\n"
   ]
  },
  {
   "cell_type": "code",
   "execution_count": 2,
   "id": "d0bd4ef3-b493-485a-8fad-3806261ec29a",
   "metadata": {
    "execution": {
     "iopub.execute_input": "2023-02-26T03:29:39.103911Z",
     "iopub.status.busy": "2023-02-26T03:29:39.103648Z",
     "iopub.status.idle": "2023-02-26T03:29:39.107195Z",
     "shell.execute_reply": "2023-02-26T03:29:39.106607Z",
     "shell.execute_reply.started": "2023-02-26T03:29:39.103892Z"
    },
    "tags": [
     "parameters"
    ]
   },
   "outputs": [],
   "source": [
    "group_name = 'HB'"
   ]
  },
  {
   "cell_type": "code",
   "execution_count": 3,
   "id": "e5cb890a-e169-492c-986d-52ba757e228e",
   "metadata": {
    "execution": {
     "iopub.execute_input": "2023-02-26T03:29:40.230535Z",
     "iopub.status.busy": "2023-02-26T03:29:40.230294Z",
     "iopub.status.idle": "2023-02-26T03:29:40.339359Z",
     "shell.execute_reply": "2023-02-26T03:29:40.338679Z",
     "shell.execute_reply.started": "2023-02-26T03:29:40.230518Z"
    },
    "tags": []
   },
   "outputs": [
    {
     "data": {
      "text/plain": [
       "AnnData object with n_obs × n_vars = 67701 × 487\n",
       "    obs: 'count', 'umi_count', 'L1', 'L2', 'L3', 'L1_annot', 'L2_annot', 'DissectionRegion', 'SubRegion', 'MajorRegion', 'Train', 'cocluster'\n",
       "    var: 'name'\n",
       "    uns: 'log1p'\n",
       "    obsm: 'X_pca'"
      ]
     },
     "execution_count": 3,
     "metadata": {},
     "output_type": "execute_result"
    }
   ],
   "source": [
    "ref_adata = anndata.read_h5ad('aibs_10x.h5ad')\n",
    "ref_adata"
   ]
  },
  {
   "cell_type": "code",
   "execution_count": 4,
   "id": "224d346a-c402-4c50-96d5-07b9febf11d8",
   "metadata": {
    "execution": {
     "iopub.execute_input": "2023-02-26T03:29:44.321902Z",
     "iopub.status.busy": "2023-02-26T03:29:44.321635Z",
     "iopub.status.idle": "2023-02-26T03:29:44.328554Z",
     "shell.execute_reply": "2023-02-26T03:29:44.327979Z",
     "shell.execute_reply.started": "2023-02-26T03:29:44.321884Z"
    },
    "tags": []
   },
   "outputs": [
    {
     "data": {
      "text/plain": [
       "67701"
      ]
     },
     "execution_count": 4,
     "metadata": {},
     "output_type": "execute_result"
    }
   ],
   "source": [
    "np.random.seed(0)\n",
    "\n",
    "n_train_cell = 100000\n",
    "# select mC cells to fit the model\n",
    "train_cell = np.zeros(ref_adata.shape[0]).astype(bool)\n",
    "if ref_adata.shape[0] > n_train_cell:\n",
    "    train_cell[np.random.choice(np.arange(ref_adata.shape[0]), n_train_cell, False)] = True\n",
    "else:\n",
    "    train_cell[:] = True\n",
    "\n",
    "ref_adata.obs['Train'] = train_cell.copy()\n",
    "ref_adata.obs['Train'].sum()\n"
   ]
  },
  {
   "cell_type": "code",
   "execution_count": 5,
   "id": "c76d1f7c",
   "metadata": {
    "execution": {
     "iopub.execute_input": "2023-02-26T03:29:45.153489Z",
     "iopub.status.busy": "2023-02-26T03:29:45.153293Z",
     "iopub.status.idle": "2023-02-26T03:29:52.921251Z",
     "shell.execute_reply": "2023-02-26T03:29:52.920390Z",
     "shell.execute_reply.started": "2023-02-26T03:29:45.153472Z"
    },
    "papermill": {
     "duration": 10.814321,
     "end_time": "2022-10-16T08:06:03.728662",
     "exception": false,
     "start_time": "2022-10-16T08:05:52.914341",
     "status": "completed"
    },
    "tags": []
   },
   "outputs": [
    {
     "name": "stdout",
     "output_type": "stream",
     "text": [
      "100\n"
     ]
    }
   ],
   "source": [
    "ndim = min(100, ref_adata.obs['Train'].sum()-1, ref_adata.shape[1]-1)\n",
    "model = TruncatedSVD(n_components=ndim, algorithm='arpack', random_state=0) \n",
    "model.fit(ref_adata.X[ref_adata.obs['Train'].values])\n",
    "sel_dim = (model.singular_values_ != 0)\n",
    "print(sel_dim.sum())\n"
   ]
  },
  {
   "cell_type": "code",
   "execution_count": 6,
   "id": "417ff5b4-fd79-43a6-9935-4bf8d5f5b23d",
   "metadata": {
    "execution": {
     "iopub.execute_input": "2023-02-26T03:29:52.937877Z",
     "iopub.status.busy": "2023-02-26T03:29:52.937715Z",
     "iopub.status.idle": "2023-02-26T03:29:53.256056Z",
     "shell.execute_reply": "2023-02-26T03:29:53.255336Z",
     "shell.execute_reply.started": "2023-02-26T03:29:52.937861Z"
    },
    "tags": []
   },
   "outputs": [],
   "source": [
    "## Transform 10x\n",
    "\n",
    "chunk_size = 50000\n",
    "chunks = []\n",
    "for chunk_start in range(0, ref_adata.shape[0], chunk_size):\n",
    "    chunks.append(\n",
    "        model.transform(ref_adata.X[chunk_start:(chunk_start + chunk_size)]))\n",
    "\n",
    "ref_adata.obsm['X_pca'] = np.concatenate(chunks, axis=0)[:, sel_dim]\n",
    "ref_adata.obsm['X_pca'] /= model.singular_values_[sel_dim]\n"
   ]
  },
  {
   "cell_type": "code",
   "execution_count": 7,
   "id": "59a5b53e-0df1-46f7-8d25-a8917a24ea45",
   "metadata": {
    "execution": {
     "iopub.execute_input": "2023-02-26T03:29:53.257658Z",
     "iopub.status.busy": "2023-02-26T03:29:53.257476Z",
     "iopub.status.idle": "2023-02-26T03:29:54.568258Z",
     "shell.execute_reply": "2023-02-26T03:29:54.567483Z",
     "shell.execute_reply.started": "2023-02-26T03:29:53.257640Z"
    },
    "tags": []
   },
   "outputs": [],
   "source": [
    "ref_adata.write_h5ad('aibs_10x.h5ad')\n"
   ]
  },
  {
   "cell_type": "code",
   "execution_count": 8,
   "id": "207f7f6a-0eae-45fc-9d8a-c49490ae7f0c",
   "metadata": {
    "execution": {
     "iopub.execute_input": "2023-02-26T03:29:54.569235Z",
     "iopub.status.busy": "2023-02-26T03:29:54.569023Z",
     "iopub.status.idle": "2023-02-26T03:29:54.597333Z",
     "shell.execute_reply": "2023-02-26T03:29:54.596738Z",
     "shell.execute_reply.started": "2023-02-26T03:29:54.569217Z"
    },
    "tags": []
   },
   "outputs": [
    {
     "data": {
      "text/plain": [
       "AnnData object with n_obs × n_vars = 8410 × 487\n",
       "    obs: 'blank_count', 'n_counts', 'n_genes', 'Study'\n",
       "    var: 'id', 'mean', 'std'\n",
       "    uns: 'log1p'\n",
       "    obsm: 'X_pca', 'X_pca_corrected'"
      ]
     },
     "execution_count": 8,
     "metadata": {},
     "output_type": "execute_result"
    }
   ],
   "source": [
    "qry_adata = anndata.read_h5ad('merfish.h5ad')\n",
    "qry_adata\n"
   ]
  },
  {
   "cell_type": "code",
   "execution_count": 9,
   "id": "1443d732-917f-4d55-84ba-908f6b5d9c8f",
   "metadata": {
    "execution": {
     "iopub.execute_input": "2023-02-26T03:29:54.598244Z",
     "iopub.status.busy": "2023-02-26T03:29:54.598080Z",
     "iopub.status.idle": "2023-02-26T03:29:54.786468Z",
     "shell.execute_reply": "2023-02-26T03:29:54.785884Z",
     "shell.execute_reply.started": "2023-02-26T03:29:54.598228Z"
    },
    "tags": []
   },
   "outputs": [
    {
     "name": "stdout",
     "output_type": "stream",
     "text": [
      "0\n"
     ]
    }
   ],
   "source": [
    "chunks = []\n",
    "for chunk_start in range(0, qry_adata.shape[0], chunk_size):\n",
    "    # tmp = (qry_adata.X[chunk_start:(chunk_start + chunk_size)].toarray() - qry_adata.var['mean'].values) / qry_adata.var['std'].values\n",
    "    tmp = (qry_adata.X[chunk_start:(chunk_start + chunk_size)])\n",
    "    chunks.append(model.transform(tmp))\n",
    "    print(chunk_start)\n",
    "\n",
    "qry_adata.obsm['X_pca'] = np.concatenate(chunks, axis=0)[:, sel_dim]\n",
    "qry_adata.obsm['X_pca'] /= model.singular_values_[sel_dim]\n"
   ]
  },
  {
   "cell_type": "code",
   "execution_count": 10,
   "id": "2b4aec97-0e6e-4a6d-a6f7-c18fe453b57a",
   "metadata": {
    "execution": {
     "iopub.execute_input": "2023-02-26T03:29:54.787366Z",
     "iopub.status.busy": "2023-02-26T03:29:54.787197Z",
     "iopub.status.idle": "2023-02-26T03:29:54.825003Z",
     "shell.execute_reply": "2023-02-26T03:29:54.824415Z",
     "shell.execute_reply.started": "2023-02-26T03:29:54.787349Z"
    },
    "tags": []
   },
   "outputs": [],
   "source": [
    "qry_adata.write_h5ad('merfish.h5ad')\n"
   ]
  },
  {
   "cell_type": "code",
   "execution_count": null,
   "id": "148edbfc",
   "metadata": {
    "papermill": {
     "duration": 0.13361,
     "end_time": "2022-10-16T08:18:06.711360",
     "exception": false,
     "start_time": "2022-10-16T08:18:06.577750",
     "status": "completed"
    },
    "tags": []
   },
   "outputs": [],
   "source": []
  }
 ],
 "metadata": {
  "celltoolbar": "Tags",
  "kernelspec": {
   "display_name": "Python 3 (ipykernel)",
   "language": "python",
   "name": "python3"
  },
  "language_info": {
   "codemirror_mode": {
    "name": "ipython",
    "version": 3
   },
   "file_extension": ".py",
   "mimetype": "text/x-python",
   "name": "python",
   "nbconvert_exporter": "python",
   "pygments_lexer": "ipython3",
   "version": "3.7.12"
  },
  "papermill": {
   "default_parameters": {},
   "duration": 785.867728,
   "end_time": "2022-10-16T08:18:08.773859",
   "environment_variables": {},
   "exception": null,
   "input_path": "/gale/netapp/home2/yuwu/projects/RS2/script/integration_by_region/integrate_all_ds/HB/03.merge_and_PCA.ipynb",
   "output_path": "/gale/netapp/home2/yuwu/projects/RS2/script/integration_by_region/integrate_all_ds/HB/03.merge_and_PCA.ipynb",
   "parameters": {
    "t": "HB"
   },
   "start_time": "2022-10-16T08:05:02.906131",
   "version": "2.3.4"
  }
 },
 "nbformat": 4,
 "nbformat_minor": 5
}
