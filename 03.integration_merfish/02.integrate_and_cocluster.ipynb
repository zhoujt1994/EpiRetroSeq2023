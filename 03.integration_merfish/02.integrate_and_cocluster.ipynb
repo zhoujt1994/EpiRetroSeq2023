{
 "cells": [
  {
   "cell_type": "code",
   "execution_count": 1,
   "id": "87fa1e2c",
   "metadata": {
    "execution": {
     "iopub.execute_input": "2023-02-26T03:30:37.430213Z",
     "iopub.status.busy": "2023-02-26T03:30:37.430050Z",
     "iopub.status.idle": "2023-02-26T03:30:42.241808Z",
     "shell.execute_reply": "2023-02-26T03:30:42.240860Z",
     "shell.execute_reply.started": "2023-02-26T03:30:37.430196Z"
    },
    "papermill": {
     "duration": 14.660726,
     "end_time": "2022-10-16T08:18:26.468179",
     "exception": false,
     "start_time": "2022-10-16T08:18:11.807453",
     "status": "completed"
    },
    "tags": []
   },
   "outputs": [],
   "source": [
    "import glob\n",
    "import time\n",
    "\n",
    "import anndata\n",
    "import matplotlib.pyplot as plt\n",
    "import numpy as np\n",
    "import pandas as pd\n",
    "import scanpy as sc\n",
    "import scanpy.external as sce\n",
    "import pynndescent\n",
    "import seaborn as sns\n",
    "from ALLCools.clustering import significant_pc_test, tsne\n",
    "from ALLCools.integration import SeuratIntegration\n",
    "from scipy.sparse import csr_matrix\n",
    "from sklearn.decomposition import PCA\n",
    "from sklearn.preprocessing import normalize\n",
    "from wmb import aibs, brain, broad, cemba, mm10"
   ]
  },
  {
   "cell_type": "code",
   "execution_count": 2,
   "id": "b470d4b4-9234-410e-9ca0-3a4df67e7729",
   "metadata": {
    "execution": {
     "iopub.execute_input": "2023-02-26T03:30:42.243377Z",
     "iopub.status.busy": "2023-02-26T03:30:42.243155Z",
     "iopub.status.idle": "2023-02-26T03:30:42.247041Z",
     "shell.execute_reply": "2023-02-26T03:30:42.246408Z",
     "shell.execute_reply.started": "2023-02-26T03:30:42.243357Z"
    },
    "tags": [
     "parameters"
    ]
   },
   "outputs": [],
   "source": [
    "group_name = \"HB\""
   ]
  },
  {
   "cell_type": "code",
   "execution_count": 3,
   "id": "d11aaf3f-2064-436a-86b8-3994add51241",
   "metadata": {
    "execution": {
     "iopub.execute_input": "2023-02-26T03:30:42.247999Z",
     "iopub.status.busy": "2023-02-26T03:30:42.247812Z",
     "iopub.status.idle": "2023-02-26T03:30:42.254363Z",
     "shell.execute_reply": "2023-02-26T03:30:42.253793Z",
     "shell.execute_reply.started": "2023-02-26T03:30:42.247983Z"
    },
    "tags": []
   },
   "outputs": [],
   "source": [
    "def dump_embedding(adata, name, n_dim=2):\n",
    "    # put manifold coordinates into adata.obs\n",
    "    for i in range(n_dim):\n",
    "        adata.obs[f\"{name}_{i}\"] = adata.obsm[f\"X_{name}\"][:, i]\n",
    "    return adata"
   ]
  },
  {
   "cell_type": "code",
   "execution_count": 4,
   "id": "3ce8320a-dae3-4e6f-abd7-b7c49d67123b",
   "metadata": {
    "execution": {
     "iopub.execute_input": "2023-02-26T03:30:42.255341Z",
     "iopub.status.busy": "2023-02-26T03:30:42.255161Z",
     "iopub.status.idle": "2023-02-26T03:30:42.666400Z",
     "shell.execute_reply": "2023-02-26T03:30:42.665645Z",
     "shell.execute_reply.started": "2023-02-26T03:30:42.255325Z"
    },
    "tags": []
   },
   "outputs": [
    {
     "name": "stdout",
     "output_type": "stream",
     "text": [
      "1.3148029e-05\n"
     ]
    }
   ],
   "source": [
    "ref_adata = anndata.read_h5ad(\"aibs_10x.h5ad\")\n",
    "ref_adata.var['mean'] = ref_adata.X.mean(axis=0).A1\n",
    "ref_adata.var['std'] = (ref_adata.X.multiply(ref_adata.X)).mean(axis=0).A1 - (ref_adata.var['mean'].values ** 2)\n",
    "print(ref_adata.var['std'].min())\n",
    "ref_adata = ref_adata[:, ref_adata.var['std']>1e-5].copy()\n"
   ]
  },
  {
   "cell_type": "code",
   "execution_count": 5,
   "id": "74ce820e-db46-4203-83cc-c100d2acf53b",
   "metadata": {
    "execution": {
     "iopub.execute_input": "2023-02-26T03:30:42.667381Z",
     "iopub.status.busy": "2023-02-26T03:30:42.667205Z",
     "iopub.status.idle": "2023-02-26T03:30:42.719619Z",
     "shell.execute_reply": "2023-02-26T03:30:42.718899Z",
     "shell.execute_reply.started": "2023-02-26T03:30:42.667364Z"
    },
    "tags": []
   },
   "outputs": [
    {
     "name": "stdout",
     "output_type": "stream",
     "text": [
      "0.004044262575437655\n"
     ]
    }
   ],
   "source": [
    "qry_adata = anndata.read_h5ad(\"merfish.h5ad\")\n",
    "qry_adata.var['mean'] = qry_adata.X.mean(axis=0).A1\n",
    "qry_adata.var['std'] = (qry_adata.X.multiply(qry_adata.X)).mean(axis=0).A1 - (qry_adata.var['mean'].values ** 2)\n",
    "print(qry_adata.var['std'].min())\n",
    "qry_adata = qry_adata[:, qry_adata.var['std']>1e-5].copy()\n"
   ]
  },
  {
   "cell_type": "code",
   "execution_count": 6,
   "id": "f732d7f4-a754-4fb1-8604-23c4dad0ab98",
   "metadata": {
    "execution": {
     "iopub.execute_input": "2023-02-26T03:30:42.720649Z",
     "iopub.status.busy": "2023-02-26T03:30:42.720457Z",
     "iopub.status.idle": "2023-02-26T03:30:44.083667Z",
     "shell.execute_reply": "2023-02-26T03:30:44.082944Z",
     "shell.execute_reply.started": "2023-02-26T03:30:42.720632Z"
    },
    "tags": []
   },
   "outputs": [
    {
     "name": "stdout",
     "output_type": "stream",
     "text": [
      "Downsample PC matrix to 50000 cells to calculate significant PC components\n",
      "33 components passed P cutoff of 0.1.\n",
      "43 33 67701 8410\n"
     ]
    }
   ],
   "source": [
    "ncell = ref_adata.shape[0] + qry_adata.shape[0]\n",
    "ncc = significant_pc_test(ref_adata, p_cutoff=0.1, update=False, obsm=\"X_pca\")\n",
    "ncc = min(50, ncc, ref_adata.shape[0] - 1, qry_adata.shape[0] - 1, ref_adata.shape[1] // 5)\n",
    "ncc = max(ncc, 5)\n",
    "npc = min([50, ncc + 10, ref_adata.shape[0] - 1, ref_adata.obsm[\"X_pca\"].shape[1]])\n",
    "print(npc, ncc, ref_adata.shape[0], qry_adata.shape[0])\n"
   ]
  },
  {
   "cell_type": "code",
   "execution_count": 7,
   "id": "89b6b7cd-d14f-415c-823d-eb4ced93e21e",
   "metadata": {
    "execution": {
     "iopub.execute_input": "2023-02-26T03:30:44.085839Z",
     "iopub.status.busy": "2023-02-26T03:30:44.085655Z",
     "iopub.status.idle": "2023-02-26T03:30:44.097049Z",
     "shell.execute_reply": "2023-02-26T03:30:44.096321Z",
     "shell.execute_reply.started": "2023-02-26T03:30:44.085822Z"
    },
    "tags": []
   },
   "outputs": [],
   "source": [
    "for xx in [ref_adata, qry_adata]:\n",
    "    xx.obsm[\"X_pca\"] = normalize(xx.obsm[\"X_pca\"][:, :npc], axis=1)\n",
    "    "
   ]
  },
  {
   "cell_type": "code",
   "execution_count": 8,
   "id": "d3cb326a-66b5-4483-bcd7-43ca27f3b5e0",
   "metadata": {
    "execution": {
     "iopub.execute_input": "2023-02-26T03:30:44.147492Z",
     "iopub.status.busy": "2023-02-26T03:30:44.147328Z",
     "iopub.status.idle": "2023-02-26T03:30:44.151464Z",
     "shell.execute_reply": "2023-02-26T03:30:44.150882Z",
     "shell.execute_reply.started": "2023-02-26T03:30:44.147477Z"
    },
    "tags": []
   },
   "outputs": [],
   "source": [
    "qry_adata.obs[\"Study\"] = \"MERFISH\"\n",
    "ref_adata.obs[\"Study\"] = \"AIBS_10x\""
   ]
  },
  {
   "cell_type": "code",
   "execution_count": 9,
   "id": "ab95bf2b-b41b-4045-9b60-7a21f68322e6",
   "metadata": {
    "execution": {
     "iopub.execute_input": "2023-02-26T03:30:44.152358Z",
     "iopub.status.busy": "2023-02-26T03:30:44.152180Z",
     "iopub.status.idle": "2023-02-26T03:30:44.166454Z",
     "shell.execute_reply": "2023-02-26T03:30:44.165821Z",
     "shell.execute_reply.started": "2023-02-26T03:30:44.152343Z"
    },
    "tags": []
   },
   "outputs": [],
   "source": [
    "adata_merge = anndata.AnnData(\n",
    "    X=np.ones((ncell, 1)), obs=pd.concat([ref_adata.obs, qry_adata.obs], axis=0)\n",
    ")"
   ]
  },
  {
   "cell_type": "code",
   "execution_count": 10,
   "id": "fb464952-7433-46dc-bbef-447ec513a44c",
   "metadata": {
    "execution": {
     "iopub.execute_input": "2023-02-26T03:31:02.653153Z",
     "iopub.status.busy": "2023-02-26T03:31:02.652225Z",
     "iopub.status.idle": "2023-02-26T03:33:51.374337Z",
     "shell.execute_reply": "2023-02-26T03:33:51.373582Z",
     "shell.execute_reply.started": "2023-02-26T03:31:02.653127Z"
    },
    "tags": []
   },
   "outputs": [
    {
     "name": "stdout",
     "output_type": "stream",
     "text": [
      "Find anchors across datasets.\n",
      "Run CCA\n",
      "non zero dims 33\n",
      "Find Anchors using k=30\n",
      "Score Anchors\n",
      "Identified 26280 anchors between datasets 0 and 1.\n",
      "150.28015446662903\n",
      "Merge datasets\n",
      "[[0], [1]]\n",
      "Initialize\n",
      "Find nearest anchors. k_weight:  100\n",
      "Normalize graph\n",
      "Transform data\n",
      "18.42306637763977\n"
     ]
    }
   ],
   "source": [
    "integrator = SeuratIntegration()\n",
    "adata_list = [ref_adata, qry_adata]\n",
    "start_time = time.time()\n",
    "integrator.find_anchor(\n",
    "    adata_list,\n",
    "    k_local=None,\n",
    "    key_local=\"X_pca\",\n",
    "    k_anchor=5,\n",
    "    key_anchor=\"X\",\n",
    "    dim_red=\"cca\",\n",
    "    max_cc_cells=50000,\n",
    "    k_score=30,\n",
    "    # k_filter=min(200, ref_adata.shape[0] // 10),\n",
    "    k_filter=None,\n",
    "    scale1=True,\n",
    "    scale2=True,\n",
    "    # scale =[False, True]\n",
    "    n_components=ncc,\n",
    "    n_features=min(200, ncc * 10),\n",
    "    alignments=[[[0], [1]]],\n",
    ")\n",
    "print(time.time() - start_time)\n",
    "start_time = time.time()\n",
    "corrected = integrator.integrate(\n",
    "    key_correct=\"X_pca\",\n",
    "    row_normalize=True,\n",
    "    n_components=npc,\n",
    "    k_weight=min(100, integrator.anchor[(0, 1)].shape[0]),\n",
    "    sd=1,\n",
    "    alignments=[[[0], [1]]],\n",
    ")\n",
    "print(time.time() - start_time)\n",
    "integrator.save(\"integration_aibs10x_merfish\")\n",
    "adata_merge.obsm[\"X_pca_corrected\"] = np.concatenate(corrected, axis=0)\n"
   ]
  },
  {
   "cell_type": "code",
   "execution_count": 11,
   "id": "30da13c8",
   "metadata": {
    "execution": {
     "iopub.execute_input": "2023-02-26T03:33:51.415692Z",
     "iopub.status.busy": "2023-02-26T03:33:51.415508Z",
     "iopub.status.idle": "2023-02-26T03:39:23.006261Z",
     "shell.execute_reply": "2023-02-26T03:39:23.005307Z",
     "shell.execute_reply.started": "2023-02-26T03:33:51.415675Z"
    },
    "tags": []
   },
   "outputs": [
    {
     "name": "stdout",
     "output_type": "stream",
     "text": [
      "331.5852816104889\n"
     ]
    }
   ],
   "source": [
    "start_time = time.time()\n",
    "tsne(\n",
    "    adata_merge,\n",
    "    obsm=\"X_pca_corrected\",\n",
    "    metric=\"euclidean\",\n",
    "    exaggeration=-1,\n",
    "    perplexity=50,\n",
    "    n_jobs=-1,\n",
    ")\n",
    "dump_embedding(adata_merge, \"tsne\")\n",
    "adata_merge.obsm[f\"u{npc}seurat_tsne\"] = adata_merge.obsm[\"X_tsne\"].copy()\n",
    "print(time.time() - start_time)\n"
   ]
  },
  {
   "cell_type": "code",
   "execution_count": 12,
   "id": "f1f7ec2c-bd48-48c3-9df4-ed0dfb9d0192",
   "metadata": {
    "execution": {
     "iopub.execute_input": "2023-02-26T03:39:23.008425Z",
     "iopub.status.busy": "2023-02-26T03:39:23.008176Z",
     "iopub.status.idle": "2023-02-26T03:39:23.251831Z",
     "shell.execute_reply": "2023-02-26T03:39:23.251120Z",
     "shell.execute_reply.started": "2023-02-26T03:39:23.008404Z"
    },
    "tags": []
   },
   "outputs": [],
   "source": [
    "for i in range(3):\n",
    "    adata_merge.obs[f\"L{i+1}\"] = adata_merge.obs[f\"L{i+1}\"].astype(str)\n",
    "    adata_merge.obs.loc[adata_merge.obs[\"Study\"] == \"AIBS_10x\", f\"L{i+1}\"] = (\n",
    "        adata_merge.obs.loc[adata_merge.obs[\"Study\"] == \"AIBS_10x\", f\"L{i+1}\"]\n",
    "        .astype(float)\n",
    "        .astype(int)\n",
    "        .astype(str)\n",
    "    )"
   ]
  },
  {
   "cell_type": "code",
   "execution_count": 13,
   "id": "788b6c67-cbad-46d1-8caa-98a61a2c9fb4",
   "metadata": {
    "execution": {
     "iopub.execute_input": "2023-02-26T03:39:23.252922Z",
     "iopub.status.busy": "2023-02-26T03:39:23.252727Z",
     "iopub.status.idle": "2023-02-26T03:39:23.438120Z",
     "shell.execute_reply": "2023-02-26T03:39:23.437301Z",
     "shell.execute_reply.started": "2023-02-26T03:39:23.252904Z"
    },
    "tags": []
   },
   "outputs": [],
   "source": [
    "adata_merge.obs.loc[:, adata_merge.obs.dtypes == \"object\"] = adata_merge.obs.loc[\n",
    "    :, adata_merge.obs.dtypes == \"object\"\n",
    "].astype(str)\n",
    "adata_merge.write_h5ad(\"aibs10xmerfish.h5ad\")\n"
   ]
  },
  {
   "cell_type": "code",
   "execution_count": null,
   "id": "9b6345e3-06b2-481a-a286-9bd5d5d7890e",
   "metadata": {},
   "outputs": [],
   "source": []
  }
 ],
 "metadata": {
  "celltoolbar": "Tags",
  "kernelspec": {
   "display_name": "Python 3 (ipykernel)",
   "language": "python",
   "name": "python3"
  },
  "language_info": {
   "codemirror_mode": {
    "name": "ipython",
    "version": 3
   },
   "file_extension": ".py",
   "mimetype": "text/x-python",
   "name": "python",
   "nbconvert_exporter": "python",
   "pygments_lexer": "ipython3",
   "version": "3.7.12"
  },
  "papermill": {
   "default_parameters": {},
   "duration": 1042.848489,
   "end_time": "2022-10-16T08:35:31.964437",
   "environment_variables": {},
   "exception": null,
   "input_path": "/gale/netapp/home2/yuwu/projects/RS2/script/integration_by_region/integrate_all_ds/HB/04.integrate_and_transfer.ipynb",
   "output_path": "/gale/netapp/home2/yuwu/projects/RS2/script/integration_by_region/integrate_all_ds/HB/04.integrate_and_transfer.ipynb",
   "parameters": {
    "t": "HB"
   },
   "start_time": "2022-10-16T08:18:09.115948",
   "version": "2.3.4"
  }
 },
 "nbformat": 4,
 "nbformat_minor": 5
}
