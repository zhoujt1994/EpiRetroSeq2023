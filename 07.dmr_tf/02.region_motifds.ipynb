{
 "cells": [
  {
   "cell_type": "code",
   "execution_count": 1,
   "id": "a458ac3c-1e30-4b13-9918-e7e48df7d8bd",
   "metadata": {},
   "outputs": [],
   "source": [
    "import numpy as np\n",
    "import pandas as pd\n",
    "import xarray as xr\n",
    "from glob import glob\n",
    "from ALLCools.mcds import RegionDS\n"
   ]
  },
  {
   "cell_type": "code",
   "execution_count": 6,
   "id": "c44f9da3-13ed-42fc-9adb-f655ae9d2019",
   "metadata": {
    "tags": [
     "parameters"
    ]
   },
   "outputs": [],
   "source": [
    "group_name = 'AMY'\n"
   ]
  },
  {
   "cell_type": "code",
   "execution_count": 2,
   "id": "42b3364f-d1b2-404e-bf37-6e31bb465310",
   "metadata": {},
   "outputs": [],
   "source": [
    "motif = xr.open_zarr('/cemba/wmb/genome/CEMBA.DMRGroups.Motif.zarr/motif')\n",
    "dmr_id = motif.get_index('dmr_id')\n",
    "dmr_map = pd.read_hdf('/home/jzhou_salk_edu/sky_workdir/230209_dmrmotif/dmr_idmap.hdf', key='data')\n"
   ]
  },
  {
   "cell_type": "code",
   "execution_count": 7,
   "id": "edb3bdd3-73e0-43c3-9d56-cb562f1c442a",
   "metadata": {},
   "outputs": [],
   "source": [
    "region = group_name\n",
    "region_ds = RegionDS.open(sorted(glob(f'/rs2/221126-dmr/*/*/{region}/{region}-chr*.dmr.ds')), region_dim='dmr')\n",
    "seldmr = region_ds.get_index('dmr').map(dmr_map)\n",
    "seldmr = dmr_id.intersection(seldmr)\n",
    "seldmr.name = 'dmr_id'\n",
    "motif_reg = motif.sel({'dmr_id':seldmr})\n"
   ]
  },
  {
   "cell_type": "code",
   "execution_count": 8,
   "id": "d0abff94-68e5-4512-a6d1-308bf025d415",
   "metadata": {},
   "outputs": [],
   "source": [
    "chunk_size = 24\n",
    "motif_id = motif_reg.get_index('motif')\n",
    "rng = np.random.default_rng(seed=0)\n",
    "random_permutations = rng.permutation(seldmr.size)\n"
   ]
  },
  {
   "cell_type": "code",
   "execution_count": null,
   "id": "113cb0aa-ddd0-4999-844a-dfa8f62a220d",
   "metadata": {},
   "outputs": [
    {
     "name": "stdout",
     "output_type": "stream",
     "text": [
      "0\n",
      "24\n",
      "48\n",
      "72\n"
     ]
    }
   ],
   "source": [
    "for chunk_start in range(0, motif_id.size, chunk_size):\n",
    "    motif_tmp = motif_id[chunk_start:chunk_start+chunk_size]\n",
    "    all_score = motif_reg.sel({'motif':motif_tmp})['score'].load()\n",
    "    all_rank = random_permutations[(-all_score)[:, random_permutations].argsort(axis=1).values].argsort(axis=1)\n",
    "    all_rank = pd.DataFrame(all_rank, index=motif_tmp, columns=seldmr)\n",
    "    all_rank = all_rank.astype(\"uint32\")\n",
    "\n",
    "    ds = xr.Dataset({# \"score\": all_score, \n",
    "                     \"rank\": all_rank})\n",
    "    # ds['score'].encoding = {'chunks': (chunk_size, 1000000)}\n",
    "    ds['rank'].encoding = {'chunks': (chunk_size, 1000000)}\n",
    "    ds.coords['motif'].encoding = {'chunks': (5000,)}\n",
    "    ds.coords['dmr_id'].encoding = {'chunks': (10000000,)}\n",
    "    if chunk_start == 0:\n",
    "        ds.to_zarr(f'{region}_motif.ds', mode='w')\n",
    "    else:\n",
    "        ds.to_zarr(f'{region}_motif.ds', append_dim='motif')\n",
    "    print(chunk_start)\n"
   ]
  },
  {
   "cell_type": "code",
   "execution_count": null,
   "id": "b510a8ba-cd68-4a18-95fc-6523e3d9c3cf",
   "metadata": {},
   "outputs": [],
   "source": []
  }
 ],
 "metadata": {
  "kernelspec": {
   "display_name": "Python 3 (ipykernel)",
   "language": "python",
   "name": "python3"
  },
  "language_info": {
   "codemirror_mode": {
    "name": "ipython",
    "version": 3
   },
   "file_extension": ".py",
   "mimetype": "text/x-python",
   "name": "python",
   "nbconvert_exporter": "python",
   "pygments_lexer": "ipython3",
   "version": "3.7.12"
  }
 },
 "nbformat": 4,
 "nbformat_minor": 5
}
