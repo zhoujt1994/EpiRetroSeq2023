{
 "cells": [
  {
   "cell_type": "code",
   "execution_count": null,
   "id": "40d10292-00a5-4c40-8815-5446b48bd005",
   "metadata": {},
   "outputs": [],
   "source": [
    "import numpy as np\n",
    "import pandas as pd\n",
    "from glob import glob\n",
    "from ALLCools.mcds import RegionDS\n",
    "from scipy.sparse import csr_matrix, save_npz\n"
   ]
  },
  {
   "cell_type": "code",
   "execution_count": null,
   "id": "01e40346-e2fe-4518-b86f-7e4a33d79a13",
   "metadata": {
    "tags": [
     "parameters"
    ]
   },
   "outputs": [],
   "source": [
    "group_name = 'AMY'\n"
   ]
  },
  {
   "cell_type": "code",
   "execution_count": null,
   "id": "5750f396-c633-4878-9572-80fbe0b4139e",
   "metadata": {},
   "outputs": [],
   "source": [
    "region = group_name"
   ]
  },
  {
   "cell_type": "code",
   "execution_count": null,
   "id": "bcff7bb0-d60a-44ca-9bbe-2b4af77e769f",
   "metadata": {},
   "outputs": [],
   "source": [
    "region_ds = RegionDS.open(sorted(glob(f'/rs2/221126-dmr/*/*/{region}/{region}-chr*.dmr.ds')), region_dim='dmr')\n",
    "region_ds['frac'] = region_ds['data'].sel(count_type='mc') / region_ds['data'].sel(count_type='cov')\n",
    "data = region_ds['frac'].to_pandas()\n",
    "cov = region_ds['data'].sel({'count_type':'cov'}).to_pandas()\n"
   ]
  },
  {
   "cell_type": "code",
   "execution_count": null,
   "id": "766cd06c-6f16-4c44-8ae8-0e2ea63bdbd2",
   "metadata": {},
   "outputs": [],
   "source": [
    "hypo_frac, median_frac, hyper_frac = np.nanquantile(data[cov>5], (0.2, 0.5, 0.8), axis=0)\n",
    "tmp = median_frac - 0.3\n",
    "col_hypo = np.where((data<np.min([hypo_frac, np.where(tmp<0.2, 0.2, tmp)], axis=0)) & (cov>5))\n",
    "tmp = median_frac + 0.2\n",
    "col_hyper = np.where((data>np.max([hyper_frac, np.where(tmp>0.8, 0.8, tmp)], axis=0)) & (cov>5))\n",
    "# col_hypo = np.where((data<hypo_frac) & (cov>5))\n",
    "# col_hyper = np.where((data>hyper_frac) & (cov>5))\n",
    "col_hypo = csr_matrix((np.ones(len(col_hypo[0])), (col_hypo[0], col_hypo[1])), data.shape)\n",
    "col_hyper = csr_matrix((np.ones(len(col_hyper[0])), (col_hyper[0], col_hyper[1])), data.shape)\n"
   ]
  },
  {
   "cell_type": "code",
   "execution_count": null,
   "id": "ce7b5f7e-0b51-4501-9a17-ed53fd93aaee",
   "metadata": {},
   "outputs": [],
   "source": [
    "hypo_frac, hyper_frac = np.nanquantile(data[cov>5], (0.2, 0.8), axis=1)\n",
    "row_hypo = np.where((data<hypo_frac[:,None]) & (cov>5))\n",
    "row_hyper = np.where((data>hyper_frac[:,None]) & (cov>5))\n",
    "row_hypo = csr_matrix((np.ones(len(row_hypo[0])), (row_hypo[0], row_hypo[1])), data.shape)\n",
    "row_hyper = csr_matrix((np.ones(len(row_hyper[0])), (row_hyper[0], row_hyper[1])), data.shape)\n"
   ]
  },
  {
   "cell_type": "code",
   "execution_count": null,
   "id": "743a7b98-010e-4acf-93e7-a0d2b016dbfb",
   "metadata": {},
   "outputs": [],
   "source": [
    "total_hypo = row_hypo.multiply(col_hypo)\n",
    "total_hyper = row_hyper.multiply(col_hyper)\n",
    "save_npz(f'{region}_hypo.npz', total_hypo)\n",
    "save_npz(f'{region}_hyper.npz', total_hyper)\n"
   ]
  },
  {
   "cell_type": "code",
   "execution_count": null,
   "id": "d1c45325-3a46-4d54-b4a2-84adb14173aa",
   "metadata": {},
   "outputs": [],
   "source": [
    "print(pd.Series(total_hypo.sum(axis=1).A1).describe())\n"
   ]
  },
  {
   "cell_type": "code",
   "execution_count": null,
   "id": "33a0cc41-4c6b-4921-a059-98324d989855",
   "metadata": {},
   "outputs": [],
   "source": [
    "print(pd.Series(total_hyper.sum(axis=1).A1).describe())\n"
   ]
  }
 ],
 "metadata": {
  "kernelspec": {
   "display_name": "Python 3 (ipykernel)",
   "language": "python",
   "name": "python3"
  },
  "language_info": {
   "codemirror_mode": {
    "name": "ipython",
    "version": 3
   },
   "file_extension": ".py",
   "mimetype": "text/x-python",
   "name": "python",
   "nbconvert_exporter": "python",
   "pygments_lexer": "ipython3",
   "version": "3.7.12"
  }
 },
 "nbformat": 4,
 "nbformat_minor": 5
}
