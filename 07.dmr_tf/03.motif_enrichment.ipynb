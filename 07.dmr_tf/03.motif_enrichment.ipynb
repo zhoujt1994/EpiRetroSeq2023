{
 "cells": [
  {
   "cell_type": "code",
   "execution_count": null,
   "id": "85b8dffc-f71b-4f61-8b3c-e345316d45c7",
   "metadata": {},
   "outputs": [],
   "source": [
    "import numpy as np\n",
    "import pandas as pd\n",
    "import xarray as xr\n",
    "from ALLCools.motif.cistarget import cistarget_motif_enrichment\n",
    "from scipy.sparse import load_npz\n"
   ]
  },
  {
   "cell_type": "code",
   "execution_count": null,
   "id": "578ef070-8178-47a9-b142-d535c6ab19e5",
   "metadata": {
    "tags": [
     "parameters"
    ]
   },
   "outputs": [],
   "source": [
    "group_name = \"CTX\""
   ]
  },
  {
   "cell_type": "code",
   "execution_count": 3,
   "id": "511955de-fcd4-4b5d-a9b5-08848f139cb8",
   "metadata": {
    "execution": {
     "iopub.execute_input": "2023-02-13T05:42:00.595680Z",
     "iopub.status.busy": "2023-02-13T05:42:00.595458Z",
     "iopub.status.idle": "2023-02-13T05:42:00.598733Z",
     "shell.execute_reply": "2023-02-13T05:42:00.598087Z",
     "shell.execute_reply.started": "2023-02-13T05:42:00.595661Z"
    },
    "tags": []
   },
   "outputs": [],
   "source": [
    "region = group_name"
   ]
  },
  {
   "cell_type": "code",
   "execution_count": 4,
   "id": "d284898f-b028-449d-8019-24b75099cdcf",
   "metadata": {
    "execution": {
     "iopub.execute_input": "2023-02-13T05:42:02.628335Z",
     "iopub.status.busy": "2023-02-13T05:42:02.627604Z",
     "iopub.status.idle": "2023-02-13T05:42:13.200104Z",
     "shell.execute_reply": "2023-02-13T05:42:13.199286Z",
     "shell.execute_reply.started": "2023-02-13T05:42:02.628307Z"
    },
    "tags": []
   },
   "outputs": [],
   "source": [
    "motif_ds = xr.open_zarr(f\"{region}_motif.ds\")\n",
    "motif_ds[\"rank\"].load()\n",
    "total_dmr = motif_ds.get_index(\"dmr_id\")\n",
    "motif_id = motif_ds.get_index(\"motif\")\n",
    "print(motif_ds.dims)"
   ]
  },
  {
   "cell_type": "code",
   "execution_count": 5,
   "id": "c25f073f-ad23-4f82-a735-bfc43af7ac23",
   "metadata": {
    "execution": {
     "iopub.execute_input": "2023-02-13T05:42:15.886913Z",
     "iopub.status.busy": "2023-02-13T05:42:15.886631Z",
     "iopub.status.idle": "2023-02-13T05:42:16.569548Z",
     "shell.execute_reply": "2023-02-13T05:42:16.568739Z",
     "shell.execute_reply.started": "2023-02-13T05:42:15.886892Z"
    },
    "tags": []
   },
   "outputs": [],
   "source": [
    "dmr_map = pd.read_hdf(\n",
    "    \"/home/jzhou_salk_edu/sky_workdir/230209_dmrmotif/dmr_idmap.hdf\", key=\"data\"\n",
    ")\n",
    "dmr_status = load_npz(f\"{region}_hypo.npz\")\n",
    "dmr_id = np.load(f\"{region}_index.npz\", allow_pickle=True)[\"dmr\"]\n",
    "cluster_id = np.load(f\"{region}_index.npz\", allow_pickle=True)[\"cluster\"]\n",
    "cluster_id = (\n",
    "    pd.Series(cluster_id, name=\"cluster_id\")\n",
    "    .reset_index()\n",
    "    .set_index(\"cluster_id\")[\"index\"]\n",
    ")\n",
    "print(dmr_status.shape)\n"
   ]
  },
  {
   "cell_type": "code",
   "execution_count": 6,
   "id": "ef352bc7-c9ad-4863-ac7d-cfe7db410f12",
   "metadata": {
    "execution": {
     "iopub.execute_input": "2023-02-13T05:43:42.449461Z",
     "iopub.status.busy": "2023-02-13T05:43:42.449177Z",
     "iopub.status.idle": "2023-02-13T05:53:45.908937Z",
     "shell.execute_reply": "2023-02-13T05:53:45.908052Z",
     "shell.execute_reply.started": "2023-02-13T05:43:42.449440Z"
    },
    "tags": []
   },
   "outputs": [
    {
     "name": "stdout",
     "output_type": "stream",
     "text": [
      "CTX-0\n",
      "CTX-1\n",
      "CTX-10\n",
      "CTX-11\n",
      "CTX-12\n",
      "CTX-13\n",
      "CTX-14\n",
      "CTX-15\n",
      "CTX-16\n",
      "CTX-17\n",
      "CTX-18\n",
      "CTX-19\n",
      "CTX-2\n",
      "CTX-20\n",
      "CTX-21\n",
      "CTX-22\n",
      "CTX-23\n",
      "CTX-24\n",
      "CTX-25\n",
      "CTX-26\n",
      "CTX-27\n",
      "CTX-28\n",
      "CTX-29\n",
      "CTX-3\n",
      "CTX-30\n",
      "CTX-31\n",
      "CTX-32\n",
      "CTX-33\n",
      "CTX-34\n",
      "CTX-35\n",
      "CTX-36\n",
      "CTX-37\n",
      "CTX-38\n",
      "CTX-39\n",
      "CTX-4\n",
      "CTX-40\n",
      "CTX-41\n",
      "CTX-42\n",
      "CTX-43\n",
      "CTX-44\n",
      "CTX-45\n",
      "CTX-46\n",
      "CTX-47\n",
      "CTX-48\n",
      "CTX-49\n",
      "CTX-5\n",
      "CTX-50\n",
      "CTX-51\n",
      "CTX-52\n",
      "CTX-53\n",
      "CTX-54\n",
      "CTX-55\n",
      "CTX-6\n",
      "CTX-7\n",
      "CTX-8\n",
      "CTX-9\n"
     ]
    }
   ],
   "source": [
    "auc_df, nes_df = [], []\n",
    "for i, cluster in enumerate(cluster_id.index):\n",
    "    seldmr = pd.Index(dmr_id[dmr_status[i].indices])\n",
    "    seldmr = total_dmr.intersection(seldmr.map(dmr_map))\n",
    "    motif_df = motif_ds.sel({\"dmr_id\": seldmr})[\"rank\"].to_pandas()\n",
    "    motif_enrichment, motif_hit, full_stats = cistarget_motif_enrichment(\n",
    "        rank_df=motif_df,\n",
    "        total_regions=total_dmr.size,\n",
    "        auc_threshold=0.005,\n",
    "        nes_threshold=3,\n",
    "        rank_threshold=0.05,\n",
    "        full_motif_stats=True,\n",
    "    )\n",
    "    motif_result = xr.Dataset({\"hits\": motif_hit})\n",
    "    motif_result[\"hits\"].encoding = {\"chunks\": (50, 1000000)}\n",
    "    motif_result.to_zarr(f\"{cluster}.enriched_motif_dmr.zarr\", mode=\"w\")\n",
    "    auc_df.append(full_stats[\"AUC\"])\n",
    "    nes_df.append(full_stats[\"NES\"])\n",
    "    print(cluster)\n",
    "    "
   ]
  },
  {
   "cell_type": "code",
   "execution_count": 10,
   "id": "98978acc-4038-43f2-99dd-cb195262d2f9",
   "metadata": {
    "execution": {
     "iopub.execute_input": "2023-02-13T05:57:15.552600Z",
     "iopub.status.busy": "2023-02-13T05:57:15.552317Z",
     "iopub.status.idle": "2023-02-13T05:57:15.596268Z",
     "shell.execute_reply": "2023-02-13T05:57:15.595669Z",
     "shell.execute_reply.started": "2023-02-13T05:57:15.552579Z"
    },
    "tags": []
   },
   "outputs": [],
   "source": [
    "auc_df = pd.concat(auc_df, axis=1)\n",
    "auc_df.columns = cluster_id.index\n",
    "nes_df = pd.concat(nes_df, axis=1)\n",
    "nes_df.columns = cluster_id.index\n",
    "auc_df.to_hdf(f\"{region}_AUC.hdf\", key=\"data\")\n",
    "nes_df.to_hdf(f\"{region}_NES.hdf\", key=\"data\")\n"
   ]
  },
  {
   "cell_type": "code",
   "execution_count": null,
   "id": "83b17011-c215-44ef-9571-e4ddaaad60bb",
   "metadata": {},
   "outputs": [],
   "source": []
  },
  {
   "cell_type": "code",
   "execution_count": null,
   "id": "80599737-338d-44dd-aabf-bbe6fa769156",
   "metadata": {},
   "outputs": [],
   "source": []
  },
  {
   "cell_type": "code",
   "execution_count": null,
   "id": "8801ef3a-117a-4b5c-b488-6e1d03dd6eef",
   "metadata": {},
   "outputs": [],
   "source": []
  },
  {
   "cell_type": "code",
   "execution_count": null,
   "id": "0b8a0f99-73ab-431d-a454-333a8e8731b3",
   "metadata": {},
   "outputs": [],
   "source": []
  }
 ],
 "metadata": {
  "kernelspec": {
   "display_name": "Python 3 (ipykernel)",
   "language": "python",
   "name": "python3"
  },
  "language_info": {
   "codemirror_mode": {
    "name": "ipython",
    "version": 3
   },
   "file_extension": ".py",
   "mimetype": "text/x-python",
   "name": "python",
   "nbconvert_exporter": "python",
   "pygments_lexer": "ipython3",
   "version": "3.7.12"
  }
 },
 "nbformat": 4,
 "nbformat_minor": 5
}
