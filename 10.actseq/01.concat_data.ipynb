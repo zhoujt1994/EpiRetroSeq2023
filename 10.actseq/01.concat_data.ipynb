{
 "cells": [
  {
   "cell_type": "code",
   "execution_count": 1,
   "id": "f4fdf0a4-987e-4b06-b675-9b3f07c506f4",
   "metadata": {
    "execution": {
     "iopub.execute_input": "2023-04-04T06:34:41.326845Z",
     "iopub.status.busy": "2023-04-04T06:34:41.326619Z",
     "iopub.status.idle": "2023-04-04T06:34:47.350894Z",
     "shell.execute_reply": "2023-04-04T06:34:47.350043Z",
     "shell.execute_reply.started": "2023-04-04T06:34:41.326828Z"
    },
    "tags": []
   },
   "outputs": [],
   "source": [
    "import glob\n",
    "import numpy as np\n",
    "import pandas as pd\n",
    "import anndata\n",
    "import scanpy as sc\n",
    "import seaborn as sns\n",
    "import matplotlib.pyplot as plt\n",
    "from sklearn.preprocessing import normalize, OneHotEncoder\n",
    "from sklearn.decomposition import PCA, TruncatedSVD\n",
    "from ALLCools.mcds import MCDS\n",
    "from ALLCools.plot import *\n",
    "from ALLCools.clustering import *\n",
    "from wmb import brain, aibs, broad, mm10\n",
    "import pynndescent\n",
    "from scipy.sparse import csr_matrix\n"
   ]
  },
  {
   "cell_type": "code",
   "execution_count": 2,
   "id": "6f7b4b66-0abe-43c5-b2b1-e121631c0c2d",
   "metadata": {
    "execution": {
     "iopub.execute_input": "2023-04-04T06:34:47.359313Z",
     "iopub.status.busy": "2023-04-04T06:34:47.359137Z",
     "iopub.status.idle": "2023-04-04T06:34:47.362730Z",
     "shell.execute_reply": "2023-04-04T06:34:47.362109Z",
     "shell.execute_reply.started": "2023-04-04T06:34:47.359294Z"
    },
    "tags": []
   },
   "outputs": [],
   "source": [
    "indir = '/home/jzhou_salk_edu/sky_workdir/230327_Kim_integration/'"
   ]
  },
  {
   "cell_type": "code",
   "execution_count": 9,
   "id": "3d6983ff-9dc6-47f3-a513-749883662757",
   "metadata": {
    "execution": {
     "iopub.execute_input": "2023-04-03T05:49:52.759223Z",
     "iopub.status.busy": "2023-04-03T05:49:52.758949Z",
     "iopub.status.idle": "2023-04-03T05:49:52.787498Z",
     "shell.execute_reply": "2023-04-03T05:49:52.786904Z",
     "shell.execute_reply.started": "2023-04-03T05:49:52.759204Z"
    },
    "tags": []
   },
   "outputs": [
    {
     "data": {
      "text/plain": [
       "['/home/jzhou_salk_edu/sky_workdir/230327_Kim_integration/data/10x_VMH_Male_Aggression_3/2018_0803/',\n",
       " '/home/jzhou_salk_edu/sky_workdir/230327_Kim_integration/data/10x_VMH_Male_M-M_CI_dangled_2/2019_0414/',\n",
       " '/home/jzhou_salk_edu/sky_workdir/230327_Kim_integration/data/10x_VMH_Male_M-M_CI_dangled_1/2019_0331/',\n",
       " '/home/jzhou_salk_edu/sky_workdir/230327_Kim_integration/data/10x_VMH_Female_Control_1/2018_0428/',\n",
       " '/home/jzhou_salk_edu/sky_workdir/230327_Kim_integration/data/10x_VMH_Male_Others_4/2019_0413/',\n",
       " '/home/jzhou_salk_edu/sky_workdir/230327_Kim_integration/data/10x_VMH_Male_Control_2/2018_0429/',\n",
       " '/home/jzhou_salk_edu/sky_workdir/230327_Kim_integration/data/10x_VMH_Male_M-M_CI_pencil_cup_1/2018_0703/',\n",
       " '/home/jzhou_salk_edu/sky_workdir/230327_Kim_integration/data/10x_VMH_Female_Mating_not_receptive_2/2018_0812_2/',\n",
       " '/home/jzhou_salk_edu/sky_workdir/230327_Kim_integration/data/10x_VMH_Male_Plain_2/2018_0527/',\n",
       " '/home/jzhou_salk_edu/sky_workdir/230327_Kim_integration/data/10x_VMH_Male_M-F_CI_pencil_cup_1/2018_0701/',\n",
       " '/home/jzhou_salk_edu/sky_workdir/230327_Kim_integration/data/10x_VMH_Male_Aggression_2/2018_0630/',\n",
       " '/home/jzhou_salk_edu/sky_workdir/230327_Kim_integration/data/10x_VMH_Male_Social_Fear_Singly-housed_2/2019_0330/',\n",
       " '/home/jzhou_salk_edu/sky_workdir/230327_Kim_integration/data/10x_VMH_Male_Social_Fear_Group_housed_1/2019_0325/',\n",
       " '/home/jzhou_salk_edu/sky_workdir/230327_Kim_integration/data/10x_VMH_Male_Others_1/2018_0728/',\n",
       " '/home/jzhou_salk_edu/sky_workdir/230327_Kim_integration/data/10x_VMH_Male_Others_3/2019_0324/',\n",
       " '/home/jzhou_salk_edu/sky_workdir/230327_Kim_integration/data/10x_VMH_Female_Mating_not_receptive_3/2018_0812_3/',\n",
       " '/home/jzhou_salk_edu/sky_workdir/230327_Kim_integration/data/10x_VMH_Male_Plain_1/2018_0410/',\n",
       " '/home/jzhou_salk_edu/sky_workdir/230327_Kim_integration/data/10x_VMH_Male_Aggression_1/2018_0422/',\n",
       " '/home/jzhou_salk_edu/sky_workdir/230327_Kim_integration/data/10x_VMH_Male_Social_Fear_Singly-housed_1/2018_0812_1/',\n",
       " '/home/jzhou_salk_edu/sky_workdir/230327_Kim_integration/data/10x_VMH_Male_Others_2/2019_0323/',\n",
       " '/home/jzhou_salk_edu/sky_workdir/230327_Kim_integration/data/10x_VMH_Male_Control_3/2018_0520/',\n",
       " '/home/jzhou_salk_edu/sky_workdir/230327_Kim_integration/data/10x_VMH_Male_M-F_CI_dangled_1/2018_0519/',\n",
       " '/home/jzhou_salk_edu/sky_workdir/230327_Kim_integration/data/10x_VMH_Male_Control_1/2018_0420/',\n",
       " '/home/jzhou_salk_edu/sky_workdir/230327_Kim_integration/data/10x_VMH_Female_Mating_not_receptive_1/2018_0802/',\n",
       " '/home/jzhou_salk_edu/sky_workdir/230327_Kim_integration/data/10x_VMH_Female_Plain_1/2018_0707/',\n",
       " '/home/jzhou_salk_edu/sky_workdir/230327_Kim_integration/data/10x_VMH_Male_Mating_1/2018_0715/']"
      ]
     },
     "execution_count": 9,
     "metadata": {},
     "output_type": "execute_result"
    }
   ],
   "source": [
    "file_list = glob.glob(f'{indir}data/10x*/*/')\n",
    "file_list"
   ]
  },
  {
   "cell_type": "code",
   "execution_count": 10,
   "id": "47fab21d-43a7-48ca-95ed-bf1681e5de06",
   "metadata": {
    "execution": {
     "iopub.execute_input": "2023-04-03T05:50:33.652888Z",
     "iopub.status.busy": "2023-04-03T05:50:33.652622Z",
     "iopub.status.idle": "2023-04-03T05:52:48.811076Z",
     "shell.execute_reply": "2023-04-03T05:52:48.809988Z",
     "shell.execute_reply.started": "2023-04-03T05:50:33.652869Z"
    },
    "tags": []
   },
   "outputs": [
    {
     "name": "stdout",
     "output_type": "stream",
     "text": [
      "/home/jzhou_salk_edu/sky_workdir/230327_Kim_integration/data/10x_VMH_Male_Social_Fear_Singly-housed_1/2018_0812_1/\n",
      "/home/jzhou_salk_edu/sky_workdir/230327_Kim_integration/data/10x_VMH_Male_Others_2/2019_0323/\n",
      "/home/jzhou_salk_edu/sky_workdir/230327_Kim_integration/data/10x_VMH_Male_Control_3/2018_0520/\n",
      "/home/jzhou_salk_edu/sky_workdir/230327_Kim_integration/data/10x_VMH_Male_M-F_CI_dangled_1/2018_0519/\n",
      "/home/jzhou_salk_edu/sky_workdir/230327_Kim_integration/data/10x_VMH_Male_Control_1/2018_0420/\n",
      "/home/jzhou_salk_edu/sky_workdir/230327_Kim_integration/data/10x_VMH_Female_Mating_not_receptive_1/2018_0802/\n",
      "/home/jzhou_salk_edu/sky_workdir/230327_Kim_integration/data/10x_VMH_Female_Plain_1/2018_0707/\n",
      "/home/jzhou_salk_edu/sky_workdir/230327_Kim_integration/data/10x_VMH_Male_Mating_1/2018_0715/\n"
     ]
    }
   ],
   "source": [
    "for file in file_list[18:]:\n",
    "    data = sc.read_10x_mtx(file)\n",
    "    data.write_h5ad(f'/home/jzhou_salk_edu/sky_workdir/230327_Kim_integration/data/{file.split(\"/\")[-3]}.h5ad')\n",
    "    print(file)\n",
    "    "
   ]
  },
  {
   "cell_type": "code",
   "execution_count": 11,
   "id": "5f35bdf1-9eba-41ff-b503-841375ee8980",
   "metadata": {
    "execution": {
     "iopub.execute_input": "2023-04-03T06:47:13.552042Z",
     "iopub.status.busy": "2023-04-03T06:47:13.551747Z",
     "iopub.status.idle": "2023-04-03T06:47:13.555804Z",
     "shell.execute_reply": "2023-04-03T06:47:13.555268Z",
     "shell.execute_reply.started": "2023-04-03T06:47:13.552020Z"
    }
   },
   "outputs": [
    {
     "name": "stdout",
     "output_type": "stream",
     "text": [
      "26\n"
     ]
    }
   ],
   "source": [
    "print(len(file_list))"
   ]
  },
  {
   "cell_type": "code",
   "execution_count": 3,
   "id": "64821d88-4f80-41ec-9954-a1f277886cbb",
   "metadata": {
    "execution": {
     "iopub.execute_input": "2023-04-04T05:20:52.782669Z",
     "iopub.status.busy": "2023-04-04T05:20:52.782467Z",
     "iopub.status.idle": "2023-04-04T05:20:53.161767Z",
     "shell.execute_reply": "2023-04-04T05:20:53.161100Z",
     "shell.execute_reply.started": "2023-04-04T05:20:52.782651Z"
    },
    "tags": []
   },
   "outputs": [
    {
     "data": {
      "text/html": [
       "<div>\n",
       "<style scoped>\n",
       "    .dataframe tbody tr th:only-of-type {\n",
       "        vertical-align: middle;\n",
       "    }\n",
       "\n",
       "    .dataframe tbody tr th {\n",
       "        vertical-align: top;\n",
       "    }\n",
       "\n",
       "    .dataframe thead th {\n",
       "        text-align: right;\n",
       "    }\n",
       "</style>\n",
       "<table border=\"1\" class=\"dataframe\">\n",
       "  <thead>\n",
       "    <tr style=\"text-align: right;\">\n",
       "      <th></th>\n",
       "      <th>orig.ident</th>\n",
       "      <th>umis_label</th>\n",
       "      <th>genes_label</th>\n",
       "      <th>behavior_label</th>\n",
       "      <th>sex_label</th>\n",
       "      <th>sex_exp_label</th>\n",
       "      <th>housing_label</th>\n",
       "      <th>tech</th>\n",
       "      <th>percent.mt</th>\n",
       "      <th>cell_cluster_id</th>\n",
       "      <th>...</th>\n",
       "      <th>cell_cluster_color</th>\n",
       "      <th>neuron_cluster_id</th>\n",
       "      <th>neuron_cluster_label</th>\n",
       "      <th>neuron_cluster_color</th>\n",
       "      <th>VMH_neuron_cluster_id</th>\n",
       "      <th>VMH_neuron_cluster_label</th>\n",
       "      <th>VMH_neuron_cluster_color</th>\n",
       "      <th>VMH_neuron_cca_cluster_id</th>\n",
       "      <th>VMH_neuron_cca_cluster_label</th>\n",
       "      <th>VMH_neuron_cca_cluster_color</th>\n",
       "    </tr>\n",
       "    <tr>\n",
       "      <th>sample_name</th>\n",
       "      <th></th>\n",
       "      <th></th>\n",
       "      <th></th>\n",
       "      <th></th>\n",
       "      <th></th>\n",
       "      <th></th>\n",
       "      <th></th>\n",
       "      <th></th>\n",
       "      <th></th>\n",
       "      <th></th>\n",
       "      <th></th>\n",
       "      <th></th>\n",
       "      <th></th>\n",
       "      <th></th>\n",
       "      <th></th>\n",
       "      <th></th>\n",
       "      <th></th>\n",
       "      <th></th>\n",
       "      <th></th>\n",
       "      <th></th>\n",
       "      <th></th>\n",
       "    </tr>\n",
       "  </thead>\n",
       "  <tbody>\n",
       "    <tr>\n",
       "      <th>1_AAACCTGAGCTGATAA</th>\n",
       "      <td>10x_VMH_Male_Plain_1</td>\n",
       "      <td>1499</td>\n",
       "      <td>949</td>\n",
       "      <td>Plain</td>\n",
       "      <td>M</td>\n",
       "      <td>Naive</td>\n",
       "      <td>Group</td>\n",
       "      <td>10X_v2</td>\n",
       "      <td>5.603736</td>\n",
       "      <td>27.0</td>\n",
       "      <td>...</td>\n",
       "      <td>#4D4535</td>\n",
       "      <td>NaN</td>\n",
       "      <td>NaN</td>\n",
       "      <td>NaN</td>\n",
       "      <td>NaN</td>\n",
       "      <td>NaN</td>\n",
       "      <td>NaN</td>\n",
       "      <td>NaN</td>\n",
       "      <td>NaN</td>\n",
       "      <td>NaN</td>\n",
       "    </tr>\n",
       "    <tr>\n",
       "      <th>1_AAACCTGCACTGTCGG</th>\n",
       "      <td>10x_VMH_Male_Plain_1</td>\n",
       "      <td>3312</td>\n",
       "      <td>1923</td>\n",
       "      <td>Plain</td>\n",
       "      <td>M</td>\n",
       "      <td>Naive</td>\n",
       "      <td>Group</td>\n",
       "      <td>10X_v2</td>\n",
       "      <td>6.129227</td>\n",
       "      <td>20.0</td>\n",
       "      <td>...</td>\n",
       "      <td>#763BFF</td>\n",
       "      <td>15.0</td>\n",
       "      <td>Dlk1_4</td>\n",
       "      <td>#4D8092</td>\n",
       "      <td>15.0</td>\n",
       "      <td>Dlk1_2</td>\n",
       "      <td>#74DCFF</td>\n",
       "      <td>16.0</td>\n",
       "      <td>Dlk1_2</td>\n",
       "      <td>#66ABC2</td>\n",
       "    </tr>\n",
       "    <tr>\n",
       "      <th>1_AAACCTGCATAGTAAG</th>\n",
       "      <td>10x_VMH_Male_Plain_1</td>\n",
       "      <td>1430</td>\n",
       "      <td>935</td>\n",
       "      <td>Plain</td>\n",
       "      <td>M</td>\n",
       "      <td>Naive</td>\n",
       "      <td>Group</td>\n",
       "      <td>10X_v2</td>\n",
       "      <td>7.062937</td>\n",
       "      <td>28.0</td>\n",
       "      <td>...</td>\n",
       "      <td>#141211</td>\n",
       "      <td>NaN</td>\n",
       "      <td>NaN</td>\n",
       "      <td>NaN</td>\n",
       "      <td>NaN</td>\n",
       "      <td>NaN</td>\n",
       "      <td>NaN</td>\n",
       "      <td>NaN</td>\n",
       "      <td>NaN</td>\n",
       "      <td>NaN</td>\n",
       "    </tr>\n",
       "    <tr>\n",
       "      <th>1_AAACCTGCATTCCTCG</th>\n",
       "      <td>10x_VMH_Male_Plain_1</td>\n",
       "      <td>1788</td>\n",
       "      <td>1148</td>\n",
       "      <td>Plain</td>\n",
       "      <td>M</td>\n",
       "      <td>Naive</td>\n",
       "      <td>Group</td>\n",
       "      <td>10X_v2</td>\n",
       "      <td>3.803132</td>\n",
       "      <td>55.0</td>\n",
       "      <td>...</td>\n",
       "      <td>#9C9C9C</td>\n",
       "      <td>NaN</td>\n",
       "      <td>NaN</td>\n",
       "      <td>NaN</td>\n",
       "      <td>NaN</td>\n",
       "      <td>NaN</td>\n",
       "      <td>NaN</td>\n",
       "      <td>NaN</td>\n",
       "      <td>NaN</td>\n",
       "      <td>NaN</td>\n",
       "    </tr>\n",
       "    <tr>\n",
       "      <th>1_AAACCTGGTAGCGATG</th>\n",
       "      <td>10x_VMH_Male_Plain_1</td>\n",
       "      <td>2736</td>\n",
       "      <td>1365</td>\n",
       "      <td>Plain</td>\n",
       "      <td>M</td>\n",
       "      <td>Naive</td>\n",
       "      <td>Group</td>\n",
       "      <td>10X_v2</td>\n",
       "      <td>6.652047</td>\n",
       "      <td>24.0</td>\n",
       "      <td>...</td>\n",
       "      <td>#89ADA4</td>\n",
       "      <td>NaN</td>\n",
       "      <td>NaN</td>\n",
       "      <td>NaN</td>\n",
       "      <td>NaN</td>\n",
       "      <td>NaN</td>\n",
       "      <td>NaN</td>\n",
       "      <td>NaN</td>\n",
       "      <td>NaN</td>\n",
       "      <td>NaN</td>\n",
       "    </tr>\n",
       "    <tr>\n",
       "      <th>...</th>\n",
       "      <td>...</td>\n",
       "      <td>...</td>\n",
       "      <td>...</td>\n",
       "      <td>...</td>\n",
       "      <td>...</td>\n",
       "      <td>...</td>\n",
       "      <td>...</td>\n",
       "      <td>...</td>\n",
       "      <td>...</td>\n",
       "      <td>...</td>\n",
       "      <td>...</td>\n",
       "      <td>...</td>\n",
       "      <td>...</td>\n",
       "      <td>...</td>\n",
       "      <td>...</td>\n",
       "      <td>...</td>\n",
       "      <td>...</td>\n",
       "      <td>...</td>\n",
       "      <td>...</td>\n",
       "      <td>...</td>\n",
       "      <td>...</td>\n",
       "    </tr>\n",
       "    <tr>\n",
       "      <th>26_TTTGTCACAAGTCATC</th>\n",
       "      <td>10x_VMH_Male_M-M_CI_dangled_2</td>\n",
       "      <td>2648</td>\n",
       "      <td>1341</td>\n",
       "      <td>CI(M)_dangle</td>\n",
       "      <td>M</td>\n",
       "      <td>Exp</td>\n",
       "      <td>Single</td>\n",
       "      <td>10X_v2</td>\n",
       "      <td>7.703927</td>\n",
       "      <td>24.0</td>\n",
       "      <td>...</td>\n",
       "      <td>#89ADA4</td>\n",
       "      <td>NaN</td>\n",
       "      <td>NaN</td>\n",
       "      <td>NaN</td>\n",
       "      <td>NaN</td>\n",
       "      <td>NaN</td>\n",
       "      <td>NaN</td>\n",
       "      <td>NaN</td>\n",
       "      <td>NaN</td>\n",
       "      <td>NaN</td>\n",
       "    </tr>\n",
       "    <tr>\n",
       "      <th>26_TTTGTCACAGACGCTC</th>\n",
       "      <td>10x_VMH_Male_M-M_CI_dangled_2</td>\n",
       "      <td>5023</td>\n",
       "      <td>2712</td>\n",
       "      <td>CI(M)_dangle</td>\n",
       "      <td>M</td>\n",
       "      <td>Exp</td>\n",
       "      <td>Single</td>\n",
       "      <td>10X_v2</td>\n",
       "      <td>4.618754</td>\n",
       "      <td>5.0</td>\n",
       "      <td>...</td>\n",
       "      <td>#C129A4</td>\n",
       "      <td>24.0</td>\n",
       "      <td>Gluta_VMH-out_1</td>\n",
       "      <td>#CC4E3D</td>\n",
       "      <td>NaN</td>\n",
       "      <td>NaN</td>\n",
       "      <td>NaN</td>\n",
       "      <td>NaN</td>\n",
       "      <td>NaN</td>\n",
       "      <td>NaN</td>\n",
       "    </tr>\n",
       "    <tr>\n",
       "      <th>26_TTTGTCACAGTATAAG</th>\n",
       "      <td>10x_VMH_Male_M-M_CI_dangled_2</td>\n",
       "      <td>3158</td>\n",
       "      <td>1934</td>\n",
       "      <td>CI(M)_dangle</td>\n",
       "      <td>M</td>\n",
       "      <td>Exp</td>\n",
       "      <td>Single</td>\n",
       "      <td>10X_v2</td>\n",
       "      <td>4.844839</td>\n",
       "      <td>25.0</td>\n",
       "      <td>...</td>\n",
       "      <td>#354D40</td>\n",
       "      <td>NaN</td>\n",
       "      <td>NaN</td>\n",
       "      <td>NaN</td>\n",
       "      <td>NaN</td>\n",
       "      <td>NaN</td>\n",
       "      <td>NaN</td>\n",
       "      <td>NaN</td>\n",
       "      <td>NaN</td>\n",
       "      <td>NaN</td>\n",
       "    </tr>\n",
       "    <tr>\n",
       "      <th>26_TTTGTCAGTGTGGTTT</th>\n",
       "      <td>10x_VMH_Male_M-M_CI_dangled_2</td>\n",
       "      <td>6388</td>\n",
       "      <td>3102</td>\n",
       "      <td>CI(M)_dangle</td>\n",
       "      <td>M</td>\n",
       "      <td>Exp</td>\n",
       "      <td>Single</td>\n",
       "      <td>10X_v2</td>\n",
       "      <td>2.379461</td>\n",
       "      <td>17.0</td>\n",
       "      <td>...</td>\n",
       "      <td>#FF7394</td>\n",
       "      <td>54.0</td>\n",
       "      <td>GABA_VMH-out_21</td>\n",
       "      <td>#BF5666</td>\n",
       "      <td>NaN</td>\n",
       "      <td>NaN</td>\n",
       "      <td>NaN</td>\n",
       "      <td>NaN</td>\n",
       "      <td>NaN</td>\n",
       "      <td>NaN</td>\n",
       "    </tr>\n",
       "    <tr>\n",
       "      <th>26_TTTGTCATCTGATTCT</th>\n",
       "      <td>10x_VMH_Male_M-M_CI_dangled_2</td>\n",
       "      <td>2360</td>\n",
       "      <td>1575</td>\n",
       "      <td>CI(M)_dangle</td>\n",
       "      <td>M</td>\n",
       "      <td>Exp</td>\n",
       "      <td>Single</td>\n",
       "      <td>10X_v2</td>\n",
       "      <td>1.525424</td>\n",
       "      <td>20.0</td>\n",
       "      <td>...</td>\n",
       "      <td>#763BFF</td>\n",
       "      <td>1.0</td>\n",
       "      <td>Nr5a1_7</td>\n",
       "      <td>#808080</td>\n",
       "      <td>21.0</td>\n",
       "      <td>Nr5a1_1</td>\n",
       "      <td>#ACC9FA</td>\n",
       "      <td>22.0</td>\n",
       "      <td>Nr5a1_1</td>\n",
       "      <td>#B57FF1</td>\n",
       "    </tr>\n",
       "  </tbody>\n",
       "</table>\n",
       "<p>168877 rows × 21 columns</p>\n",
       "</div>"
      ],
      "text/plain": [
       "                                        orig.ident  umis_label  genes_label  \\\n",
       "sample_name                                                                   \n",
       "1_AAACCTGAGCTGATAA            10x_VMH_Male_Plain_1        1499          949   \n",
       "1_AAACCTGCACTGTCGG            10x_VMH_Male_Plain_1        3312         1923   \n",
       "1_AAACCTGCATAGTAAG            10x_VMH_Male_Plain_1        1430          935   \n",
       "1_AAACCTGCATTCCTCG            10x_VMH_Male_Plain_1        1788         1148   \n",
       "1_AAACCTGGTAGCGATG            10x_VMH_Male_Plain_1        2736         1365   \n",
       "...                                            ...         ...          ...   \n",
       "26_TTTGTCACAAGTCATC  10x_VMH_Male_M-M_CI_dangled_2        2648         1341   \n",
       "26_TTTGTCACAGACGCTC  10x_VMH_Male_M-M_CI_dangled_2        5023         2712   \n",
       "26_TTTGTCACAGTATAAG  10x_VMH_Male_M-M_CI_dangled_2        3158         1934   \n",
       "26_TTTGTCAGTGTGGTTT  10x_VMH_Male_M-M_CI_dangled_2        6388         3102   \n",
       "26_TTTGTCATCTGATTCT  10x_VMH_Male_M-M_CI_dangled_2        2360         1575   \n",
       "\n",
       "                    behavior_label sex_label sex_exp_label housing_label  \\\n",
       "sample_name                                                                \n",
       "1_AAACCTGAGCTGATAA           Plain         M         Naive         Group   \n",
       "1_AAACCTGCACTGTCGG           Plain         M         Naive         Group   \n",
       "1_AAACCTGCATAGTAAG           Plain         M         Naive         Group   \n",
       "1_AAACCTGCATTCCTCG           Plain         M         Naive         Group   \n",
       "1_AAACCTGGTAGCGATG           Plain         M         Naive         Group   \n",
       "...                            ...       ...           ...           ...   \n",
       "26_TTTGTCACAAGTCATC   CI(M)_dangle         M           Exp        Single   \n",
       "26_TTTGTCACAGACGCTC   CI(M)_dangle         M           Exp        Single   \n",
       "26_TTTGTCACAGTATAAG   CI(M)_dangle         M           Exp        Single   \n",
       "26_TTTGTCAGTGTGGTTT   CI(M)_dangle         M           Exp        Single   \n",
       "26_TTTGTCATCTGATTCT   CI(M)_dangle         M           Exp        Single   \n",
       "\n",
       "                       tech  percent.mt  cell_cluster_id  ...  \\\n",
       "sample_name                                               ...   \n",
       "1_AAACCTGAGCTGATAA   10X_v2    5.603736             27.0  ...   \n",
       "1_AAACCTGCACTGTCGG   10X_v2    6.129227             20.0  ...   \n",
       "1_AAACCTGCATAGTAAG   10X_v2    7.062937             28.0  ...   \n",
       "1_AAACCTGCATTCCTCG   10X_v2    3.803132             55.0  ...   \n",
       "1_AAACCTGGTAGCGATG   10X_v2    6.652047             24.0  ...   \n",
       "...                     ...         ...              ...  ...   \n",
       "26_TTTGTCACAAGTCATC  10X_v2    7.703927             24.0  ...   \n",
       "26_TTTGTCACAGACGCTC  10X_v2    4.618754              5.0  ...   \n",
       "26_TTTGTCACAGTATAAG  10X_v2    4.844839             25.0  ...   \n",
       "26_TTTGTCAGTGTGGTTT  10X_v2    2.379461             17.0  ...   \n",
       "26_TTTGTCATCTGATTCT  10X_v2    1.525424             20.0  ...   \n",
       "\n",
       "                    cell_cluster_color neuron_cluster_id  \\\n",
       "sample_name                                                \n",
       "1_AAACCTGAGCTGATAA             #4D4535               NaN   \n",
       "1_AAACCTGCACTGTCGG             #763BFF              15.0   \n",
       "1_AAACCTGCATAGTAAG             #141211               NaN   \n",
       "1_AAACCTGCATTCCTCG             #9C9C9C               NaN   \n",
       "1_AAACCTGGTAGCGATG             #89ADA4               NaN   \n",
       "...                                ...               ...   \n",
       "26_TTTGTCACAAGTCATC            #89ADA4               NaN   \n",
       "26_TTTGTCACAGACGCTC            #C129A4              24.0   \n",
       "26_TTTGTCACAGTATAAG            #354D40               NaN   \n",
       "26_TTTGTCAGTGTGGTTT            #FF7394              54.0   \n",
       "26_TTTGTCATCTGATTCT            #763BFF               1.0   \n",
       "\n",
       "                     neuron_cluster_label neuron_cluster_color  \\\n",
       "sample_name                                                      \n",
       "1_AAACCTGAGCTGATAA                    NaN                  NaN   \n",
       "1_AAACCTGCACTGTCGG                 Dlk1_4              #4D8092   \n",
       "1_AAACCTGCATAGTAAG                    NaN                  NaN   \n",
       "1_AAACCTGCATTCCTCG                    NaN                  NaN   \n",
       "1_AAACCTGGTAGCGATG                    NaN                  NaN   \n",
       "...                                   ...                  ...   \n",
       "26_TTTGTCACAAGTCATC                   NaN                  NaN   \n",
       "26_TTTGTCACAGACGCTC       Gluta_VMH-out_1              #CC4E3D   \n",
       "26_TTTGTCACAGTATAAG                   NaN                  NaN   \n",
       "26_TTTGTCAGTGTGGTTT       GABA_VMH-out_21              #BF5666   \n",
       "26_TTTGTCATCTGATTCT               Nr5a1_7              #808080   \n",
       "\n",
       "                    VMH_neuron_cluster_id  VMH_neuron_cluster_label  \\\n",
       "sample_name                                                           \n",
       "1_AAACCTGAGCTGATAA                    NaN                       NaN   \n",
       "1_AAACCTGCACTGTCGG                   15.0                    Dlk1_2   \n",
       "1_AAACCTGCATAGTAAG                    NaN                       NaN   \n",
       "1_AAACCTGCATTCCTCG                    NaN                       NaN   \n",
       "1_AAACCTGGTAGCGATG                    NaN                       NaN   \n",
       "...                                   ...                       ...   \n",
       "26_TTTGTCACAAGTCATC                   NaN                       NaN   \n",
       "26_TTTGTCACAGACGCTC                   NaN                       NaN   \n",
       "26_TTTGTCACAGTATAAG                   NaN                       NaN   \n",
       "26_TTTGTCAGTGTGGTTT                   NaN                       NaN   \n",
       "26_TTTGTCATCTGATTCT                  21.0                   Nr5a1_1   \n",
       "\n",
       "                    VMH_neuron_cluster_color VMH_neuron_cca_cluster_id  \\\n",
       "sample_name                                                              \n",
       "1_AAACCTGAGCTGATAA                       NaN                       NaN   \n",
       "1_AAACCTGCACTGTCGG                   #74DCFF                      16.0   \n",
       "1_AAACCTGCATAGTAAG                       NaN                       NaN   \n",
       "1_AAACCTGCATTCCTCG                       NaN                       NaN   \n",
       "1_AAACCTGGTAGCGATG                       NaN                       NaN   \n",
       "...                                      ...                       ...   \n",
       "26_TTTGTCACAAGTCATC                      NaN                       NaN   \n",
       "26_TTTGTCACAGACGCTC                      NaN                       NaN   \n",
       "26_TTTGTCACAGTATAAG                      NaN                       NaN   \n",
       "26_TTTGTCAGTGTGGTTT                      NaN                       NaN   \n",
       "26_TTTGTCATCTGATTCT                  #ACC9FA                      22.0   \n",
       "\n",
       "                     VMH_neuron_cca_cluster_label VMH_neuron_cca_cluster_color  \n",
       "sample_name                                                                     \n",
       "1_AAACCTGAGCTGATAA                            NaN                          NaN  \n",
       "1_AAACCTGCACTGTCGG                         Dlk1_2                      #66ABC2  \n",
       "1_AAACCTGCATAGTAAG                            NaN                          NaN  \n",
       "1_AAACCTGCATTCCTCG                            NaN                          NaN  \n",
       "1_AAACCTGGTAGCGATG                            NaN                          NaN  \n",
       "...                                           ...                          ...  \n",
       "26_TTTGTCACAAGTCATC                           NaN                          NaN  \n",
       "26_TTTGTCACAGACGCTC                           NaN                          NaN  \n",
       "26_TTTGTCACAGTATAAG                           NaN                          NaN  \n",
       "26_TTTGTCAGTGTGGTTT                           NaN                          NaN  \n",
       "26_TTTGTCATCTGATTCT                       Nr5a1_1                      #B57FF1  \n",
       "\n",
       "[168877 rows x 21 columns]"
      ]
     },
     "execution_count": 3,
     "metadata": {},
     "output_type": "execute_result"
    }
   ],
   "source": [
    "meta = pd.read_csv(f'{indir}data/10x_metadata_cell.csv', header=0, index_col=0)\n",
    "meta"
   ]
  },
  {
   "cell_type": "code",
   "execution_count": 4,
   "id": "82522e7e-96bd-483f-b939-d401c28230ee",
   "metadata": {
    "execution": {
     "iopub.execute_input": "2023-04-04T05:20:53.162705Z",
     "iopub.status.busy": "2023-04-04T05:20:53.162531Z",
     "iopub.status.idle": "2023-04-04T05:20:53.583739Z",
     "shell.execute_reply": "2023-04-04T05:20:53.582997Z",
     "shell.execute_reply.started": "2023-04-04T05:20:53.162688Z"
    },
    "tags": []
   },
   "outputs": [
    {
     "data": {
      "text/plain": [
       "orig.ident\n",
       "10x_VMH_Male_Plain_1                         1\n",
       "10x_VMH_Male_Control_1                       2\n",
       "10x_VMH_Male_Aggression_1                    3\n",
       "10x_VMH_Female_Control_1                     4\n",
       "10x_VMH_Male_Control_2                       5\n",
       "10x_VMH_Male_M-F_CI_dangled_1                6\n",
       "10x_VMH_Male_Control_3                       7\n",
       "10x_VMH_Male_Plain_2                         8\n",
       "10x_VMH_Male_Aggression_2                    9\n",
       "10x_VMH_Male_M-F_CI_pencil_cup_1            10\n",
       "10x_VMH_Male_M-M_CI_pencil_cup_1            11\n",
       "10x_VMH_Female_Plain_1                      12\n",
       "10x_VMH_Male_Mating_1                       13\n",
       "10x_VMH_Male_Others_1                       14\n",
       "10x_VMH_Female_Mating_not_receptive_1       15\n",
       "10x_VMH_Male_Aggression_3                   16\n",
       "10x_VMH_Male_Social_Fear_Singly-housed_1    17\n",
       "10x_VMH_Female_Mating_not_receptive_2       18\n",
       "10x_VMH_Female_Mating_not_receptive_3       19\n",
       "10x_VMH_Male_Others_2                       20\n",
       "10x_VMH_Male_Others_3                       21\n",
       "10x_VMH_Male_Social_Fear_Group-housed_1     22\n",
       "10x_VMH_Male_Social_Fear_Singly-housed_2    23\n",
       "10x_VMH_Male_M-M_CI_dangled_1               24\n",
       "10x_VMH_Male_Others_4                       25\n",
       "10x_VMH_Male_M-M_CI_dangled_2               26\n",
       "Name: sample, dtype: object"
      ]
     },
     "execution_count": 4,
     "metadata": {},
     "output_type": "execute_result"
    }
   ],
   "source": [
    "sample_map = meta[['orig.ident']]\n",
    "sample_map['sample'] = sample_map.index.str.split('_').str[0]\n",
    "sample_map = sample_map.drop_duplicates().set_index('orig.ident')['sample']\n",
    "sample_map"
   ]
  },
  {
   "cell_type": "code",
   "execution_count": 5,
   "id": "5f4c5fa3-e5bd-41c0-8251-931815f029dd",
   "metadata": {
    "execution": {
     "iopub.execute_input": "2023-04-04T05:20:55.789765Z",
     "iopub.status.busy": "2023-04-04T05:20:55.789492Z",
     "iopub.status.idle": "2023-04-04T05:20:55.794800Z",
     "shell.execute_reply": "2023-04-04T05:20:55.793942Z",
     "shell.execute_reply.started": "2023-04-04T05:20:55.789744Z"
    },
    "tags": []
   },
   "outputs": [
    {
     "data": {
      "text/plain": [
       "Index(['orig.ident', 'umis_label', 'genes_label', 'behavior_label',\n",
       "       'sex_label', 'sex_exp_label', 'housing_label', 'tech', 'percent.mt',\n",
       "       'cell_cluster_id', 'cell_cluster_label', 'cell_cluster_color',\n",
       "       'neuron_cluster_id', 'neuron_cluster_label', 'neuron_cluster_color',\n",
       "       'VMH_neuron_cluster_id', 'VMH_neuron_cluster_label',\n",
       "       'VMH_neuron_cluster_color', 'VMH_neuron_cca_cluster_id',\n",
       "       'VMH_neuron_cca_cluster_label', 'VMH_neuron_cca_cluster_color'],\n",
       "      dtype='object')"
      ]
     },
     "execution_count": 5,
     "metadata": {},
     "output_type": "execute_result"
    }
   ],
   "source": [
    "meta.columns"
   ]
  },
  {
   "cell_type": "code",
   "execution_count": 6,
   "id": "17b69ba9-5a5d-40c1-8ea1-187ac8523841",
   "metadata": {
    "execution": {
     "iopub.execute_input": "2023-04-04T05:20:56.957034Z",
     "iopub.status.busy": "2023-04-04T05:20:56.956760Z",
     "iopub.status.idle": "2023-04-04T05:20:56.961902Z",
     "shell.execute_reply": "2023-04-04T05:20:56.961191Z",
     "shell.execute_reply.started": "2023-04-04T05:20:56.957013Z"
    },
    "tags": []
   },
   "outputs": [
    {
     "name": "stdout",
     "output_type": "stream",
     "text": [
      "26\n"
     ]
    }
   ],
   "source": [
    "file_list = glob.glob(f'{indir}data/*.h5ad')\n",
    "print(len(file_list))\n"
   ]
  },
  {
   "cell_type": "code",
   "execution_count": 15,
   "id": "e44df78b-01b1-4144-8620-218754fad8d4",
   "metadata": {
    "execution": {
     "iopub.execute_input": "2023-04-04T05:22:34.756386Z",
     "iopub.status.busy": "2023-04-04T05:22:34.756125Z",
     "iopub.status.idle": "2023-04-04T05:22:55.205830Z",
     "shell.execute_reply": "2023-04-04T05:22:55.205029Z",
     "shell.execute_reply.started": "2023-04-04T05:22:34.756367Z"
    },
    "tags": []
   },
   "outputs": [
    {
     "name": "stdout",
     "output_type": "stream",
     "text": [
      "(5496, 18251)\n",
      "(7952, 16292)\n",
      "(5174, 16962)\n",
      "(9994, 17033)\n",
      "(7025, 17761)\n",
      "(5906, 18294)\n",
      "(6414, 16001)\n",
      "(5971, 18054)\n",
      "(7089, 17488)\n",
      "(8569, 16207)\n",
      "(5032, 17832)\n",
      "(4688, 16208)\n",
      "(5953, 17861)\n",
      "(6306, 17106)\n",
      "(6221, 17885)\n",
      "(6642, 17718)\n",
      "(7318, 17644)\n",
      "(6767, 18125)\n",
      "(7500, 17306)\n",
      "(8342, 17306)\n",
      "(6198, 17792)\n",
      "(2727, 16002)\n",
      "(7910, 17427)\n",
      "(9681, 17253)\n",
      "(3100, 17917)\n",
      "(4902, 17970)\n"
     ]
    }
   ],
   "source": [
    "data = []\n",
    "for file in file_list:\n",
    "    xx = file.split('/')[-1].split('.')[0]\n",
    "    tmp = anndata.read_h5ad(file)\n",
    "    tmp.obs.index = str(sample_map[xx]) + '_' + tmp.obs.index.str.split('-').str[0]\n",
    "    tmp = tmp[tmp.obs.index.isin(meta.index)]\n",
    "    tmp.var['n_cells'] = tmp.X.getnnz(axis=0)\n",
    "    tmp = tmp[:, tmp.var['n_cells']>(0.001*tmp.shape[0])]\n",
    "    data.append(tmp)\n",
    "    print(tmp.shape)\n",
    "    "
   ]
  },
  {
   "cell_type": "code",
   "execution_count": 16,
   "id": "fb5b757e-b924-4139-bc6b-48c97e48c47a",
   "metadata": {
    "execution": {
     "iopub.execute_input": "2023-04-04T05:25:19.523122Z",
     "iopub.status.busy": "2023-04-04T05:25:19.522835Z",
     "iopub.status.idle": "2023-04-04T05:25:25.309422Z",
     "shell.execute_reply": "2023-04-04T05:25:25.308763Z",
     "shell.execute_reply.started": "2023-04-04T05:25:19.523101Z"
    }
   },
   "outputs": [
    {
     "data": {
      "text/plain": [
       "AnnData object with n_obs × n_vars = 168877 × 15014\n",
       "    obs: 'orig.ident', 'umis_label', 'genes_label', 'behavior_label', 'sex_label', 'sex_exp_label', 'housing_label', 'tech', 'percent.mt', 'cell_cluster_id', 'cell_cluster_label', 'cell_cluster_color', 'neuron_cluster_id', 'neuron_cluster_label', 'neuron_cluster_color', 'VMH_neuron_cluster_id', 'VMH_neuron_cluster_label', 'VMH_neuron_cluster_color', 'VMH_neuron_cca_cluster_id', 'VMH_neuron_cca_cluster_label', 'VMH_neuron_cca_cluster_color'\n",
       "    var: 'gene_ids', 'n_cells-0', 'n_cells-1', 'n_cells-10', 'n_cells-11', 'n_cells-12', 'n_cells-13', 'n_cells-14', 'n_cells-15', 'n_cells-16', 'n_cells-17', 'n_cells-18', 'n_cells-19', 'n_cells-2', 'n_cells-20', 'n_cells-21', 'n_cells-22', 'n_cells-23', 'n_cells-24', 'n_cells-25', 'n_cells-3', 'n_cells-4', 'n_cells-5', 'n_cells-6', 'n_cells-7', 'n_cells-8', 'n_cells-9'"
      ]
     },
     "execution_count": 16,
     "metadata": {},
     "output_type": "execute_result"
    }
   ],
   "source": [
    "data = anndata.AnnData.concatenate(*data, index_unique=None)\n",
    "data.obs = meta.loc[data.obs.index].copy()\n",
    "data"
   ]
  },
  {
   "cell_type": "code",
   "execution_count": 17,
   "id": "0cf07bc1-c2c7-44b6-ad07-56d3a7cd9d17",
   "metadata": {
    "execution": {
     "iopub.execute_input": "2023-04-04T05:27:02.776705Z",
     "iopub.status.busy": "2023-04-04T05:27:02.775636Z",
     "iopub.status.idle": "2023-04-04T05:27:02.784421Z",
     "shell.execute_reply": "2023-04-04T05:27:02.783357Z",
     "shell.execute_reply.started": "2023-04-04T05:27:02.776669Z"
    }
   },
   "outputs": [],
   "source": [
    "data.var = data.var[['gene_ids']]"
   ]
  },
  {
   "cell_type": "code",
   "execution_count": 19,
   "id": "f4718f04-c821-4f90-84ff-c8c5260ded83",
   "metadata": {
    "execution": {
     "iopub.execute_input": "2023-04-04T05:28:20.454352Z",
     "iopub.status.busy": "2023-04-04T05:28:20.454080Z",
     "iopub.status.idle": "2023-04-04T05:28:27.195979Z",
     "shell.execute_reply": "2023-04-04T05:28:27.194528Z",
     "shell.execute_reply.started": "2023-04-04T05:28:20.454333Z"
    }
   },
   "outputs": [],
   "source": [
    "data.X.data = data.X.data/np.repeat(data.obs['umis_label'].values, data.X.getnnz(axis=1)\n",
    "                                     ) * data.obs['umis_label'].median()\n",
    "sc.pp.log1p(data)"
   ]
  },
  {
   "cell_type": "code",
   "execution_count": 21,
   "id": "fe4087f6-cc27-4e64-ba0c-846c9ffbe8d3",
   "metadata": {
    "execution": {
     "iopub.execute_input": "2023-04-04T05:29:27.737951Z",
     "iopub.status.busy": "2023-04-04T05:29:27.737056Z",
     "iopub.status.idle": "2023-04-04T05:29:27.751652Z",
     "shell.execute_reply": "2023-04-04T05:29:27.751014Z",
     "shell.execute_reply.started": "2023-04-04T05:29:27.737927Z"
    },
    "tags": []
   },
   "outputs": [
    {
     "data": {
      "text/html": [
       "<div>\n",
       "<style scoped>\n",
       "    .dataframe tbody tr th:only-of-type {\n",
       "        vertical-align: middle;\n",
       "    }\n",
       "\n",
       "    .dataframe tbody tr th {\n",
       "        vertical-align: top;\n",
       "    }\n",
       "\n",
       "    .dataframe thead th {\n",
       "        text-align: right;\n",
       "    }\n",
       "</style>\n",
       "<table border=\"1\" class=\"dataframe\">\n",
       "  <thead>\n",
       "    <tr style=\"text-align: right;\">\n",
       "      <th></th>\n",
       "      <th>Sex-specific</th>\n",
       "      <th>IEGs</th>\n",
       "      <th>retro-virus-induced</th>\n",
       "      <th>noise-sensitive</th>\n",
       "    </tr>\n",
       "  </thead>\n",
       "  <tbody>\n",
       "    <tr>\n",
       "      <th>0</th>\n",
       "      <td>Ddx3y</td>\n",
       "      <td>Fos</td>\n",
       "      <td>B2m</td>\n",
       "      <td>Nrgn</td>\n",
       "    </tr>\n",
       "    <tr>\n",
       "      <th>1</th>\n",
       "      <td>Eif2s3y</td>\n",
       "      <td>Fosb</td>\n",
       "      <td>Bst2</td>\n",
       "      <td>Tmsb10</td>\n",
       "    </tr>\n",
       "    <tr>\n",
       "      <th>2</th>\n",
       "      <td>Uty</td>\n",
       "      <td>Fosl1</td>\n",
       "      <td>Oasl2</td>\n",
       "      <td>Basp1</td>\n",
       "    </tr>\n",
       "    <tr>\n",
       "      <th>3</th>\n",
       "      <td>Kdm5d</td>\n",
       "      <td>Fosl2</td>\n",
       "      <td>Ifit1</td>\n",
       "      <td>Rpl9-ps6</td>\n",
       "    </tr>\n",
       "    <tr>\n",
       "      <th>4</th>\n",
       "      <td>Xist</td>\n",
       "      <td>Jun</td>\n",
       "      <td>H2-D1</td>\n",
       "      <td>Gng3</td>\n",
       "    </tr>\n",
       "    <tr>\n",
       "      <th>...</th>\n",
       "      <td>...</td>\n",
       "      <td>...</td>\n",
       "      <td>...</td>\n",
       "      <td>...</td>\n",
       "    </tr>\n",
       "    <tr>\n",
       "      <th>995</th>\n",
       "      <td>NaN</td>\n",
       "      <td>NaN</td>\n",
       "      <td>NaN</td>\n",
       "      <td>Car10</td>\n",
       "    </tr>\n",
       "    <tr>\n",
       "      <th>996</th>\n",
       "      <td>NaN</td>\n",
       "      <td>NaN</td>\n",
       "      <td>NaN</td>\n",
       "      <td>Gabrb3</td>\n",
       "    </tr>\n",
       "    <tr>\n",
       "      <th>997</th>\n",
       "      <td>NaN</td>\n",
       "      <td>NaN</td>\n",
       "      <td>NaN</td>\n",
       "      <td>Cpe</td>\n",
       "    </tr>\n",
       "    <tr>\n",
       "      <th>998</th>\n",
       "      <td>NaN</td>\n",
       "      <td>NaN</td>\n",
       "      <td>NaN</td>\n",
       "      <td>Grik2</td>\n",
       "    </tr>\n",
       "    <tr>\n",
       "      <th>999</th>\n",
       "      <td>NaN</td>\n",
       "      <td>NaN</td>\n",
       "      <td>NaN</td>\n",
       "      <td>Dlg2</td>\n",
       "    </tr>\n",
       "  </tbody>\n",
       "</table>\n",
       "<p>1000 rows × 4 columns</p>\n",
       "</div>"
      ],
      "text/plain": [
       "    Sex-specific   IEGs retro-virus-induced noise-sensitive\n",
       "0          Ddx3y    Fos                 B2m            Nrgn\n",
       "1        Eif2s3y   Fosb                Bst2          Tmsb10\n",
       "2            Uty  Fosl1               Oasl2           Basp1\n",
       "3          Kdm5d  Fosl2               Ifit1        Rpl9-ps6\n",
       "4           Xist    Jun               H2-D1            Gng3\n",
       "..           ...    ...                 ...             ...\n",
       "995          NaN    NaN                 NaN           Car10\n",
       "996          NaN    NaN                 NaN          Gabrb3\n",
       "997          NaN    NaN                 NaN             Cpe\n",
       "998          NaN    NaN                 NaN           Grik2\n",
       "999          NaN    NaN                 NaN            Dlg2\n",
       "\n",
       "[1000 rows x 4 columns]"
      ]
     },
     "execution_count": 21,
     "metadata": {},
     "output_type": "execute_result"
    }
   ],
   "source": [
    "remove_gene = pd.read_csv(f'{indir}data/removed_gene.tsv', header=0, index_col=None, sep='\\t')\n",
    "remove_gene"
   ]
  },
  {
   "cell_type": "code",
   "execution_count": 24,
   "id": "fbd56a10-0701-4a81-ad45-d4b94e26ffbc",
   "metadata": {
    "execution": {
     "iopub.execute_input": "2023-04-04T05:30:40.273774Z",
     "iopub.status.busy": "2023-04-04T05:30:40.273502Z",
     "iopub.status.idle": "2023-04-04T05:30:40.281263Z",
     "shell.execute_reply": "2023-04-04T05:30:40.280701Z",
     "shell.execute_reply.started": "2023-04-04T05:30:40.273755Z"
    },
    "tags": []
   },
   "outputs": [
    {
     "data": {
      "text/plain": [
       "0         Fos\n",
       "1        Fosb\n",
       "2       Fosl1\n",
       "3       Fosl2\n",
       "4         Jun\n",
       "        ...  \n",
       "134     Gdf15\n",
       "135      Ier5\n",
       "136      Rgs1\n",
       "137       Id2\n",
       "138    Apold1\n",
       "Name: IEGs, Length: 139, dtype: object"
      ]
     },
     "execution_count": 24,
     "metadata": {},
     "output_type": "execute_result"
    }
   ],
   "source": [
    "selg = remove_gene['IEGs']\n",
    "selg = selg.loc[~selg.isna()]\n",
    "selg"
   ]
  },
  {
   "cell_type": "code",
   "execution_count": 28,
   "id": "3c179f5d-891f-4e8b-8837-eb25a93c399c",
   "metadata": {
    "execution": {
     "iopub.execute_input": "2023-04-04T05:32:47.233398Z",
     "iopub.status.busy": "2023-04-04T05:32:47.232874Z",
     "iopub.status.idle": "2023-04-04T05:32:47.917749Z",
     "shell.execute_reply": "2023-04-04T05:32:47.917055Z",
     "shell.execute_reply.started": "2023-04-04T05:32:47.233374Z"
    },
    "tags": []
   },
   "outputs": [],
   "source": [
    "selg = data.var.index[data.var.index.isin(selg)]\n",
    "tmp = data[:, selg].X.toarray()\n",
    "tmp = pd.DataFrame(tmp, columns=selg, index=data.obs.index)\n"
   ]
  },
  {
   "cell_type": "code",
   "execution_count": 34,
   "id": "9249eed1-be5b-4fdd-a626-872a460164cf",
   "metadata": {
    "execution": {
     "iopub.execute_input": "2023-04-04T05:35:07.447589Z",
     "iopub.status.busy": "2023-04-04T05:35:07.446777Z",
     "iopub.status.idle": "2023-04-04T05:35:07.500072Z",
     "shell.execute_reply": "2023-04-04T05:35:07.499451Z",
     "shell.execute_reply.started": "2023-04-04T05:35:07.447556Z"
    },
    "tags": []
   },
   "outputs": [],
   "source": [
    "data.obsm['IEGs'] = tmp.copy()"
   ]
  },
  {
   "cell_type": "code",
   "execution_count": 40,
   "id": "fe85937f-1bed-424d-82b3-a55acbbb4d52",
   "metadata": {
    "execution": {
     "iopub.execute_input": "2023-04-04T05:37:00.549414Z",
     "iopub.status.busy": "2023-04-04T05:37:00.549155Z",
     "iopub.status.idle": "2023-04-04T05:37:00.553975Z",
     "shell.execute_reply": "2023-04-04T05:37:00.553413Z",
     "shell.execute_reply.started": "2023-04-04T05:37:00.549394Z"
    },
    "tags": []
   },
   "outputs": [
    {
     "name": "stdout",
     "output_type": "stream",
     "text": [
      "1175\n"
     ]
    }
   ],
   "source": [
    "selg = remove_gene.values.flatten()\n",
    "selg = selg[selg.astype(str)!='nan']\n",
    "print(len(selg))"
   ]
  },
  {
   "cell_type": "code",
   "execution_count": 43,
   "id": "4047c69d-a710-4b0e-b86a-f554fa72e7e3",
   "metadata": {
    "execution": {
     "iopub.execute_input": "2023-04-04T05:41:39.071406Z",
     "iopub.status.busy": "2023-04-04T05:41:39.071143Z",
     "iopub.status.idle": "2023-04-04T05:41:39.742754Z",
     "shell.execute_reply": "2023-04-04T05:41:39.742158Z",
     "shell.execute_reply.started": "2023-04-04T05:41:39.071387Z"
    },
    "tags": []
   },
   "outputs": [
    {
     "data": {
      "text/plain": [
       "AnnData object with n_obs × n_vars = 78476 × 13889\n",
       "    obs: 'orig.ident', 'umis_label', 'genes_label', 'behavior_label', 'sex_label', 'sex_exp_label', 'housing_label', 'tech', 'percent.mt', 'cell_cluster_id', 'cell_cluster_label', 'cell_cluster_color', 'neuron_cluster_id', 'neuron_cluster_label', 'neuron_cluster_color', 'VMH_neuron_cluster_id', 'VMH_neuron_cluster_label', 'VMH_neuron_cluster_color', 'VMH_neuron_cca_cluster_id', 'VMH_neuron_cca_cluster_label', 'VMH_neuron_cca_cluster_color'\n",
       "    var: 'gene_ids'\n",
       "    uns: 'log1p'\n",
       "    obsm: 'IEGs'"
      ]
     },
     "execution_count": 43,
     "metadata": {},
     "output_type": "execute_result"
    }
   ],
   "source": [
    "data = data[:, ~data.var.index.isin(selg)].copy()\n",
    "data = data[data.obs['neuron_cluster_label'].astype(str)!='nan'].copy()\n",
    "data"
   ]
  },
  {
   "cell_type": "code",
   "execution_count": 44,
   "id": "756270dc-3701-4a15-9f9c-e0e089f9b50d",
   "metadata": {
    "execution": {
     "iopub.execute_input": "2023-04-04T05:41:44.032818Z",
     "iopub.status.busy": "2023-04-04T05:41:44.032548Z",
     "iopub.status.idle": "2023-04-04T05:42:04.780298Z",
     "shell.execute_reply": "2023-04-04T05:42:04.779580Z",
     "shell.execute_reply.started": "2023-04-04T05:41:44.032797Z"
    },
    "tags": []
   },
   "outputs": [],
   "source": [
    "data.write_h5ad('act.h5ad')"
   ]
  },
  {
   "cell_type": "code",
   "execution_count": 3,
   "id": "a116e0c4-bb33-42d2-8cc2-af460511b7b7",
   "metadata": {
    "execution": {
     "iopub.execute_input": "2023-04-04T06:35:01.584601Z",
     "iopub.status.busy": "2023-04-04T06:35:01.584345Z",
     "iopub.status.idle": "2023-04-04T06:35:02.025781Z",
     "shell.execute_reply": "2023-04-04T06:35:02.025118Z",
     "shell.execute_reply.started": "2023-04-04T06:35:01.584582Z"
    }
   },
   "outputs": [
    {
     "data": {
      "text/plain": [
       "AnnData object with n_obs × n_vars = 78476 × 5314\n",
       "    obs: 'orig.ident', 'umis_label', 'genes_label', 'behavior_label', 'sex_label', 'sex_exp_label', 'housing_label', 'tech', 'percent.mt', 'cell_cluster_id', 'cell_cluster_label', 'cell_cluster_color', 'neuron_cluster_id', 'neuron_cluster_label', 'neuron_cluster_color', 'VMH_neuron_cluster_id', 'VMH_neuron_cluster_label', 'VMH_neuron_cluster_color', 'VMH_neuron_cca_cluster_id', 'VMH_neuron_cca_cluster_label', 'VMH_neuron_cca_cluster_color', 'Study', 'leiden', 'leiden_score'\n",
       "    var: 'gene_ids'\n",
       "    uns: 'log1p'\n",
       "    obsm: 'IEGs', 'X_pca', 'X_pca_corrected', 'cef_pca'"
      ]
     },
     "execution_count": 3,
     "metadata": {},
     "output_type": "execute_result"
    }
   ],
   "source": [
    "data = anndata.read_h5ad('act.h5ad')\n",
    "data"
   ]
  },
  {
   "cell_type": "code",
   "execution_count": 11,
   "id": "4015ac57-b163-492d-b4d3-1417e8d134a8",
   "metadata": {
    "execution": {
     "iopub.execute_input": "2023-04-04T06:36:20.107147Z",
     "iopub.status.busy": "2023-04-04T06:36:20.106849Z",
     "iopub.status.idle": "2023-04-04T06:36:20.117888Z",
     "shell.execute_reply": "2023-04-04T06:36:20.117333Z",
     "shell.execute_reply.started": "2023-04-04T06:36:20.107127Z"
    },
    "tags": []
   },
   "outputs": [
    {
     "data": {
      "text/plain": [
       "13_AAACCTGGTCGCTTCT     True\n",
       "13_AAACCTGTCCAAATGC    False\n",
       "13_AAACCTGTCGCGATCG    False\n",
       "13_AAACGGGCACTGCCAG    False\n",
       "13_AAACGGGCAGGGAGAG     True\n",
       "                       ...  \n",
       "26_TTTGGTTTCCGTAGTA    False\n",
       "26_TTTGGTTTCGATCCCT     True\n",
       "26_TTTGTCACAGACGCTC     True\n",
       "26_TTTGTCAGTGTGGTTT     True\n",
       "26_TTTGTCATCTGATTCT    False\n",
       "Name: VMH_neuron_cluster_label, Length: 78476, dtype: bool"
      ]
     },
     "execution_count": 11,
     "metadata": {},
     "output_type": "execute_result"
    }
   ],
   "source": [
    "data.obs['VMH_neuron_cluster_label'].astype(str)=='nan'"
   ]
  },
  {
   "cell_type": "code",
   "execution_count": null,
   "id": "6d8b5108-797b-43a8-bb94-1d96eb1f09f1",
   "metadata": {},
   "outputs": [],
   "source": []
  }
 ],
 "metadata": {
  "kernelspec": {
   "display_name": "Python 3 (ipykernel)",
   "language": "python",
   "name": "python3"
  },
  "language_info": {
   "codemirror_mode": {
    "name": "ipython",
    "version": 3
   },
   "file_extension": ".py",
   "mimetype": "text/x-python",
   "name": "python",
   "nbconvert_exporter": "python",
   "pygments_lexer": "ipython3",
   "version": "3.7.12"
  }
 },
 "nbformat": 4,
 "nbformat_minor": 5
}
