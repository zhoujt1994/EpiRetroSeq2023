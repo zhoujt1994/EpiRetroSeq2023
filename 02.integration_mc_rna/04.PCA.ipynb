{
 "cells": [
  {
   "cell_type": "code",
   "execution_count": 1,
   "id": "fbeb5e41",
   "metadata": {
    "execution": {
     "iopub.execute_input": "2022-11-24T00:01:17.291389Z",
     "iopub.status.busy": "2022-11-24T00:01:17.291227Z",
     "iopub.status.idle": "2022-11-24T00:01:19.957656Z",
     "shell.execute_reply": "2022-11-24T00:01:19.956326Z",
     "shell.execute_reply.started": "2022-11-24T00:01:17.291372Z"
    },
    "papermill": {
     "duration": 2.453658,
     "end_time": "2022-11-14T01:48:27.048235",
     "exception": false,
     "start_time": "2022-11-14T01:48:24.594577",
     "status": "completed"
    },
    "tags": []
   },
   "outputs": [],
   "source": [
    "import glob\n",
    "import numpy as np\n",
    "import pandas as pd\n",
    "from sklearn.decomposition import TruncatedSVD\n",
    "\n",
    "import anndata\n",
    "from ALLCools.clustering import significant_pc_test\n"
   ]
  },
  {
   "cell_type": "code",
   "execution_count": 2,
   "id": "92878942",
   "metadata": {
    "execution": {
     "iopub.execute_input": "2022-11-24T00:01:19.959198Z",
     "iopub.status.busy": "2022-11-24T00:01:19.958938Z",
     "iopub.status.idle": "2022-11-24T00:01:19.964175Z",
     "shell.execute_reply": "2022-11-24T00:01:19.963393Z",
     "shell.execute_reply.started": "2022-11-24T00:01:19.959172Z"
    },
    "papermill": {
     "duration": 0.008014,
     "end_time": "2022-11-14T01:48:27.059078",
     "exception": false,
     "start_time": "2022-11-14T01:48:27.051064",
     "status": "completed"
    },
    "tags": [
     "parameters"
    ]
   },
   "outputs": [],
   "source": [
    "# Parameters\n",
    "group_name = \"STR\"\n"
   ]
  },
  {
   "cell_type": "code",
   "execution_count": 3,
   "id": "ce777f21-e05b-4c6a-a929-7cad5f6fe224",
   "metadata": {
    "execution": {
     "iopub.execute_input": "2022-11-24T00:01:19.965356Z",
     "iopub.status.busy": "2022-11-24T00:01:19.965120Z",
     "iopub.status.idle": "2022-11-24T00:01:21.019916Z",
     "shell.execute_reply": "2022-11-24T00:01:21.018183Z",
     "shell.execute_reply.started": "2022-11-24T00:01:19.965337Z"
    },
    "papermill": {
     "duration": 0.018885,
     "end_time": "2022-11-14T01:48:27.091514",
     "exception": false,
     "start_time": "2022-11-14T01:48:27.072629",
     "status": "completed"
    },
    "tags": []
   },
   "outputs": [
    {
     "data": {
      "text/plain": [
       "Index(['ENSMUSG00000025905', 'ENSMUSG00000033740', 'ENSMUSG00000067879',\n",
       "       'ENSMUSG00000042501', 'ENSMUSG00000048960', 'ENSMUSG00000016918',\n",
       "       'ENSMUSG00000025938', 'ENSMUSG00000025935', 'ENSMUSG00000025937',\n",
       "       'ENSMUSG00000025932',\n",
       "       ...\n",
       "       'ENSMUSG00000054843', 'ENSMUSG00000025089', 'ENSMUSG00000025092',\n",
       "       'ENSMUSG00000041362', 'ENSMUSG00000006270', 'ENSMUSG00000025094',\n",
       "       'ENSMUSG00000087095', 'ENSMUSG00000043969', 'ENSMUSG00000057858',\n",
       "       'ENSMUSG00000117790'],\n",
       "      dtype='object', name=0, length=3402)"
      ]
     },
     "execution_count": 3,
     "metadata": {},
     "output_type": "execute_result"
    }
   ],
   "source": [
    "t = group_name\n",
    "use_genes = pd.read_csv(f'use_genes.txt', header=None, index_col=0).index\n",
    "use_genes\n"
   ]
  },
  {
   "cell_type": "code",
   "execution_count": 4,
   "id": "1c60f239",
   "metadata": {
    "execution": {
     "iopub.execute_input": "2022-11-24T00:01:21.025044Z",
     "iopub.status.busy": "2022-11-24T00:01:21.023143Z",
     "iopub.status.idle": "2022-11-24T00:01:22.157203Z",
     "shell.execute_reply": "2022-11-24T00:01:22.156235Z",
     "shell.execute_reply.started": "2022-11-24T00:01:21.024947Z"
    },
    "papermill": {
     "duration": 0.137329,
     "end_time": "2022-11-14T01:48:27.231505",
     "exception": false,
     "start_time": "2022-11-14T01:48:27.094176",
     "status": "completed"
    },
    "tags": []
   },
   "outputs": [
    {
     "data": {
      "text/plain": [
       "View of AnnData object with n_obs × n_vars = 12546 × 3402\n",
       "    obs: 'mCCCFrac', 'mCGFrac', 'mCHFrac', 'FinalmCReads', 'DissectionRegion', 'Plate', 'Col384', 'Row384', 'Slice', 'Sample', 'Technology', 'InputReads', 'PassBasicQC', 'PlateNormCov', 'CEMBARegion', 'MajorRegion', 'SubRegion', 'L1', 'L1_annot', 'L4', 'L4Region', 'L2_annot'\n",
       "    var: 'chrom', 'cov_mean', 'end', 'start', 'L4_enriched_features'\n",
       "    uns: 'L4_feature_enrichment', 'log'"
      ]
     },
     "execution_count": 4,
     "metadata": {},
     "output_type": "execute_result"
    }
   ],
   "source": [
    "ref_adata = anndata.read_h5ad(glob.glob(f'{t}_*_rs1_mch.h5ad')[0])[:, use_genes]\n",
    "ref_adata"
   ]
  },
  {
   "cell_type": "code",
   "execution_count": 5,
   "id": "224d346a-c402-4c50-96d5-07b9febf11d8",
   "metadata": {
    "execution": {
     "iopub.execute_input": "2022-11-24T00:01:22.159374Z",
     "iopub.status.busy": "2022-11-24T00:01:22.158591Z",
     "iopub.status.idle": "2022-11-24T00:01:22.916141Z",
     "shell.execute_reply": "2022-11-24T00:01:22.914881Z",
     "shell.execute_reply.started": "2022-11-24T00:01:22.159349Z"
    },
    "papermill": {
     "duration": 0.175518,
     "end_time": "2022-11-14T01:48:27.410068",
     "exception": false,
     "start_time": "2022-11-14T01:48:27.234550",
     "status": "completed"
    },
    "tags": []
   },
   "outputs": [
    {
     "data": {
      "text/plain": [
       "12546"
      ]
     },
     "execution_count": 5,
     "metadata": {},
     "output_type": "execute_result"
    }
   ],
   "source": [
    "np.random.seed(0)\n",
    "\n",
    "n_train_cell = 100000\n",
    "# select mC cells to fit the model\n",
    "train_cell = np.zeros(ref_adata.shape[0]).astype(bool)\n",
    "if ref_adata.shape[0] > n_train_cell:\n",
    "    train_cell[np.random.choice(np.arange(ref_adata.shape[0]), n_train_cell,\n",
    "                                False)] = True\n",
    "else:\n",
    "    train_cell[:] = True\n",
    "\n",
    "ref_adata.obs['Train'] = train_cell.copy()\n",
    "ref_adata.obs['Train'].sum()\n"
   ]
  },
  {
   "cell_type": "code",
   "execution_count": 6,
   "id": "c76d1f7c",
   "metadata": {
    "execution": {
     "iopub.execute_input": "2022-11-24T00:01:23.495407Z",
     "iopub.status.busy": "2022-11-24T00:01:23.494016Z",
     "iopub.status.idle": "2022-11-24T00:01:30.010581Z",
     "shell.execute_reply": "2022-11-24T00:01:30.008780Z",
     "shell.execute_reply.started": "2022-11-24T00:01:23.495364Z"
    },
    "papermill": {
     "duration": 3.312549,
     "end_time": "2022-11-14T01:48:30.725393",
     "exception": false,
     "start_time": "2022-11-14T01:48:27.412844",
     "status": "completed"
    },
    "tags": []
   },
   "outputs": [
    {
     "name": "stdout",
     "output_type": "stream",
     "text": [
      "100\n"
     ]
    }
   ],
   "source": [
    "if (ref_adata.obs['Train'].sum() >= 100) and (ref_adata.shape[1]>=100):\n",
    "    #model = PCA(n_components=100, svd_solver='arpack', random_state=0)\n",
    "    #TruncatedSVD is for sparse matrices whereas PCA is for normal matrices and will center data\n",
    "    # defore SVD\n",
    "    model = TruncatedSVD(n_components=100, algorithm='arpack', random_state=0) \n",
    "else:\n",
    "    model = TruncatedSVD(n_components=ref_adata.X[ref_adata.obs['Train'].values].shape[1]-1, svd_solver='arpack', random_state=0)\n",
    "    #model = PCA(n_components=ref_adata.X[ref_adata.obs['Train'].values].shape[1]-1, svd_solver='arpack', random_state=0)\n",
    "\n",
    "# use selected mC cells to fit\n",
    "model.fit(ref_adata.X[ref_adata.obs['Train'].values])\n",
    "sel_dim = (model.singular_values_ != 0)\n",
    "print(sel_dim.sum())"
   ]
  },
  {
   "cell_type": "code",
   "execution_count": 7,
   "id": "417ff5b4-fd79-43a6-9935-4bf8d5f5b23d",
   "metadata": {
    "execution": {
     "iopub.execute_input": "2022-11-24T00:01:30.041196Z",
     "iopub.status.busy": "2022-11-24T00:01:30.040849Z",
     "iopub.status.idle": "2022-11-24T00:01:34.094432Z",
     "shell.execute_reply": "2022-11-24T00:01:34.093165Z",
     "shell.execute_reply.started": "2022-11-24T00:01:30.041171Z"
    },
    "papermill": {
     "duration": 3.975226,
     "end_time": "2022-11-14T01:48:34.703792",
     "exception": false,
     "start_time": "2022-11-14T01:48:30.728566",
     "status": "completed"
    },
    "tags": []
   },
   "outputs": [],
   "source": [
    "## Transform RS1\n",
    "\n",
    "chunk_size = 50000\n",
    "chunks = []\n",
    "for chunk_start in range(0, ref_adata.shape[0], chunk_size):\n",
    "    chunks.append(\n",
    "        model.transform(ref_adata.X[chunk_start:(chunk_start + chunk_size)]))\n",
    "\n",
    "ref_adata.obsm['cef_pca'] = np.concatenate(chunks, axis=0)[:, sel_dim]\n",
    "ref_adata.obsm['cef_pca'] /= model.singular_values_[sel_dim]\n"
   ]
  },
  {
   "cell_type": "code",
   "execution_count": 8,
   "id": "d974242c-ea3d-40f1-9e8d-7c60c25749d0",
   "metadata": {
    "execution": {
     "iopub.execute_input": "2022-11-24T00:01:34.112471Z",
     "iopub.status.busy": "2022-11-24T00:01:34.112244Z",
     "iopub.status.idle": "2022-11-24T00:01:34.349722Z",
     "shell.execute_reply": "2022-11-24T00:01:34.348270Z",
     "shell.execute_reply.started": "2022-11-24T00:01:34.112452Z"
    },
    "papermill": {
     "duration": 0.223098,
     "end_time": "2022-11-14T01:48:34.930278",
     "exception": false,
     "start_time": "2022-11-14T01:48:34.707180",
     "status": "completed"
    },
    "tags": []
   },
   "outputs": [
    {
     "name": "stdout",
     "output_type": "stream",
     "text": [
      "23 components passed P cutoff of 0.1.\n"
     ]
    }
   ],
   "source": [
    "npc = significant_pc_test(ref_adata, p_cutoff=0.1, update=False, obsm='cef_pca')\n"
   ]
  },
  {
   "cell_type": "code",
   "execution_count": 9,
   "id": "59a5b53e-0df1-46f7-8d25-a8917a24ea45",
   "metadata": {
    "execution": {
     "iopub.execute_input": "2022-11-24T00:01:40.719634Z",
     "iopub.status.busy": "2022-11-24T00:01:40.719000Z",
     "iopub.status.idle": "2022-11-24T00:01:43.746525Z",
     "shell.execute_reply": "2022-11-24T00:01:43.745587Z",
     "shell.execute_reply.started": "2022-11-24T00:01:40.719595Z"
    },
    "papermill": {
     "duration": 2.843251,
     "end_time": "2022-11-14T01:48:37.777706",
     "exception": false,
     "start_time": "2022-11-14T01:48:34.934455",
     "status": "completed"
    },
    "tags": []
   },
   "outputs": [],
   "source": [
    "ref_adata.write_h5ad(f'{t}_{ref_adata.shape[0]}_rs1_mch.h5ad')\n"
   ]
  },
  {
   "cell_type": "code",
   "execution_count": 10,
   "id": "1443d732-917f-4d55-84ba-908f6b5d9c8f",
   "metadata": {
    "execution": {
     "iopub.execute_input": "2022-11-24T00:01:43.763085Z",
     "iopub.status.busy": "2022-11-24T00:01:43.762440Z",
     "iopub.status.idle": "2022-11-24T00:01:44.971803Z",
     "shell.execute_reply": "2022-11-24T00:01:44.970987Z",
     "shell.execute_reply.started": "2022-11-24T00:01:43.763057Z"
    },
    "papermill": {
     "duration": 0.898735,
     "end_time": "2022-11-14T01:48:38.974465",
     "exception": false,
     "start_time": "2022-11-14T01:48:38.075730",
     "status": "completed"
    },
    "tags": []
   },
   "outputs": [
    {
     "name": "stdout",
     "output_type": "stream",
     "text": [
      "0\n"
     ]
    }
   ],
   "source": [
    "## Transform RNA\n",
    "\n",
    "qry_adata = anndata.read_h5ad(glob.glob(f'{t}_*_rna.h5ad')[0])\n",
    "chunks = []\n",
    "for chunk_start in range(0, qry_adata.shape[0], chunk_size):\n",
    "    # tmp = (qry_adata.X[chunk_start:(chunk_start + chunk_size)].toarray() - qry_adata.var['mean'].values) / qry_adata.var['std'].values\n",
    "    tmp = (qry_adata.X[chunk_start:(chunk_start + chunk_size)])\n",
    "    chunks.append(model.transform(tmp))\n",
    "    print(chunk_start)\n",
    "\n",
    "qry_adata.obsm['cef_pca'] = np.concatenate(chunks, axis=0)[:, sel_dim]\n",
    "qry_adata.obsm['cef_pca'] /= model.singular_values_[sel_dim]\n"
   ]
  },
  {
   "cell_type": "code",
   "execution_count": 11,
   "id": "2b4aec97-0e6e-4a6d-a6f7-c18fe453b57a",
   "metadata": {
    "execution": {
     "iopub.execute_input": "2022-11-24T00:01:44.973757Z",
     "iopub.status.busy": "2022-11-24T00:01:44.973501Z",
     "iopub.status.idle": "2022-11-24T00:01:47.448756Z",
     "shell.execute_reply": "2022-11-24T00:01:47.447112Z",
     "shell.execute_reply.started": "2022-11-24T00:01:44.973734Z"
    },
    "papermill": {
     "duration": 2.529865,
     "end_time": "2022-11-14T01:48:41.528507",
     "exception": false,
     "start_time": "2022-11-14T01:48:38.998642",
     "status": "completed"
    },
    "tags": []
   },
   "outputs": [],
   "source": [
    "qry_adata.write_h5ad(f'{t}_{qry_adata.shape[0]}_rna.h5ad')\n"
   ]
  },
  {
   "cell_type": "code",
   "execution_count": 12,
   "id": "7d2d0916-1d95-4e08-977e-34baeef041c6",
   "metadata": {
    "execution": {
     "iopub.execute_input": "2022-11-24T00:01:53.878241Z",
     "iopub.status.busy": "2022-11-24T00:01:53.876073Z",
     "iopub.status.idle": "2022-11-24T00:01:54.015684Z",
     "shell.execute_reply": "2022-11-24T00:01:54.014642Z",
     "shell.execute_reply.started": "2022-11-24T00:01:53.878147Z"
    },
    "papermill": {
     "duration": 0.195398,
     "end_time": "2022-11-14T01:48:37.976139",
     "exception": false,
     "start_time": "2022-11-14T01:48:37.780741",
     "status": "completed"
    },
    "tags": []
   },
   "outputs": [],
   "source": [
    "## Transform RS2\n",
    "\n",
    "qry_adata = anndata.read_h5ad(glob.glob(f'{t}_*_rs2_mch.h5ad')[0])\n",
    "chunks = []\n",
    "for chunk_start in range(0, qry_adata.shape[0], chunk_size):\n",
    "    chunks.append(\n",
    "        model.transform(qry_adata.X[chunk_start:(chunk_start + chunk_size)]))\n",
    "\n",
    "qry_adata.obsm['cef_pca'] = np.concatenate(chunks, axis=0)[:, sel_dim]\n",
    "qry_adata.obsm['cef_pca'] /= model.singular_values_[sel_dim]\n"
   ]
  },
  {
   "cell_type": "code",
   "execution_count": 13,
   "id": "fc06d478-8c67-47f9-ab1c-560136ab7e57",
   "metadata": {
    "execution": {
     "iopub.execute_input": "2022-11-24T00:01:54.695890Z",
     "iopub.status.busy": "2022-11-24T00:01:54.695410Z",
     "iopub.status.idle": "2022-11-24T00:01:54.756951Z",
     "shell.execute_reply": "2022-11-24T00:01:54.755575Z",
     "shell.execute_reply.started": "2022-11-24T00:01:54.695860Z"
    },
    "papermill": {
     "duration": 0.046744,
     "end_time": "2022-11-14T01:48:38.073043",
     "exception": false,
     "start_time": "2022-11-14T01:48:38.026299",
     "status": "completed"
    },
    "tags": []
   },
   "outputs": [],
   "source": [
    "qry_adata.write_h5ad(f'{t}_{qry_adata.shape[0]}_rs2_mch.h5ad')\n"
   ]
  },
  {
   "cell_type": "code",
   "execution_count": null,
   "id": "148edbfc",
   "metadata": {
    "papermill": {
     "duration": 0.047338,
     "end_time": "2022-11-14T01:48:41.578976",
     "exception": false,
     "start_time": "2022-11-14T01:48:41.531638",
     "status": "completed"
    },
    "tags": []
   },
   "outputs": [],
   "source": []
  }
 ],
 "metadata": {
  "celltoolbar": "Tags",
  "kernelspec": {
   "display_name": "Python 3 (ipykernel)",
   "language": "python",
   "name": "python3"
  },
  "language_info": {
   "codemirror_mode": {
    "name": "ipython",
    "version": 3
   },
   "file_extension": ".py",
   "mimetype": "text/x-python",
   "name": "python",
   "nbconvert_exporter": "python",
   "pygments_lexer": "ipython3",
   "version": "3.7.12"
  },
  "papermill": {
   "default_parameters": {},
   "duration": 18.66766,
   "end_time": "2022-11-14T01:48:42.199872",
   "environment_variables": {},
   "exception": null,
   "input_path": "/home/jzhou_salk_edu/sky_workdir/region_integration/notebooks/04.merge_and_PCA.ipynb",
   "output_path": "STR/04.merge_and_PCA.ipynb",
   "parameters": {
    "cpu": 1,
    "group_name": "STR",
    "mem_gb": 1
   },
   "start_time": "2022-11-14T01:48:23.532212",
   "version": "2.3.4"
  }
 },
 "nbformat": 4,
 "nbformat_minor": 5
}
