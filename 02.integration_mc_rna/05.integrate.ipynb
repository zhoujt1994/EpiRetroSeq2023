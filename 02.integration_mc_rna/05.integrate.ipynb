{
 "cells": [
  {
   "cell_type": "code",
   "execution_count": 1,
   "id": "87fa1e2c",
   "metadata": {
    "execution": {
     "iopub.execute_input": "2022-11-24T00:02:12.497314Z",
     "iopub.status.busy": "2022-11-24T00:02:12.496970Z",
     "iopub.status.idle": "2022-11-24T00:02:19.898518Z",
     "shell.execute_reply": "2022-11-24T00:02:19.896865Z",
     "shell.execute_reply.started": "2022-11-24T00:02:12.497291Z"
    },
    "papermill": {
     "duration": 5.194992,
     "end_time": "2022-11-14T02:06:35.082033",
     "exception": false,
     "start_time": "2022-11-14T02:06:29.887041",
     "status": "completed"
    },
    "tags": []
   },
   "outputs": [],
   "source": [
    "import time\n",
    "import glob\n",
    "import numpy as np\n",
    "from sklearn.preprocessing import normalize\n",
    "\n",
    "import anndata\n",
    "from ALLCools.integration.seurat_class import SeuratIntegration\n"
   ]
  },
  {
   "cell_type": "code",
   "execution_count": 2,
   "id": "9f2dd0f1",
   "metadata": {
    "execution": {
     "iopub.execute_input": "2022-11-24T00:02:19.910610Z",
     "iopub.status.busy": "2022-11-24T00:02:19.910386Z",
     "iopub.status.idle": "2022-11-24T00:02:19.915397Z",
     "shell.execute_reply": "2022-11-24T00:02:19.914457Z",
     "shell.execute_reply.started": "2022-11-24T00:02:19.910590Z"
    },
    "papermill": {
     "duration": 0.011407,
     "end_time": "2022-11-14T02:06:35.193900",
     "exception": false,
     "start_time": "2022-11-14T02:06:35.182493",
     "status": "completed"
    },
    "tags": [
     "parameters"
    ]
   },
   "outputs": [],
   "source": [
    "# Parameters\n",
    "group_name = \"STR\"\n"
   ]
  },
  {
   "cell_type": "code",
   "execution_count": 3,
   "id": "3dee4f0d",
   "metadata": {
    "execution": {
     "iopub.execute_input": "2022-11-24T00:02:19.917476Z",
     "iopub.status.busy": "2022-11-24T00:02:19.917182Z",
     "iopub.status.idle": "2022-11-24T00:02:19.921890Z",
     "shell.execute_reply": "2022-11-24T00:02:19.920975Z",
     "shell.execute_reply.started": "2022-11-24T00:02:19.917455Z"
    },
    "papermill": {
     "duration": 0.007579,
     "end_time": "2022-11-14T02:06:35.249606",
     "exception": false,
     "start_time": "2022-11-14T02:06:35.242027",
     "status": "completed"
    },
    "tags": []
   },
   "outputs": [],
   "source": [
    "t = group_name"
   ]
  },
  {
   "cell_type": "code",
   "execution_count": 4,
   "id": "f732d7f4-a754-4fb1-8604-23c4dad0ab98",
   "metadata": {
    "execution": {
     "iopub.execute_input": "2022-11-24T00:02:19.923362Z",
     "iopub.status.busy": "2022-11-24T00:02:19.923074Z",
     "iopub.status.idle": "2022-11-24T00:02:19.927743Z",
     "shell.execute_reply": "2022-11-24T00:02:19.926830Z",
     "shell.execute_reply.started": "2022-11-24T00:02:19.923338Z"
    },
    "papermill": {
     "duration": 0.223838,
     "end_time": "2022-11-14T02:06:35.732499",
     "exception": false,
     "start_time": "2022-11-14T02:06:35.508661",
     "status": "completed"
    },
    "tags": []
   },
   "outputs": [],
   "source": [
    "npc = 50\n",
    "ncc = 50"
   ]
  },
  {
   "cell_type": "markdown",
   "id": "1bdbb057",
   "metadata": {
    "papermill": {
     "duration": 0.002881,
     "end_time": "2022-11-14T02:06:35.255518",
     "exception": false,
     "start_time": "2022-11-14T02:06:35.252637",
     "status": "completed"
    },
    "tags": []
   },
   "source": [
    "# Integrate RS1 mC and RNA\n"
   ]
  },
  {
   "cell_type": "code",
   "execution_count": 5,
   "id": "9f69554d",
   "metadata": {
    "execution": {
     "iopub.execute_input": "2022-11-24T00:02:19.929186Z",
     "iopub.status.busy": "2022-11-24T00:02:19.928897Z",
     "iopub.status.idle": "2022-11-24T00:02:19.933585Z",
     "shell.execute_reply": "2022-11-24T00:02:19.932716Z",
     "shell.execute_reply.started": "2022-11-24T00:02:19.929164Z"
    },
    "papermill": {
     "duration": 0.007735,
     "end_time": "2022-11-14T02:06:35.266115",
     "exception": false,
     "start_time": "2022-11-14T02:06:35.258380",
     "status": "completed"
    },
    "tags": []
   },
   "outputs": [],
   "source": [
    "integrator = SeuratIntegration()"
   ]
  },
  {
   "cell_type": "code",
   "execution_count": 6,
   "id": "6ef70852",
   "metadata": {
    "execution": {
     "iopub.execute_input": "2022-11-24T00:02:19.934886Z",
     "iopub.status.busy": "2022-11-24T00:02:19.934647Z",
     "iopub.status.idle": "2022-11-24T00:02:20.291214Z",
     "shell.execute_reply": "2022-11-24T00:02:20.290016Z",
     "shell.execute_reply.started": "2022-11-24T00:02:19.934867Z"
    },
    "papermill": {
     "duration": 0.234703,
     "end_time": "2022-11-14T02:06:35.503685",
     "exception": false,
     "start_time": "2022-11-14T02:06:35.268982",
     "status": "completed"
    },
    "tags": []
   },
   "outputs": [
    {
     "data": {
      "text/plain": [
       "[AnnData object with n_obs × n_vars = 12546 × 3402\n",
       "     obs: 'mCCCFrac', 'mCGFrac', 'mCHFrac', 'FinalmCReads', 'DissectionRegion', 'Plate', 'Col384', 'Row384', 'Slice', 'Sample', 'Technology', 'InputReads', 'PassBasicQC', 'PlateNormCov', 'CEMBARegion', 'MajorRegion', 'SubRegion', 'L1', 'L1_annot', 'L4', 'L4Region', 'L2_annot', 'Train'\n",
       "     var: 'chrom', 'cov_mean', 'end', 'start', 'L4_enriched_features'\n",
       "     uns: 'L4_feature_enrichment', 'log'\n",
       "     obsm: 'cef_pca', 'X_pca',\n",
       " AnnData object with n_obs × n_vars = 41012 × 3402\n",
       "     obs: 'count', 'umi_count', 'L1', 'L2', 'L3', 'L1_annot', 'L2_annot', 'DissectionRegion', 'SubRegion', 'MajorRegion'\n",
       "     var: 'name', 'mean', 'std'\n",
       "     uns: 'log1p'\n",
       "     obsm: 'cef_pca', 'X_pca']"
      ]
     },
     "execution_count": 6,
     "metadata": {},
     "output_type": "execute_result"
    }
   ],
   "source": [
    "ref_adata = anndata.read_h5ad(glob.glob(f'{t}_*_rs1_mch.h5ad')[0])\n",
    "qry_adata = anndata.read_h5ad(glob.glob(f'{t}_*_rna.h5ad')[0])\n",
    "\n",
    "adata_list = [ref_adata, qry_adata]\n",
    "for xx in adata_list:\n",
    "    xx.obsm['X_pca'] = normalize(xx.obsm['cef_pca'][:, :npc], axis=1)\n",
    "\n",
    "adata_list"
   ]
  },
  {
   "cell_type": "code",
   "execution_count": 7,
   "id": "11415f16",
   "metadata": {
    "execution": {
     "iopub.execute_input": "2022-11-24T00:02:20.412810Z",
     "iopub.status.busy": "2022-11-24T00:02:20.412599Z",
     "iopub.status.idle": "2022-11-24T00:03:56.517016Z",
     "shell.execute_reply": "2022-11-24T00:03:56.515572Z",
     "shell.execute_reply.started": "2022-11-24T00:02:20.412791Z"
    },
    "papermill": {
     "duration": 116.282996,
     "end_time": "2022-11-14T02:08:33.098681",
     "exception": false,
     "start_time": "2022-11-14T02:06:36.815685",
     "status": "completed"
    },
    "tags": []
   },
   "outputs": [
    {
     "name": "stdout",
     "output_type": "stream",
     "text": [
      "Find anchors across datasets.\n",
      "Run CCA\n",
      "non zero dims 50\n",
      "Find Anchors using k=30\n",
      "Score Anchors\n",
      "Identified 28506 anchors between datasets 0 and 1.\n"
     ]
    }
   ],
   "source": [
    "anchor = integrator.find_anchor(adata_list,\n",
    "                                k_local=None,\n",
    "                                key_local='X_pca',\n",
    "                                k_anchor=5,\n",
    "                                key_anchor='X',\n",
    "                                dim_red='cca',\n",
    "                                max_cc_cells=50000,\n",
    "                                k_score=30,\n",
    "                                k_filter=None,\n",
    "                                scale1=False,\n",
    "                                scale2=True,\n",
    "                                #scale =[False, True]\n",
    "                                n_components=ncc,\n",
    "                                n_features=200,\n",
    "                                alignments=[[[0], [1]]])\n"
   ]
  },
  {
   "cell_type": "code",
   "execution_count": 8,
   "id": "63c10788",
   "metadata": {
    "execution": {
     "iopub.execute_input": "2022-11-24T00:03:56.548461Z",
     "iopub.status.busy": "2022-11-24T00:03:56.548171Z",
     "iopub.status.idle": "2022-11-24T00:04:44.450377Z",
     "shell.execute_reply": "2022-11-24T00:04:44.449200Z",
     "shell.execute_reply.started": "2022-11-24T00:03:56.548439Z"
    },
    "papermill": {
     "duration": 15.315874,
     "end_time": "2022-11-14T02:08:48.419571",
     "exception": false,
     "start_time": "2022-11-14T02:08:33.103697",
     "status": "completed"
    },
    "tags": []
   },
   "outputs": [
    {
     "name": "stdout",
     "output_type": "stream",
     "text": [
      "Merge datasets\n",
      "[[0], [1]]\n",
      "Initialize\n",
      "Find nearest anchors. k_weight:  100\n",
      "Normalize graph\n",
      "Transform data\n",
      "47.89653944969177\n"
     ]
    }
   ],
   "source": [
    "start_time = time.time()\n",
    "corrected = integrator.integrate(key_correct='X_pca',\n",
    "                                 row_normalize=True,\n",
    "                                 n_components=npc,\n",
    "                                 k_weight=100,\n",
    "                                 sd=1,\n",
    "                                 alignments=[[[0], [1]]])\n",
    "\n",
    "print(time.time() - start_time)\n"
   ]
  },
  {
   "cell_type": "code",
   "execution_count": 9,
   "id": "bb6ddc1f-c667-4c55-b44a-d4307524faa9",
   "metadata": {
    "execution": {
     "iopub.execute_input": "2022-11-24T00:04:44.452904Z",
     "iopub.status.busy": "2022-11-24T00:04:44.451814Z",
     "iopub.status.idle": "2022-11-24T00:04:47.282937Z",
     "shell.execute_reply": "2022-11-24T00:04:47.281909Z",
     "shell.execute_reply.started": "2022-11-24T00:04:44.452862Z"
    },
    "papermill": {
     "duration": 2.843119,
     "end_time": "2022-11-14T02:08:51.267261",
     "exception": false,
     "start_time": "2022-11-14T02:08:48.424142",
     "status": "completed"
    },
    "tags": []
   },
   "outputs": [],
   "source": [
    "qry_adata.obsm['X_pca_corrected'] = normalize(corrected[1], axis=1)\n",
    "qry_adata.write_h5ad(f'{t}_{qry_adata.shape[0]}_rna.h5ad')\n"
   ]
  },
  {
   "cell_type": "code",
   "execution_count": 10,
   "id": "726bc1c6",
   "metadata": {
    "execution": {
     "iopub.execute_input": "2022-11-24T00:04:47.284680Z",
     "iopub.status.busy": "2022-11-24T00:04:47.284347Z",
     "iopub.status.idle": "2022-11-24T00:04:47.294856Z",
     "shell.execute_reply": "2022-11-24T00:04:47.293809Z",
     "shell.execute_reply.started": "2022-11-24T00:04:47.284654Z"
    },
    "papermill": {
     "duration": 0.114874,
     "end_time": "2022-11-14T02:08:51.386036",
     "exception": false,
     "start_time": "2022-11-14T02:08:51.271162",
     "status": "completed"
    },
    "tags": []
   },
   "outputs": [],
   "source": [
    "integrator.save(f'{t}_integration_rs1_rna')\n"
   ]
  },
  {
   "cell_type": "markdown",
   "id": "d4f77a28",
   "metadata": {
    "papermill": {
     "duration": 0.003475,
     "end_time": "2022-11-14T02:08:51.393332",
     "exception": false,
     "start_time": "2022-11-14T02:08:51.389857",
     "status": "completed"
    },
    "tags": []
   },
   "source": [
    "# Integrate RS1 mC and RS2 EpiRetro"
   ]
  },
  {
   "cell_type": "code",
   "execution_count": 11,
   "id": "bf2648ad",
   "metadata": {
    "execution": {
     "iopub.execute_input": "2022-11-24T00:04:47.298017Z",
     "iopub.status.busy": "2022-11-24T00:04:47.297326Z",
     "iopub.status.idle": "2022-11-24T00:04:47.399424Z",
     "shell.execute_reply": "2022-11-24T00:04:47.396963Z",
     "shell.execute_reply.started": "2022-11-24T00:04:47.297969Z"
    },
    "papermill": {
     "duration": 0.008512,
     "end_time": "2022-11-14T02:08:51.405302",
     "exception": false,
     "start_time": "2022-11-14T02:08:51.396790",
     "status": "completed"
    },
    "tags": []
   },
   "outputs": [],
   "source": [
    "integrator = SeuratIntegration()"
   ]
  },
  {
   "cell_type": "code",
   "execution_count": 12,
   "id": "2339fbfe",
   "metadata": {
    "execution": {
     "iopub.execute_input": "2022-11-24T00:04:47.403148Z",
     "iopub.status.busy": "2022-11-24T00:04:47.402208Z",
     "iopub.status.idle": "2022-11-24T00:04:47.737672Z",
     "shell.execute_reply": "2022-11-24T00:04:47.736857Z",
     "shell.execute_reply.started": "2022-11-24T00:04:47.403047Z"
    },
    "papermill": {
     "duration": 0.164113,
     "end_time": "2022-11-14T02:08:51.572848",
     "exception": false,
     "start_time": "2022-11-14T02:08:51.408735",
     "status": "completed"
    },
    "tags": []
   },
   "outputs": [
    {
     "data": {
      "text/plain": [
       "[AnnData object with n_obs × n_vars = 12546 × 3402\n",
       "     obs: 'mCCCFrac', 'mCGFrac', 'mCHFrac', 'FinalmCReads', 'DissectionRegion', 'Plate', 'Col384', 'Row384', 'Slice', 'Sample', 'Technology', 'InputReads', 'PassBasicQC', 'PlateNormCov', 'CEMBARegion', 'MajorRegion', 'SubRegion', 'L1', 'L1_annot', 'L4', 'L4Region', 'L2_annot', 'Train'\n",
       "     var: 'chrom', 'cov_mean', 'end', 'start', 'L4_enriched_features'\n",
       "     uns: 'L4_feature_enrichment', 'log'\n",
       "     obsm: 'cef_pca', 'X_pca',\n",
       " AnnData object with n_obs × n_vars = 198 × 3402\n",
       "     obs: 'mCCCFrac', 'mCGFrac', 'mCHFrac', 'FinalmCReads', 'Plate', 'Exp', 'Source', 'Slice', 'Target', 'Gender', 'L1', 'L2', 'L3', 'L4', 'L1_annot', 'PlateNormReads'\n",
       "     var: 'chrom', 'end', 'start', '_feature_select'\n",
       "     uns: 'log'\n",
       "     obsm: 'cef_pca', 'X_pca']"
      ]
     },
     "execution_count": 12,
     "metadata": {},
     "output_type": "execute_result"
    }
   ],
   "source": [
    "ref_adata = anndata.read_h5ad(glob.glob(f'{t}_*_rs1_mch.h5ad')[0])\n",
    "qry_adata = anndata.read_h5ad(glob.glob(f'{t}_*_rs2_mch.h5ad')[0])\n",
    "\n",
    "adata_list = [ref_adata, qry_adata]\n",
    "for xx in adata_list:\n",
    "    xx.obsm['X_pca'] = normalize(xx.obsm['cef_pca'][:, :npc], axis=1)\n",
    "\n",
    "adata_list"
   ]
  },
  {
   "cell_type": "code",
   "execution_count": 13,
   "id": "33d7aa60",
   "metadata": {
    "execution": {
     "iopub.execute_input": "2022-11-24T00:04:47.739114Z",
     "iopub.status.busy": "2022-11-24T00:04:47.738875Z",
     "iopub.status.idle": "2022-11-24T00:04:57.882888Z",
     "shell.execute_reply": "2022-11-24T00:04:57.881750Z",
     "shell.execute_reply.started": "2022-11-24T00:04:47.739091Z"
    },
    "papermill": {
     "duration": 8.38076,
     "end_time": "2022-11-14T02:08:59.957624",
     "exception": false,
     "start_time": "2022-11-14T02:08:51.576864",
     "status": "completed"
    },
    "tags": []
   },
   "outputs": [
    {
     "name": "stdout",
     "output_type": "stream",
     "text": [
      "Find anchors across datasets.\n",
      "Run rPCA\n",
      "Score Anchors\n",
      "Identified 336 anchors between datasets 0 and 1.\n",
      "10.138026237487793\n"
     ]
    }
   ],
   "source": [
    "start_time = time.time()\n",
    "anchor = integrator.find_anchor(adata_list,\n",
    "                                k_local=None,\n",
    "                                key_local='X_pca',\n",
    "                                k_anchor=5,\n",
    "                                key_anchor='X',\n",
    "                                dim_red='rpca',\n",
    "                                max_cc_cells=100000,\n",
    "                                k_score=30,\n",
    "                                scale1=False,\n",
    "                                scale2=False,\n",
    "                                n_components=npc,\n",
    "                                n_features=200,\n",
    "                                alignments=[[[0], [1]]])\n",
    "print(time.time() - start_time)\n"
   ]
  },
  {
   "cell_type": "code",
   "execution_count": 14,
   "id": "316ece3e",
   "metadata": {
    "execution": {
     "iopub.execute_input": "2022-11-24T00:04:57.884398Z",
     "iopub.status.busy": "2022-11-24T00:04:57.884102Z",
     "iopub.status.idle": "2022-11-24T00:05:01.475278Z",
     "shell.execute_reply": "2022-11-24T00:05:01.474258Z",
     "shell.execute_reply.started": "2022-11-24T00:04:57.884372Z"
    },
    "papermill": {
     "duration": 3.113523,
     "end_time": "2022-11-14T02:09:03.075821",
     "exception": false,
     "start_time": "2022-11-14T02:08:59.962298",
     "status": "completed"
    },
    "tags": []
   },
   "outputs": [
    {
     "name": "stdout",
     "output_type": "stream",
     "text": [
      "Merge datasets\n",
      "[[0], [1]]\n",
      "Initialize\n",
      "Find nearest anchors. k_weight:  100\n",
      "Normalize graph\n",
      "Transform data\n",
      "3.5855557918548584\n"
     ]
    }
   ],
   "source": [
    "start_time = time.time()\n",
    "corrected = integrator.integrate(key_correct='X_pca',\n",
    "                                 row_normalize=True,\n",
    "                                 n_components=npc,\n",
    "                                 k_weight=100,\n",
    "                                 sd=1,\n",
    "                                 alignments=[[[0], [1]]])\n",
    "\n",
    "print(time.time() - start_time)\n"
   ]
  },
  {
   "cell_type": "code",
   "execution_count": 15,
   "id": "4f54e542-5ae8-49f4-adb2-db662e42b7c5",
   "metadata": {
    "execution": {
     "iopub.execute_input": "2022-11-24T00:05:01.476830Z",
     "iopub.status.busy": "2022-11-24T00:05:01.476490Z",
     "iopub.status.idle": "2022-11-24T00:05:01.536328Z",
     "shell.execute_reply": "2022-11-24T00:05:01.535504Z",
     "shell.execute_reply.started": "2022-11-24T00:05:01.476796Z"
    },
    "papermill": {
     "duration": 0.055908,
     "end_time": "2022-11-14T02:09:03.135859",
     "exception": false,
     "start_time": "2022-11-14T02:09:03.079951",
     "status": "completed"
    },
    "tags": []
   },
   "outputs": [],
   "source": [
    "qry_adata.obsm['X_pca_corrected'] = normalize(corrected[1], axis=1)\n",
    "qry_adata.write_h5ad(f'{t}_{qry_adata.shape[0]}_rs2_mch.h5ad')\n"
   ]
  },
  {
   "cell_type": "code",
   "execution_count": 16,
   "id": "5f6a82ee-5790-45c0-8f01-f693287a2dec",
   "metadata": {
    "execution": {
     "iopub.execute_input": "2022-11-24T00:05:01.537508Z",
     "iopub.status.busy": "2022-11-24T00:05:01.537285Z",
     "iopub.status.idle": "2022-11-24T00:05:01.544497Z",
     "shell.execute_reply": "2022-11-24T00:05:01.543738Z",
     "shell.execute_reply.started": "2022-11-24T00:05:01.537489Z"
    },
    "papermill": {
     "duration": 0.010957,
     "end_time": "2022-11-14T02:09:03.151082",
     "exception": false,
     "start_time": "2022-11-14T02:09:03.140125",
     "status": "completed"
    },
    "tags": []
   },
   "outputs": [],
   "source": [
    "integrator.save(f'{t}_integration_rs1_rs2')\n"
   ]
  },
  {
   "cell_type": "code",
   "execution_count": null,
   "id": "287f3458-1b08-4189-9d90-c4b5cc2843aa",
   "metadata": {
    "papermill": {
     "duration": 0.003926,
     "end_time": "2022-11-14T02:09:03.158938",
     "exception": false,
     "start_time": "2022-11-14T02:09:03.155012",
     "status": "completed"
    },
    "tags": []
   },
   "outputs": [],
   "source": []
  }
 ],
 "metadata": {
  "celltoolbar": "Tags",
  "kernelspec": {
   "display_name": "Python 3 (ipykernel)",
   "language": "python",
   "name": "python3"
  },
  "language_info": {
   "codemirror_mode": {
    "name": "ipython",
    "version": 3
   },
   "file_extension": ".py",
   "mimetype": "text/x-python",
   "name": "python",
   "nbconvert_exporter": "python",
   "pygments_lexer": "ipython3",
   "version": "3.7.12"
  },
  "papermill": {
   "default_parameters": {},
   "duration": 155.460747,
   "end_time": "2022-11-14T02:09:04.282323",
   "environment_variables": {},
   "exception": null,
   "input_path": "/home/jzhou_salk_edu/sky_workdir/region_integration/notebooks/05.integrate_and_transfer.ipynb",
   "output_path": "STR/05.integrate_and_transfer.ipynb",
   "parameters": {
    "cpu": 1,
    "group_name": "STR",
    "mem_gb": 1
   },
   "start_time": "2022-11-14T02:06:28.821576",
   "version": "2.3.4"
  }
 },
 "nbformat": 4,
 "nbformat_minor": 5
}
